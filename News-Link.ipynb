{
  "cells": [
    {
      "cell_type": "markdown",
      "metadata": {
        "collapsed": false,
        "id": "l9k4nvPt6ttU"
      },
      "source": [
        "<div dir=\"auto\" align=\"center\">\n",
        "    <h3>\n",
        "        بسم الله الرحمن الرحیم\n",
        "    </h3>\n",
        "    <br>\n",
        "    <h1>\n",
        "        <strong>\n",
        "            بازیابی پیشرفته اطلاعات\n",
        "        </strong>\n",
        "    </h1>\n",
        "    <h2>\n",
        "        <strong>\n",
        "            تمرین چهارم (دسته‌بندی اخبار)\n",
        "        </strong>\n",
        "    </h2>\n",
        "    <br>\n",
        "    <h3>\n",
        "        محمد هجری - ٩٨١٠٦١٥٦\n",
        "        <br><br>\n",
        "        ارشان دلیلی - ٩٨١٠٥٧٥١\n",
        "        <br><br>\n",
        "        سروش جهان‌زاد - ٩٨١٠٠٣٨٩\n",
        "    </h3>\n",
        "    <br>\n",
        "</div>\n",
        "<hr>"
      ]
    },
    {
      "cell_type": "markdown",
      "metadata": {
        "collapsed": false,
        "id": "bDy59Vhk6ttY"
      },
      "source": [
        "<div>\n",
        "    <h3 style='direction:rtl;text-align:justify;'>\n",
        "        دسترسی به داده‌ها و مدل‌های ذخیره شده\n",
        "    </h3>\n",
        "</div>\n",
        "\n",
        "<div dir=\"auto\" align=\"justify\">\n",
        "    <p style='direction:rtl;text-align:justify;'>\n",
        "        به دلیل حجم بالای فایل‌های ذخیره شده، از قرار دادن آن‌ها در پوشه نوتبوک صرف نظر کرده و با اجرای قطعه کد زیر، از طریق گوگل درایو به آن‌ها دسترسی پیدا می‌کنیم.\n",
        "    </p>\n",
        "</div>"
      ]
    },
    {
      "cell_type": "code",
      "execution_count": 1,
      "metadata": {
        "colab": {
          "base_uri": "https://localhost:8080/"
        },
        "id": "gXmeQEW66ttZ",
        "outputId": "b2b8b5b4-b661-4ede-9296-a44dbb63c663",
        "pycharm": {
          "name": "#%%\n"
        }
      },
      "outputs": [],
      "source": [
        "# import sys\n",
        "# from google.colab import drive\n",
        "# drive.mount('/content/drive')\n",
        "# address = \"University/Term 6/MIR/Homeworks/HW3\"\n",
        "# sys.path.append(f\"/content/drive/My Drive/{address}\")\n",
        "# %cd /content/drive/My\\ Drive/$address"
      ]
    },
    {
      "cell_type": "markdown",
      "metadata": {
        "collapsed": false,
        "id": "Uhyo5mtc6tta"
      },
      "source": [
        "<div>\n",
        "    <h3 style='direction:rtl;text-align:justify;'>\n",
        "        نصب و دسترسی به کتابخانه‌های مورد نیاز\n",
        "    </h3>\n",
        "</div>\n",
        "\n",
        "<div dir=\"auto\" align=\"justify\">\n",
        "    <p style='direction:rtl;text-align:justify;'>\n",
        "        با اجرای دو قطعه کد زیر، کتابخانه‌هایی که از آن‌ها در این تمرین استفاده شده است، نصب و قابل استفاده می‌شوند.\n",
        "    </p>\n",
        "</div>"
      ]
    },
    {
      "cell_type": "code",
      "execution_count": null,
      "metadata": {
        "colab": {
          "base_uri": "https://localhost:8080/"
        },
        "id": "5DJqkFOY6tta",
        "outputId": "6afc9c50-6b3c-4009-8537-1e940ae2be47",
        "pycharm": {
          "name": "#%%\n"
        }
      },
      "outputs": [],
      "source": [
        "! pip install bs4\n",
        "! pip install tqdm\n",
        "! pip install pandas\n",
        "! pip install requests\n",
        "! pip install hazm\n",
        "! pip install unidecode\n",
        "! pip install datasets\n",
        "! pip install scikit-learn\n",
        "! pip install nltk\n",
        "! pip install networkx"
      ]
    },
    {
      "cell_type": "code",
      "execution_count": 1,
      "metadata": {
        "id": "bs5P-S4T6ttb",
        "pycharm": {
          "name": "#%%\n"
        }
      },
      "outputs": [],
      "source": [
        "import os\n",
        "import re\n",
        "import csv\n",
        "import hazm\n",
        "import nltk\n",
        "import json\n",
        "import torch\n",
        "import pickle\n",
        "import zipfile\n",
        "import requests\n",
        "import numpy as np\n",
        "import pandas as pd\n",
        "import networkx as nx\n",
        "from tqdm import tqdm\n",
        "from pathlib import Path\n",
        "from datasets import Dataset\n",
        "from bs4 import BeautifulSoup\n",
        "from string import punctuation\n",
        "from IPython.display import display\n",
        "from sklearn.linear_model import LogisticRegression\n",
        "from sklearn.model_selection import train_test_split\n",
        "from sklearn.metrics import f1_score, confusion_matrix\n",
        "from sklearn.feature_extraction.text import TfidfVectorizer, CountVectorizer\n",
        "from sklearn.preprocessing import normalize\n"
      ]
    },
    {
      "cell_type": "markdown",
      "metadata": {
        "collapsed": false,
        "id": "HlgX1wDm6ttb"
      },
      "source": [
        "<div>\n",
        "    <h3 style='direction:rtl;text-align:justify;'>\n",
        "        ١. دریافت داده‌ها\n",
        "    </h3>\n",
        "</div>\n",
        "\n",
        "<div dir=\"auto\" align=\"justify\">\n",
        "    <p style='direction:rtl;text-align:justify;'>\n",
        "        در این تمرین، بیش از ٦٨ هزار خبر از\n",
        "        <a href=\"https://www.hamshahrionline.ir/\"> وب‌سایت همشهری‌آنلاین </a>\n",
        "        گردآوری شده که در ١٠ دسته‌ی سیاسی، جهانی، اقتصادی، اجتماعی، شهری، ورزشی، علمی، فرهنگی، فناوری اطلاعات و مهارت‌های زندگی طبقه‌بندی شده‌اند.\n",
        "    </p>\n",
        "</div>"
      ]
    },
    {
      "cell_type": "code",
      "execution_count": 2,
      "metadata": {
        "id": "TFclx23L6ttc",
        "pycharm": {
          "name": "#%%\n"
        }
      },
      "outputs": [],
      "source": [
        "CATEGORIES = {\n",
        "    'Politics': 'سیاسی',\n",
        "    'World': 'جهانی',\n",
        "    'Economy': 'اقتصادی',\n",
        "    'Society': 'اجتماعی',\n",
        "    'City': 'شهری',\n",
        "    'Sport': 'ورزشی',\n",
        "    'Science': 'علمی',\n",
        "    'Culture': 'فرهنگی',\n",
        "    'IT': 'فناوری اطلاعات',\n",
        "    'LifeSkills': 'مهارت‌های زندگی',\n",
        "}\n",
        "\n",
        "CATEGORIES_CLASSES = {\n",
        "    'Politics': 0,\n",
        "    'World': 1,\n",
        "    'Economy': 2,\n",
        "    'Society': 3,\n",
        "    'City': 4,\n",
        "    'Sport': 5,\n",
        "    'Science': 6,\n",
        "    'Culture': 7,\n",
        "    'IT': 8,\n",
        "    'LifeSkills': 9,\n",
        "}\n",
        "\n",
        "CLASSES_CATEGORIES = {v: k for k, v in CATEGORIES_CLASSES.items()}"
      ]
    },
    {
      "cell_type": "markdown",
      "metadata": {
        "collapsed": false,
        "id": "DgNCrnH56ttd"
      },
      "source": [
        "<div dir=\"auto\" align=\"justify\">\n",
        "    <p style='direction:rtl;text-align:justify;'>\n",
        "        برای دریافت داده‌ها یک ماژول Scraper ساخته‌ایم که اخبار مربوط به ١٠ دسته‌ی مذکور را در بازه‌ی زمانی تعیین شده، کراول کرده و در فایل dataset.zip ذخیره و فشرده سازی می‌کند. کد مربوط به این ماژول را در زیر مشاهده می‌کنید.\n",
        "    </p>\n",
        "</div>"
      ]
    },
    {
      "cell_type": "code",
      "execution_count": 3,
      "metadata": {
        "id": "fVKQF6R36ttd",
        "pycharm": {
          "name": "#%%\n"
        }
      },
      "outputs": [],
      "source": [
        "class Scraper:\n",
        "\n",
        "    def __init__(self, current_year, current_month):\n",
        "        self.current_year = current_year\n",
        "        self.current_month = current_month\n",
        "\n",
        "    def get_URL_content(self, URL):\n",
        "        while True:\n",
        "            try:\n",
        "                return requests.get(URL, timeout=5).content\n",
        "            except:\n",
        "                pass\n",
        "\n",
        "    def generate_page_URL(self, page_index, category, year, month):\n",
        "        tp = {'Politics': 6, 'World': 11, 'Economy': 10, 'Society': 5, 'City': 7,\n",
        "              'Sport': 9, 'Science': 20, 'Culture': 26, 'IT': 718, 'LifeSkills': 21}[category]\n",
        "        return f'https://www.hamshahrionline.ir/archive?pi={page_index}&tp={tp}&ty=1&ms=0&mn={month}&yr={year}'\n",
        "\n",
        "    def get_page_URLs_by_time(self, category, year, month):\n",
        "        URLs = []\n",
        "        page_index = 1\n",
        "        while True:\n",
        "            URL = self.generate_page_URL(page_index, category, year, month)\n",
        "            content = self.get_URL_content(URL)\n",
        "            if re.findall('pagination', str(content)):\n",
        "                URLs.append(URL)\n",
        "                page_index += 1\n",
        "            else:\n",
        "                break\n",
        "        return URLs\n",
        "\n",
        "    def get_page_URLs_since(self, category, year, month):\n",
        "        URLs = []\n",
        "        with tqdm() as pbar:\n",
        "            while True:\n",
        "                if month > 12:\n",
        "                    month = 1\n",
        "                    year += 1\n",
        "                pbar.set_description(f'[{category}] [Extracting page URLs] [Date: {year}/{month}]')\n",
        "                URLs_by_time = self.get_page_URLs_by_time(category, year, month)\n",
        "                if URLs_by_time:\n",
        "                    for URL in URLs_by_time:\n",
        "                        URLs.append(URL)\n",
        "                    month += 1\n",
        "                elif self.current_year > year or (self.current_year == year and self.current_month > month):\n",
        "                    month += 1\n",
        "                else:\n",
        "                    break\n",
        "        return URLs\n",
        "\n",
        "    def get_news_URLs_since(self, category, year, month):\n",
        "        news_URLs = []\n",
        "        page_URLs = self.get_page_URLs_since(category, year, month)\n",
        "        with tqdm(page_URLs) as pbar:\n",
        "            for page_URL in pbar:\n",
        "                content = self.get_URL_content(page_URL)\n",
        "                soup = BeautifulSoup(content, 'html5lib')\n",
        "                for item in soup.findAll('li', attrs={'class': 'news'}):\n",
        "                    URL = item.find('div', attrs={'class': 'desc'}).find('h3').find('a')['href']\n",
        "                    URL = 'https://www.hamshahrionline.ir' + URL\n",
        "                    news_URLs.append(URL)\n",
        "                pbar.set_description(f'[{category}] [Extracting news URLs] [{len(news_URLs)} news until now]')\n",
        "        return news_URLs\n",
        "\n",
        "    def parse_news(self, URL, category):\n",
        "        try:\n",
        "            content = self.get_URL_content(URL)\n",
        "            soup = BeautifulSoup(content, 'html.parser')\n",
        "            date = soup.find('div', {'class': 'col-6 col-sm-4 col-xl-4 item-date'}).span.text.strip()\n",
        "            title = soup.find('div', {'class': 'item-title'}).h1.text.strip()\n",
        "            intro = soup.find('p', {'class': 'introtext', 'itemprop': 'description'}).text.strip()\n",
        "            body = soup.find('div', {'class': 'item-text', 'itemprop': 'articleBody'}).text.strip()\n",
        "            return {\n",
        "                'date': date,\n",
        "                'title': title,\n",
        "                'intro': intro,\n",
        "                'body': body,\n",
        "                'category': category,\n",
        "            }\n",
        "        except:\n",
        "            return None\n",
        "\n",
        "    def scrape(self, from_year, from_month):\n",
        "        categories = ['Politics', 'World', 'Economy', 'Society', 'City',\n",
        "                      'Sport', 'Science', 'Culture', 'IT', 'LifeSkills']\n",
        "        news = []\n",
        "        for category in categories:\n",
        "            URLs = self.get_news_URLs_since(category, from_year, from_month)\n",
        "            with tqdm(URLs) as pbar:\n",
        "                pbar.set_description(f'[{category}] [Scraping news]')\n",
        "                for URL in pbar:\n",
        "                    news.append(self.parse_news(URL, category))\n",
        "        news = list(filter(None, news))\n",
        "        pd.DataFrame(news).to_csv(f'dataset.csv', encoding='utf-8')\n",
        "        with zipfile.ZipFile('dataset.zip', 'w', zipfile.ZIP_DEFLATED) as zip_file:\n",
        "            zip_file.write('dataset.csv')\n",
        "        os.remove('dataset.csv')"
      ]
    },
    {
      "cell_type": "markdown",
      "metadata": {
        "collapsed": false,
        "id": "Cx3Sl-iS6tte"
      },
      "source": [
        "<div dir=\"auto\" align=\"justify\">\n",
        "    <p style='direction:rtl;text-align:justify;'>\n",
        "        با اجرای قطعه کد زیر، یک instance از ماژول Scraper ایجاد شده و شروع به دریافت و ذخیره‌سازی داده‌ها می‌کند. خبرهای دریافت شده همگی مربوط به قرن جدید، از سال ١٤٠٠ به بعد هستند.\n",
        "    </p>\n",
        "</div>"
      ]
    },
    {
      "cell_type": "code",
      "execution_count": 4,
      "metadata": {
        "id": "fc5LA2wh6ttf",
        "pycharm": {
          "name": "#%%\n"
        }
      },
      "outputs": [],
      "source": [
        "scraper = Scraper(current_year=1401, current_month=3)\n",
        "#scraper.scrape(from_year=1400, from_month=1)"
      ]
    },
    {
      "cell_type": "markdown",
      "metadata": {
        "collapsed": false,
        "id": "5kMts6qe6ttf"
      },
      "source": [
        "<div dir=\"auto\" align=\"justify\">\n",
        "    <p style='direction:rtl;text-align:justify;'>\n",
        "        بعد از ذخیره شدن داده‌ها در فایل فشرده dataset.zip، آن‌ها را از این فایل استخراج کرده و وارد برنامه می‌کنیم. با اجرای قطعه کد زیر، تعداد خبرهای هر دسته و تعداد کل خبرها را می‌توان مشاهده کرد.\n",
        "    </p>\n",
        "</div>"
      ]
    },
    {
      "cell_type": "code",
      "execution_count": 5,
      "metadata": {
        "id": "HuoWmM7P6ttf",
        "pycharm": {
          "name": "#%%\n"
        }
      },
      "outputs": [],
      "source": [
        "def read_dataset_from_file():\n",
        "    dataset = []\n",
        "    with zipfile.ZipFile('dataset.zip', 'r') as zip_file:\n",
        "        zip_file.extractall()\n",
        "    with open('dataset.csv', encoding='utf-8') as file:\n",
        "        csv_reader = csv.reader(file)\n",
        "        header = next(csv_reader)\n",
        "        for row in csv_reader:\n",
        "            data = dict(zip(header[1:], row[1:]))\n",
        "            dataset.append(data)\n",
        "    os.remove('dataset.csv')\n",
        "    return dataset\n",
        "\n",
        "\n",
        "dataset = pd.DataFrame(read_dataset_from_file())"
      ]
    },
    {
      "cell_type": "markdown",
      "metadata": {
        "collapsed": false,
        "id": "SQOAtgLY6ttf"
      },
      "source": [
        "<div dir=\"auto\" align=\"justify\">\n",
        "    <p style='direction:rtl;text-align:justify;'>\n",
        "    با اجرای قطعه کد زیر، تعداد خبرهای هر دسته و تعداد کل خبرها را می‌توان مشاهده کرد.\n",
        "    </p>\n",
        "</div>"
      ]
    },
    {
      "cell_type": "code",
      "execution_count": 6,
      "metadata": {
        "colab": {
          "base_uri": "https://localhost:8080/",
          "height": 394
        },
        "id": "HIkDaiJC6ttg",
        "outputId": "4787e3e6-e43a-4431-8a10-93e340b8b2ce",
        "pycharm": {
          "name": "#%%\n"
        }
      },
      "outputs": [
        {
          "data": {
            "text/html": [
              "<div>\n",
              "<style scoped>\n",
              "    .dataframe tbody tr th:only-of-type {\n",
              "        vertical-align: middle;\n",
              "    }\n",
              "\n",
              "    .dataframe tbody tr th {\n",
              "        vertical-align: top;\n",
              "    }\n",
              "\n",
              "    .dataframe thead th {\n",
              "        text-align: right;\n",
              "    }\n",
              "</style>\n",
              "<table border=\"1\" class=\"dataframe\">\n",
              "  <thead>\n",
              "    <tr style=\"text-align: right;\">\n",
              "      <th></th>\n",
              "      <th>دسته</th>\n",
              "      <th>تعداد</th>\n",
              "    </tr>\n",
              "  </thead>\n",
              "  <tbody>\n",
              "    <tr>\n",
              "      <th>0</th>\n",
              "      <td>کل خبرها</td>\n",
              "      <td>68362</td>\n",
              "    </tr>\n",
              "    <tr>\n",
              "      <th>1</th>\n",
              "      <td>سیاسی</td>\n",
              "      <td>15798</td>\n",
              "    </tr>\n",
              "    <tr>\n",
              "      <th>2</th>\n",
              "      <td>جهانی</td>\n",
              "      <td>2895</td>\n",
              "    </tr>\n",
              "    <tr>\n",
              "      <th>3</th>\n",
              "      <td>اقتصادی</td>\n",
              "      <td>8900</td>\n",
              "    </tr>\n",
              "    <tr>\n",
              "      <th>4</th>\n",
              "      <td>اجتماعی</td>\n",
              "      <td>13585</td>\n",
              "    </tr>\n",
              "    <tr>\n",
              "      <th>5</th>\n",
              "      <td>شهری</td>\n",
              "      <td>3853</td>\n",
              "    </tr>\n",
              "    <tr>\n",
              "      <th>6</th>\n",
              "      <td>ورزشی</td>\n",
              "      <td>8348</td>\n",
              "    </tr>\n",
              "    <tr>\n",
              "      <th>7</th>\n",
              "      <td>علمی</td>\n",
              "      <td>3190</td>\n",
              "    </tr>\n",
              "    <tr>\n",
              "      <th>8</th>\n",
              "      <td>فرهنگی</td>\n",
              "      <td>6512</td>\n",
              "    </tr>\n",
              "    <tr>\n",
              "      <th>9</th>\n",
              "      <td>فناوری اطلاعات</td>\n",
              "      <td>437</td>\n",
              "    </tr>\n",
              "    <tr>\n",
              "      <th>10</th>\n",
              "      <td>مهارت‌های زندگی</td>\n",
              "      <td>4844</td>\n",
              "    </tr>\n",
              "  </tbody>\n",
              "</table>\n",
              "</div>"
            ],
            "text/plain": [
              "               دسته  تعداد\n",
              "0          کل خبرها  68362\n",
              "1             سیاسی  15798\n",
              "2             جهانی   2895\n",
              "3           اقتصادی   8900\n",
              "4           اجتماعی  13585\n",
              "5              شهری   3853\n",
              "6             ورزشی   8348\n",
              "7              علمی   3190\n",
              "8            فرهنگی   6512\n",
              "9    فناوری اطلاعات    437\n",
              "10  مهارت‌های زندگی   4844"
            ]
          },
          "metadata": {},
          "output_type": "display_data"
        }
      ],
      "source": [
        "def display_dataset_info():\n",
        "    global CATEGORIES, dataset\n",
        "\n",
        "    length_dict = {key: 0 for key in CATEGORIES.keys()}\n",
        "    for _, data in dataset.iterrows():\n",
        "        length_dict[data['category']] += 1\n",
        "\n",
        "    df_dict = {\n",
        "        'دسته': CATEGORIES.values(),\n",
        "        'تعداد': length_dict.values(),\n",
        "    }\n",
        "\n",
        "    df = pd.DataFrame(df_dict)\n",
        "    df.index += 1\n",
        "    df.loc[0] = ['کل خبرها', len(dataset)]\n",
        "    df = df.sort_index()\n",
        "    display(df)\n",
        "\n",
        "\n",
        "display_dataset_info()"
      ]
    },
    {
      "cell_type": "markdown",
      "metadata": {
        "collapsed": false,
        "id": "YuwgMYpB6ttg"
      },
      "source": [
        "<div>\n",
        "    <h3 style='direction:rtl;text-align:justify;'>\n",
        "        ٢. پیش پردازش اولیه‌ی متن\n",
        "    </h3>\n",
        "</div>\n",
        "\n",
        "<div dir=\"auto\" align=\"justify\">\n",
        "    <p style='direction:rtl;text-align:justify;'>\n",
        "        ابزار مورد استفاده برای پیش‌پردازش متن ورودی به صورت ماژولار طراحی شده است؛ به طوری که با صدا زدن تابع preprocess از آن، متن داده شده با عبور از یک خط لوله به صورت مرحله به مرحله تغییر می‌کند تا به یک ساختار استاندارد برسد. این مراحل عبارتند از:\n",
        "    </p>\n",
        "</div>\n",
        "\n",
        "<div dir=\"auto\" align=\"justify\">\n",
        "    <li style='direction:rtl;text-align:justify;'>\n",
        "        نرمال سازی داده‌ها (normalize)\n",
        "    </li>\n",
        "    <li style='direction:rtl;text-align:justify;'>\n",
        "        حذف لینک‌ها (remove_links)\n",
        "    </li>\n",
        "    <li style='direction:rtl;text-align:justify;'>\n",
        "        حذف نشانه‌های نگارشی (remove_punctuations)\n",
        "    </li>\n",
        "    <li style='direction:rtl;text-align:justify;'>\n",
        "        واحد سازی داده‌ها (word_tokenize)\n",
        "    </li>\n",
        "    <li style='direction:rtl;text-align:justify;'>\n",
        "        حذف کلمات نامعتبر (remove_invalid_words)\n",
        "    </li>\n",
        "    <li style='direction:rtl;text-align:justify;'>\n",
        "        حذف ایست‌واژه‌ها (remove_stopwords)\n",
        "    </li>\n",
        "</div>"
      ]
    },
    {
      "cell_type": "code",
      "execution_count": 7,
      "metadata": {
        "id": "phcZ2s706ttg",
        "pycharm": {
          "name": "#%%\n"
        }
      },
      "outputs": [],
      "source": [
        "class Preprocessor:\n",
        "\n",
        "    def __init__(self, stopwords_path):\n",
        "        self.stopwords = []\n",
        "        with open(stopwords_path, encoding='utf-8') as file:\n",
        "            self.stopwords = file.read().split()\n",
        "\n",
        "    def preprocess(self, text):\n",
        "        text = self.normalize(text)\n",
        "        text = self.remove_links(text)\n",
        "        text = self.remove_punctuations(text)\n",
        "        words = self.word_tokenize(text)\n",
        "        words = self.remove_invalid_words(words)\n",
        "        words = self.remove_stopwords(words)\n",
        "        return words\n",
        "\n",
        "    def normalize(self, text):\n",
        "        return hazm.Normalizer().normalize(text)\n",
        "\n",
        "    def remove_links(self, text):\n",
        "        patterns = ['\\S*http\\S*', '\\S*www\\S*', '\\S+\\.ir\\S*', '\\S+\\.com\\S*', '\\S+\\.org\\S*', '\\S*@\\S*']\n",
        "        for pattern in patterns:\n",
        "            text = re.sub(pattern, ' ', text)\n",
        "        return text\n",
        "\n",
        "    def remove_punctuations(self, text):\n",
        "        return re.sub(f'[{punctuation}؟،٪×÷»«]+', '', text)\n",
        "\n",
        "    def word_tokenize(self, text):\n",
        "        return hazm.word_tokenize(text)\n",
        "\n",
        "    def remove_invalid_words(self, words):\n",
        "        return [word for word in words if len(word) > 3 or re.match('^[\\u0600-\\u06FF]{2,3}$', word)]\n",
        "\n",
        "    def remove_stopwords(self, words):\n",
        "        return [word for word in words if word not in self.stopwords]"
      ]
    },
    {
      "cell_type": "code",
      "execution_count": 8,
      "metadata": {
        "id": "2tqXc9WR6tth",
        "pycharm": {
          "name": "#%%\n"
        }
      },
      "outputs": [],
      "source": [
        "def save_preprocessed_texts(texts, path=\"Preprocessed_texts.pickle\"):\n",
        "    with open(path, \"wb\") as file:\n",
        "        pickle.dump(texts, file)\n",
        "\n",
        "\n",
        "def load_preprocessed_texts(path=\"Preprocessed_texts.pickle\"):\n",
        "    with open(path, \"rb\") as file:\n",
        "        return pickle.load(file)\n",
        "\n",
        "\n",
        "def data_to_text(data):\n",
        "    return ' '.join([data['title'], data['intro'], data['body']]).lower()\n",
        "\n",
        "\n",
        "def get_preprocessed_texts(dataset, preprocessor, mode, save=False):\n",
        "    preprocessed_texts = []\n",
        "    if mode == 'process':\n",
        "        texts = [data_to_text(data) for _, data in dataset.iterrows()]\n",
        "        preprocessed_texts = [preprocessor.preprocess(text) for text in tqdm(texts)]\n",
        "    if mode == 'load':\n",
        "        preprocessed_texts = load_preprocessed_texts()\n",
        "    if save:\n",
        "        save_preprocessed_texts(preprocessed_texts)\n",
        "    return preprocessed_texts"
      ]
    },
    {
      "cell_type": "markdown",
      "metadata": {
        "collapsed": false,
        "id": "E3M4tMlL6tth"
      },
      "source": [
        "<div dir=\"auto\" align=\"justify\">\n",
        "    <p style='direction:rtl;text-align:justify;'>\n",
        "        با اجرای قطعه کد زیر، یک instance از ماژول Preprocessor ایجاد کرده و شروع به پیش پردازش داده‌ها می‌کنیم، یا داده‌های پیش‌پردازش‌شده‌ی ذخیره‌شده را از فایل مربوطه بازیابی می‌کنیم.\n",
        "    </p>\n",
        "</div>"
      ]
    },
    {
      "cell_type": "code",
      "execution_count": 9,
      "metadata": {
        "id": "Izni3XhQ6tth",
        "pycharm": {
          "name": "#%%\n"
        }
      },
      "outputs": [],
      "source": [
        "preprocessor = Preprocessor(stopwords_path='stopwords.txt')"
      ]
    },
    {
      "cell_type": "code",
      "execution_count": 10,
      "metadata": {
        "colab": {
          "base_uri": "https://localhost:8080/"
        },
        "id": "3MYNCBkS8CTe",
        "outputId": "5e1acb32-2da0-4418-8ea2-223b3c9be2ae"
      },
      "outputs": [],
      "source": [
        "preprocessed_texts = get_preprocessed_texts(dataset, preprocessor, mode='load', save=False)"
      ]
    },
    {
      "cell_type": "markdown",
      "metadata": {
        "collapsed": false,
        "id": "Cmjunsz86tti"
      },
      "source": [
        "<div dir=\"auto\" align=\"justify\">\n",
        "    <p style='direction:rtl;text-align:justify;'>\n",
        "        با توجه به این که حجم مجموعه داده‌ها باعث ایجاد محدودیت حافظه و زمان برای مدل tf-idf می‌شود، ناچار هستیم کسری از مجموعه‌ی داده‌ها را به عنوان ورودی برای یادگیری به آن بدهیم. با اجرای قطعه کد زیر، یک مجموعه داده‌ی کوچک‌تر از روی مجموعه داده‌ی اصلی ایجاد می‌کنیم.\n",
        "    </p>\n",
        "</div>"
      ]
    },
    {
      "cell_type": "code",
      "execution_count": 12,
      "metadata": {
        "colab": {
          "base_uri": "https://localhost:8080/"
        },
        "id": "NpxmLgeU6tti",
        "outputId": "0ae36064-f669-45d0-c9fe-92178b9c7139",
        "pycharm": {
          "name": "#%%\n"
        }
      },
      "outputs": [
        {
          "name": "stderr",
          "output_type": "stream",
          "text": [
            "100%|██████████| 9437/9437 [00:37<00:00, 251.83it/s]\n"
          ]
        }
      ],
      "source": [
        "def get_mini_dataset(len_each_category=1000):\n",
        "    global CATEGORIES, dataset\n",
        "\n",
        "    mini_dataset = []\n",
        "    for category in CATEGORIES.keys():\n",
        "        dataset_by_category = dataset.loc[dataset['category'] == category]\n",
        "        length = min(len_each_category, dataset_by_category.shape[0])\n",
        "        mini_dataset.append(dataset_by_category.sample(length, random_state=1))\n",
        "\n",
        "    mini_dataset = pd.concat(mini_dataset).reset_index(drop=True)\n",
        "    texts = [data_to_text(data) for _, data in mini_dataset.iterrows()]\n",
        "    mini_preprocessed_texts = [preprocessor.preprocess(text) for text in tqdm(texts)]\n",
        "    return mini_dataset, mini_preprocessed_texts\n",
        "\n",
        "\n",
        "# Almost 4K News\n",
        "mini_dataset, mini_preprocessed_texts = get_mini_dataset()\n",
        "mini_dataset['category_code'] = mini_dataset['category'].apply(lambda x: CATEGORIES_CLASSES[x])\n",
        "labels = mini_dataset['category_code'].to_numpy()"
      ]
    },
    {
      "cell_type": "markdown",
      "metadata": {
        "collapsed": false,
        "id": "7GgSPBt36tti"
      },
      "source": [
        "<div>\n",
        "    <h3 style='direction:rtl;text-align:justify;'>\n",
        "        ٣. رتبه‌بندی و تحلیل لینک\n",
        "    </h3>\n",
        "</div>\n",
        "\n",
        "<div dir=\"auto\" align=\"justify\">\n",
        "    <p style='direction:rtl;text-align:justify;'>\n",
        "در این قسمت، با استفاده از دو روش PageRank و HITS به رتبه‌بندی اخبار می‌پردازیم. در قسمت اول ابتدا ماتریس مجاورت را برای اخبار دیتاست می‌سازیم.\n",
        "    </p>\n",
        "</div>"
      ]
    },
    {
      "cell_type": "markdown",
      "metadata": {
        "collapsed": false,
        "id": "ABtH0P3n6tti"
      },
      "source": [
        "<div>\n",
        "    <h4 style='direction:rtl;text-align:justify;'>\n",
        "       ۱. ساخت ماتریس مجاورت\n",
        "    </h4>\n",
        "</div>\n",
        "\n",
        "<div dir=\"auto\" align=\"justify\">\n",
        "    <p style='direction:rtl;text-align:justify;'>\n",
        "    برای ساخت ماتریس مجاورت به این صورت عمل می‌کنیم که هر خبر را به عنوان یک node در نظر می‌گیریم. سپس با در نظر گرفتن تعداد کلمات مشترک هر دو خبر، اگر این تعداد از یک THRESHOLD مشخص بیش‌تر باشد، آن دو خبر را به یک‌دیگر وصل می‌کنیم.\n",
        "    </p>\n",
        "</div>\n",
        "\n",
        "<div dir=\"auto\" align=\"justify\">\n",
        "    <p style='direction:rtl;text-align:justify;'>\n",
        "    نحوه اتصال به این صورت است که فرض کنید دو خبر i و j را با یک‌دیگر مقایسه می‌کنیم. فرض کنید طول خبر i  برابر ۳ کلمه و طول خبر j برابر ۱۰ کلمه است و این دو خبر، ۳ کلمه مشترک دارند. با این فرض وزن یال i به  j برابر  ۰.۳ و وزن یال j به i برابر ۱ است.\n",
        "    </p>\n",
        "</div>\n",
        "\n",
        "<div dir=\"auto\" align=\"justify\">\n",
        "    <p style='direction:rtl;text-align:justify;'>\n",
        "    منطق این روش وزن‌دهی به این صورت است که خبری که طول کوتاه‌تری دارد، احتمالاً خبر جامع‌تری است و وزن ورودی به آن کم‌تر از وزن خروجی از آن باید باشد.\n",
        "    </p>\n",
        "</div>"
      ]
    },
    {
      "cell_type": "code",
      "execution_count": 95,
      "metadata": {
        "id": "3eCMgSM_r2hK"
      },
      "outputs": [],
      "source": [
        "THRESHOLD = 2\n",
        "\n",
        "def relevant_text(bow_1, bow_2):\n",
        "    bow_1 = set(bow_1)\n",
        "    bow_2 = set(bow_2)\n",
        "    len_bow1 = len(bow_1)\n",
        "    len_bow2 = len(bow_2)\n",
        "    same_words = bow_1.intersection(bow_2)\n",
        "    len_same = len(same_words)\n",
        "    #if len_same >= min(len_bow1, len_bow2, THRESHOLD):\n",
        "    if len_same >= THRESHOLD:\n",
        "        return (len_same/len_bow1), (len_same/len_bow2)\n",
        "    else:\n",
        "        return 0, 0"
      ]
    },
    {
      "cell_type": "code",
      "execution_count": 96,
      "metadata": {
        "id": "sZP30oR-48Y-"
      },
      "outputs": [],
      "source": [
        "titles = mini_dataset['title'].to_list()\n",
        "titles = [preprocessor.preprocess(title) for title in titles]"
      ]
    },
    {
      "cell_type": "code",
      "execution_count": 97,
      "metadata": {
        "colab": {
          "base_uri": "https://localhost:8080/"
        },
        "id": "XXdvbkMGr2hK",
        "outputId": "83bb597b-88ce-42a9-94a0-4b4e1a24bf9c"
      },
      "outputs": [],
      "source": [
        "def get_adj_matrix(dataset):\n",
        "    adjacency_matrix = np.zeros(shape=(dataset.shape[0], dataset.shape[0]))\n",
        "    for i in tqdm(range(dataset.shape[0]), position=0, leave=True):\n",
        "        for j in range(i, dataset.shape[0]):\n",
        "            if i == j:\n",
        "                continue\n",
        "            edge_j_i, edge_i_j = relevant_text(titles[i], titles[j])\n",
        "            adjacency_matrix[i, j] = edge_i_j\n",
        "            adjacency_matrix[j, i] = edge_j_i\n",
        "    return adjacency_matrix"
      ]
    },
    {
      "cell_type": "code",
      "execution_count": 98,
      "metadata": {},
      "outputs": [
        {
          "name": "stderr",
          "output_type": "stream",
          "text": [
            "100%|██████████| 9437/9437 [01:17<00:00, 121.15it/s] \n"
          ]
        }
      ],
      "source": [
        "adjacency_matrix = get_adj_matrix(mini_dataset)"
      ]
    },
    {
      "cell_type": "code",
      "execution_count": 99,
      "metadata": {
        "id": "g4biARcOr2hL"
      },
      "outputs": [],
      "source": [
        "G = nx.from_numpy_array(adjacency_matrix)"
      ]
    },
    {
      "cell_type": "code",
      "execution_count": 138,
      "metadata": {},
      "outputs": [],
      "source": [
        "def get_top_rankings(dataset, graph, method='pr', k=5):\n",
        "    if method == 'pr':\n",
        "        pr = nx.pagerank(graph)\n",
        "        vals = np.array(list(pr.values()))\n",
        "        idx = np.argsort(-vals)\n",
        "        display(dataset.iloc[idx[:k]])\n",
        "    elif method == 'hits':\n",
        "        h, a = nx.hits(graph)\n",
        "        vals_h = np.array(list(h.values()))\n",
        "        idx_h = np.argsort(-vals_h)\n",
        "        top_h = dataset.iloc[idx_h[:k]]\n",
        "        vals_a = np.array(list(a.values()))\n",
        "        idx_a = np.argsort(-vals_a)\n",
        "        top_a = dataset.iloc[idx_a[:k]]\n",
        "        print(\"Hubs:\")\n",
        "        display(top_h)\n",
        "        print(\"Authority:\")\n",
        "        display(top_a)\n",
        "    else:\n",
        "        print(\"Not valid method!\")"
      ]
    },
    {
      "cell_type": "code",
      "execution_count": 139,
      "metadata": {},
      "outputs": [
        {
          "data": {
            "text/html": [
              "<div>\n",
              "<style scoped>\n",
              "    .dataframe tbody tr th:only-of-type {\n",
              "        vertical-align: middle;\n",
              "    }\n",
              "\n",
              "    .dataframe tbody tr th {\n",
              "        vertical-align: top;\n",
              "    }\n",
              "\n",
              "    .dataframe thead th {\n",
              "        text-align: right;\n",
              "    }\n",
              "</style>\n",
              "<table border=\"1\" class=\"dataframe\">\n",
              "  <thead>\n",
              "    <tr style=\"text-align: right;\">\n",
              "      <th></th>\n",
              "      <th>date</th>\n",
              "      <th>title</th>\n",
              "      <th>intro</th>\n",
              "      <th>body</th>\n",
              "      <th>category</th>\n",
              "      <th>category_code</th>\n",
              "    </tr>\n",
              "  </thead>\n",
              "  <tbody>\n",
              "    <tr>\n",
              "      <th>3768</th>\n",
              "      <td>چهارشنبه ۱۶ تیر ۱۴۰۰ - ۱۶:۰۲</td>\n",
              "      <td>فردا ۱/۵ میلیون دوز واکسن کرونا به ایران می‌رس...</td>\n",
              "      <td>سخنگوی ستاد مقابله با کرونا گفت: ارسال نشدن ۳ ...</td>\n",
              "      <td>به گزارش همشهری آنلاین به نقل از صدا و سیما، د...</td>\n",
              "      <td>Society</td>\n",
              "      <td>3</td>\n",
              "    </tr>\n",
              "    <tr>\n",
              "      <th>5400</th>\n",
              "      <td>شنبه ۹ بهمن ۱۴۰۰ - ۱۰:۱۲</td>\n",
              "      <td>عکس | واکنش جالب انگلیسی‌ها به جذب مهاجم تیم م...</td>\n",
              "      <td>مهاجم ملی‌پوش ایران در آستانه پیوستن به باشگاه...</td>\n",
              "      <td>به گزارش همشهری‌آنلاین، اللهیار صیادمنش مهاجم ...</td>\n",
              "      <td>Sport</td>\n",
              "      <td>5</td>\n",
              "    </tr>\n",
              "    <tr>\n",
              "      <th>1333</th>\n",
              "      <td>پنجشنبه ۵ اسفند ۱۴۰۰ - ۱۰:۲۸</td>\n",
              "      <td>ببینید | اوکراین؛ از آژیر حمله هوایی تا آتش سو...</td>\n",
              "      <td>رئیس جمهوری روسیه صبح امروز اعلام کرد که در پا...</td>\n",
              "      <td>به گزارش همشهری آنلاین به نقل از تسنیم، شورای ...</td>\n",
              "      <td>World</td>\n",
              "      <td>1</td>\n",
              "    </tr>\n",
              "    <tr>\n",
              "      <th>1729</th>\n",
              "      <td>جمعه ۶ اسفند ۱۴۰۰ - ۰۱:۵۵</td>\n",
              "      <td>موضع دولت ایران درباره جنگ روسیه و اوکراین | ک...</td>\n",
              "      <td>سخنگوی دولت به تحولات اخیر در شرق اروپا و آغاز...</td>\n",
              "      <td>به گزارش همشهری به نقل از ایسنا، علی بهادری جه...</td>\n",
              "      <td>World</td>\n",
              "      <td>1</td>\n",
              "    </tr>\n",
              "    <tr>\n",
              "      <th>5060</th>\n",
              "      <td>پنجشنبه ۲۳ دی ۱۴۰۰ - ۰۹:۳۶</td>\n",
              "      <td>واکنش وزارت امور خارجه آمریکا به حاشیه های سفر...</td>\n",
              "      <td>سخنگوی وزارت امورخارجه آمریکا می گوید: برای صد...</td>\n",
              "      <td>به گزارش همشهری آنلاین اظهارات علیرضا دبیر در ...</td>\n",
              "      <td>Sport</td>\n",
              "      <td>5</td>\n",
              "    </tr>\n",
              "  </tbody>\n",
              "</table>\n",
              "</div>"
            ],
            "text/plain": [
              "                              date  \\\n",
              "3768  چهارشنبه ۱۶ تیر ۱۴۰۰ - ۱۶:۰۲   \n",
              "5400      شنبه ۹ بهمن ۱۴۰۰ - ۱۰:۱۲   \n",
              "1333  پنجشنبه ۵ اسفند ۱۴۰۰ - ۱۰:۲۸   \n",
              "1729     جمعه ۶ اسفند ۱۴۰۰ - ۰۱:۵۵   \n",
              "5060    پنجشنبه ۲۳ دی ۱۴۰۰ - ۰۹:۳۶   \n",
              "\n",
              "                                                  title  \\\n",
              "3768  فردا ۱/۵ میلیون دوز واکسن کرونا به ایران می‌رس...   \n",
              "5400  عکس | واکنش جالب انگلیسی‌ها به جذب مهاجم تیم م...   \n",
              "1333  ببینید | اوکراین؛ از آژیر حمله هوایی تا آتش سو...   \n",
              "1729  موضع دولت ایران درباره جنگ روسیه و اوکراین | ک...   \n",
              "5060  واکنش وزارت امور خارجه آمریکا به حاشیه های سفر...   \n",
              "\n",
              "                                                  intro  \\\n",
              "3768  سخنگوی ستاد مقابله با کرونا گفت: ارسال نشدن ۳ ...   \n",
              "5400  مهاجم ملی‌پوش ایران در آستانه پیوستن به باشگاه...   \n",
              "1333  رئیس جمهوری روسیه صبح امروز اعلام کرد که در پا...   \n",
              "1729  سخنگوی دولت به تحولات اخیر در شرق اروپا و آغاز...   \n",
              "5060  سخنگوی وزارت امورخارجه آمریکا می گوید: برای صد...   \n",
              "\n",
              "                                                   body category  \\\n",
              "3768  به گزارش همشهری آنلاین به نقل از صدا و سیما، د...  Society   \n",
              "5400  به گزارش همشهری‌آنلاین، اللهیار صیادمنش مهاجم ...    Sport   \n",
              "1333  به گزارش همشهری آنلاین به نقل از تسنیم، شورای ...    World   \n",
              "1729  به گزارش همشهری به نقل از ایسنا، علی بهادری جه...    World   \n",
              "5060  به گزارش همشهری آنلاین اظهارات علیرضا دبیر در ...    Sport   \n",
              "\n",
              "      category_code  \n",
              "3768              3  \n",
              "5400              5  \n",
              "1333              1  \n",
              "1729              1  \n",
              "5060              5  "
            ]
          },
          "metadata": {},
          "output_type": "display_data"
        }
      ],
      "source": [
        "get_top_rankings(mini_dataset, G, method='pr')"
      ]
    },
    {
      "cell_type": "code",
      "execution_count": 140,
      "metadata": {
        "id": "vzMZOO6lr2hM"
      },
      "outputs": [
        {
          "name": "stderr",
          "output_type": "stream",
          "text": [
            "/Library/Frameworks/Python.framework/Versions/3.10/lib/python3.10/site-packages/networkx/algorithms/link_analysis/hits_alg.py:78: FutureWarning: adjacency_matrix will return a scipy.sparse array instead of a matrix in Networkx 3.0.\n",
            "  A = nx.adjacency_matrix(G, nodelist=list(G), dtype=float)\n"
          ]
        },
        {
          "name": "stdout",
          "output_type": "stream",
          "text": [
            "Hubs:\n"
          ]
        },
        {
          "data": {
            "text/html": [
              "<div>\n",
              "<style scoped>\n",
              "    .dataframe tbody tr th:only-of-type {\n",
              "        vertical-align: middle;\n",
              "    }\n",
              "\n",
              "    .dataframe tbody tr th {\n",
              "        vertical-align: top;\n",
              "    }\n",
              "\n",
              "    .dataframe thead th {\n",
              "        text-align: right;\n",
              "    }\n",
              "</style>\n",
              "<table border=\"1\" class=\"dataframe\">\n",
              "  <thead>\n",
              "    <tr style=\"text-align: right;\">\n",
              "      <th></th>\n",
              "      <th>date</th>\n",
              "      <th>title</th>\n",
              "      <th>intro</th>\n",
              "      <th>body</th>\n",
              "      <th>category</th>\n",
              "      <th>category_code</th>\n",
              "    </tr>\n",
              "  </thead>\n",
              "  <tbody>\n",
              "    <tr>\n",
              "      <th>2184</th>\n",
              "      <td>سه‌شنبه ۴ خرداد ۱۴۰۰ - ۱۴:۰۴</td>\n",
              "      <td>نوسان قیمت دلار | جدیدترین قیمت ارزها در ۴ خرد...</td>\n",
              "      <td>هر دلار امروز سه‌شنبه ۴ خرداد ۱۴۰۰ در صرافی‌ها...</td>\n",
              "      <td>به گزارش همشهری‌آنلاین، امروز قیمت خرید و فروش...</td>\n",
              "      <td>Economy</td>\n",
              "      <td>2</td>\n",
              "    </tr>\n",
              "    <tr>\n",
              "      <th>2461</th>\n",
              "      <td>شنبه ۲۲ خرداد ۱۴۰۰ - ۱۳:۵۳</td>\n",
              "      <td>کاهش قیمت طلا و سکه در بازار | جدیدترین نرخ طل...</td>\n",
              "      <td>امروز قیمت هر قطعه سکه تمام ‌بهار آزادی طرح جد...</td>\n",
              "      <td>به گزارش همشهری‌آنلاین، امروز شنبه ۲۲ (خرداد ۱...</td>\n",
              "      <td>Economy</td>\n",
              "      <td>2</td>\n",
              "    </tr>\n",
              "    <tr>\n",
              "      <th>2873</th>\n",
              "      <td>چهارشنبه ۱۹ خرداد ۱۴۰۰ - ۰۸:۵۷</td>\n",
              "      <td>نرخ ۲۵ ارز کاهش یافت | جدیدترین قیمت رسمی ارزه...</td>\n",
              "      <td>بانک مرکزی امروز، چهارشنبه (۱۹خرداد)، نرخ رسمی...</td>\n",
              "      <td>به گزارش همشهری‌آنلاین، بانک مرکزی امروز نرخ ه...</td>\n",
              "      <td>Economy</td>\n",
              "      <td>2</td>\n",
              "    </tr>\n",
              "    <tr>\n",
              "      <th>2088</th>\n",
              "      <td>شنبه ۹ مرداد ۱۴۰۰ - ۱۵:۲۲</td>\n",
              "      <td>قیمت طلا و سکه صعودی شد | جدیدترین نرخ طلا و س...</td>\n",
              "      <td>امروز قیمت هر قطعه سکه تمام‌ بهار آزادی طرح جد...</td>\n",
              "      <td>به گزارش همشهری ‌آنلاین، همزمان با افزایش قیمت...</td>\n",
              "      <td>Economy</td>\n",
              "      <td>2</td>\n",
              "    </tr>\n",
              "    <tr>\n",
              "      <th>2926</th>\n",
              "      <td>سه‌شنبه ۱۶ شهریور ۱۴۰۰ - ۰۸:۴۰</td>\n",
              "      <td>نرخ ۲۶ ارز کاهش یافت | جدیدترین قیمت رسمی ارزه...</td>\n",
              "      <td>بانک مرکزی امروز، سه‌شنبه (۱۶شهریور)، نرخ رسمی...</td>\n",
              "      <td>به گزارش همشهری‌آنلاین، بانک مرکزی امروز نرخ ه...</td>\n",
              "      <td>Economy</td>\n",
              "      <td>2</td>\n",
              "    </tr>\n",
              "  </tbody>\n",
              "</table>\n",
              "</div>"
            ],
            "text/plain": [
              "                                date  \\\n",
              "2184    سه‌شنبه ۴ خرداد ۱۴۰۰ - ۱۴:۰۴   \n",
              "2461      شنبه ۲۲ خرداد ۱۴۰۰ - ۱۳:۵۳   \n",
              "2873  چهارشنبه ۱۹ خرداد ۱۴۰۰ - ۰۸:۵۷   \n",
              "2088       شنبه ۹ مرداد ۱۴۰۰ - ۱۵:۲۲   \n",
              "2926  سه‌شنبه ۱۶ شهریور ۱۴۰۰ - ۰۸:۴۰   \n",
              "\n",
              "                                                  title  \\\n",
              "2184  نوسان قیمت دلار | جدیدترین قیمت ارزها در ۴ خرد...   \n",
              "2461  کاهش قیمت طلا و سکه در بازار | جدیدترین نرخ طل...   \n",
              "2873  نرخ ۲۵ ارز کاهش یافت | جدیدترین قیمت رسمی ارزه...   \n",
              "2088  قیمت طلا و سکه صعودی شد | جدیدترین نرخ طلا و س...   \n",
              "2926  نرخ ۲۶ ارز کاهش یافت | جدیدترین قیمت رسمی ارزه...   \n",
              "\n",
              "                                                  intro  \\\n",
              "2184  هر دلار امروز سه‌شنبه ۴ خرداد ۱۴۰۰ در صرافی‌ها...   \n",
              "2461  امروز قیمت هر قطعه سکه تمام ‌بهار آزادی طرح جد...   \n",
              "2873  بانک مرکزی امروز، چهارشنبه (۱۹خرداد)، نرخ رسمی...   \n",
              "2088  امروز قیمت هر قطعه سکه تمام‌ بهار آزادی طرح جد...   \n",
              "2926  بانک مرکزی امروز، سه‌شنبه (۱۶شهریور)، نرخ رسمی...   \n",
              "\n",
              "                                                   body category  \\\n",
              "2184  به گزارش همشهری‌آنلاین، امروز قیمت خرید و فروش...  Economy   \n",
              "2461  به گزارش همشهری‌آنلاین، امروز شنبه ۲۲ (خرداد ۱...  Economy   \n",
              "2873  به گزارش همشهری‌آنلاین، بانک مرکزی امروز نرخ ه...  Economy   \n",
              "2088  به گزارش همشهری ‌آنلاین، همزمان با افزایش قیمت...  Economy   \n",
              "2926  به گزارش همشهری‌آنلاین، بانک مرکزی امروز نرخ ه...  Economy   \n",
              "\n",
              "      category_code  \n",
              "2184              2  \n",
              "2461              2  \n",
              "2873              2  \n",
              "2088              2  \n",
              "2926              2  "
            ]
          },
          "metadata": {},
          "output_type": "display_data"
        },
        {
          "name": "stdout",
          "output_type": "stream",
          "text": [
            "Authority:\n"
          ]
        },
        {
          "data": {
            "text/html": [
              "<div>\n",
              "<style scoped>\n",
              "    .dataframe tbody tr th:only-of-type {\n",
              "        vertical-align: middle;\n",
              "    }\n",
              "\n",
              "    .dataframe tbody tr th {\n",
              "        vertical-align: top;\n",
              "    }\n",
              "\n",
              "    .dataframe thead th {\n",
              "        text-align: right;\n",
              "    }\n",
              "</style>\n",
              "<table border=\"1\" class=\"dataframe\">\n",
              "  <thead>\n",
              "    <tr style=\"text-align: right;\">\n",
              "      <th></th>\n",
              "      <th>date</th>\n",
              "      <th>title</th>\n",
              "      <th>intro</th>\n",
              "      <th>body</th>\n",
              "      <th>category</th>\n",
              "      <th>category_code</th>\n",
              "    </tr>\n",
              "  </thead>\n",
              "  <tbody>\n",
              "    <tr>\n",
              "      <th>2184</th>\n",
              "      <td>سه‌شنبه ۴ خرداد ۱۴۰۰ - ۱۴:۰۴</td>\n",
              "      <td>نوسان قیمت دلار | جدیدترین قیمت ارزها در ۴ خرد...</td>\n",
              "      <td>هر دلار امروز سه‌شنبه ۴ خرداد ۱۴۰۰ در صرافی‌ها...</td>\n",
              "      <td>به گزارش همشهری‌آنلاین، امروز قیمت خرید و فروش...</td>\n",
              "      <td>Economy</td>\n",
              "      <td>2</td>\n",
              "    </tr>\n",
              "    <tr>\n",
              "      <th>2461</th>\n",
              "      <td>شنبه ۲۲ خرداد ۱۴۰۰ - ۱۳:۵۳</td>\n",
              "      <td>کاهش قیمت طلا و سکه در بازار | جدیدترین نرخ طل...</td>\n",
              "      <td>امروز قیمت هر قطعه سکه تمام ‌بهار آزادی طرح جد...</td>\n",
              "      <td>به گزارش همشهری‌آنلاین، امروز شنبه ۲۲ (خرداد ۱...</td>\n",
              "      <td>Economy</td>\n",
              "      <td>2</td>\n",
              "    </tr>\n",
              "    <tr>\n",
              "      <th>2873</th>\n",
              "      <td>چهارشنبه ۱۹ خرداد ۱۴۰۰ - ۰۸:۵۷</td>\n",
              "      <td>نرخ ۲۵ ارز کاهش یافت | جدیدترین قیمت رسمی ارزه...</td>\n",
              "      <td>بانک مرکزی امروز، چهارشنبه (۱۹خرداد)، نرخ رسمی...</td>\n",
              "      <td>به گزارش همشهری‌آنلاین، بانک مرکزی امروز نرخ ه...</td>\n",
              "      <td>Economy</td>\n",
              "      <td>2</td>\n",
              "    </tr>\n",
              "    <tr>\n",
              "      <th>2088</th>\n",
              "      <td>شنبه ۹ مرداد ۱۴۰۰ - ۱۵:۲۲</td>\n",
              "      <td>قیمت طلا و سکه صعودی شد | جدیدترین نرخ طلا و س...</td>\n",
              "      <td>امروز قیمت هر قطعه سکه تمام‌ بهار آزادی طرح جد...</td>\n",
              "      <td>به گزارش همشهری ‌آنلاین، همزمان با افزایش قیمت...</td>\n",
              "      <td>Economy</td>\n",
              "      <td>2</td>\n",
              "    </tr>\n",
              "    <tr>\n",
              "      <th>2926</th>\n",
              "      <td>سه‌شنبه ۱۶ شهریور ۱۴۰۰ - ۰۸:۴۰</td>\n",
              "      <td>نرخ ۲۶ ارز کاهش یافت | جدیدترین قیمت رسمی ارزه...</td>\n",
              "      <td>بانک مرکزی امروز، سه‌شنبه (۱۶شهریور)، نرخ رسمی...</td>\n",
              "      <td>به گزارش همشهری‌آنلاین، بانک مرکزی امروز نرخ ه...</td>\n",
              "      <td>Economy</td>\n",
              "      <td>2</td>\n",
              "    </tr>\n",
              "  </tbody>\n",
              "</table>\n",
              "</div>"
            ],
            "text/plain": [
              "                                date  \\\n",
              "2184    سه‌شنبه ۴ خرداد ۱۴۰۰ - ۱۴:۰۴   \n",
              "2461      شنبه ۲۲ خرداد ۱۴۰۰ - ۱۳:۵۳   \n",
              "2873  چهارشنبه ۱۹ خرداد ۱۴۰۰ - ۰۸:۵۷   \n",
              "2088       شنبه ۹ مرداد ۱۴۰۰ - ۱۵:۲۲   \n",
              "2926  سه‌شنبه ۱۶ شهریور ۱۴۰۰ - ۰۸:۴۰   \n",
              "\n",
              "                                                  title  \\\n",
              "2184  نوسان قیمت دلار | جدیدترین قیمت ارزها در ۴ خرد...   \n",
              "2461  کاهش قیمت طلا و سکه در بازار | جدیدترین نرخ طل...   \n",
              "2873  نرخ ۲۵ ارز کاهش یافت | جدیدترین قیمت رسمی ارزه...   \n",
              "2088  قیمت طلا و سکه صعودی شد | جدیدترین نرخ طلا و س...   \n",
              "2926  نرخ ۲۶ ارز کاهش یافت | جدیدترین قیمت رسمی ارزه...   \n",
              "\n",
              "                                                  intro  \\\n",
              "2184  هر دلار امروز سه‌شنبه ۴ خرداد ۱۴۰۰ در صرافی‌ها...   \n",
              "2461  امروز قیمت هر قطعه سکه تمام ‌بهار آزادی طرح جد...   \n",
              "2873  بانک مرکزی امروز، چهارشنبه (۱۹خرداد)، نرخ رسمی...   \n",
              "2088  امروز قیمت هر قطعه سکه تمام‌ بهار آزادی طرح جد...   \n",
              "2926  بانک مرکزی امروز، سه‌شنبه (۱۶شهریور)، نرخ رسمی...   \n",
              "\n",
              "                                                   body category  \\\n",
              "2184  به گزارش همشهری‌آنلاین، امروز قیمت خرید و فروش...  Economy   \n",
              "2461  به گزارش همشهری‌آنلاین، امروز شنبه ۲۲ (خرداد ۱...  Economy   \n",
              "2873  به گزارش همشهری‌آنلاین، بانک مرکزی امروز نرخ ه...  Economy   \n",
              "2088  به گزارش همشهری ‌آنلاین، همزمان با افزایش قیمت...  Economy   \n",
              "2926  به گزارش همشهری‌آنلاین، بانک مرکزی امروز نرخ ه...  Economy   \n",
              "\n",
              "      category_code  \n",
              "2184              2  \n",
              "2461              2  \n",
              "2873              2  \n",
              "2088              2  \n",
              "2926              2  "
            ]
          },
          "metadata": {},
          "output_type": "display_data"
        }
      ],
      "source": [
        "get_top_rankings(mini_dataset, G, method='hits')"
      ]
    },
    {
      "cell_type": "code",
      "execution_count": null,
      "metadata": {},
      "outputs": [],
      "source": []
    }
  ],
  "metadata": {
    "colab": {
      "collapsed_sections": [],
      "name": "News-Link.ipynb",
      "provenance": []
    },
    "gpuClass": "standard",
    "interpreter": {
      "hash": "aee8b7b246df8f9039afb4144a1f6fd8d2ca17a180786b69acc140d282b71a49"
    },
    "kernelspec": {
      "display_name": "Python 3 (ipykernel)",
      "language": "python",
      "name": "python3"
    },
    "language_info": {
      "codemirror_mode": {
        "name": "ipython",
        "version": 3
      },
      "file_extension": ".py",
      "mimetype": "text/x-python",
      "name": "python",
      "nbconvert_exporter": "python",
      "pygments_lexer": "ipython3",
      "version": "3.10.0"
    }
  },
  "nbformat": 4,
  "nbformat_minor": 0
}
