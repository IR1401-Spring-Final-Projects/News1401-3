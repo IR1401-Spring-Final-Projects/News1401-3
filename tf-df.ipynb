{
 "cells": [
  {
   "cell_type": "markdown",
   "metadata": {
    "collapsed": true,
    "pycharm": {
     "name": "#%% md\n"
    }
   },
   "source": [
    "<div dir=\"auto\" align=\"center\">\n",
    "    <h3>\n",
    "        بسم الله الرحمن الرحیم\n",
    "    </h3>\n",
    "    <br>\n",
    "    <h1>\n",
    "        <strong>\n",
    "            بازیابی پیشرفته اطلاعات\n",
    "        </strong>\n",
    "    </h1>\n",
    "    <h2>\n",
    "        <strong>\n",
    "            تمرین سوم (موتور جستجوی اخبار)\n",
    "        </strong>\n",
    "    </h2>\n",
    "    <br>\n",
    "    <h3>\n",
    "        محمد هجری - ٩٨١٠٦١٥٦\n",
    "        <br><br>\n",
    "        ارشان دلیلی - ٩٨١٠٥٧٥١\n",
    "        <br><br>\n",
    "        سروش جهان‌زاد - ٩٨١٠٠٣٨٩\n",
    "    </h3>\n",
    "    <br>\n",
    "</div>\n",
    "<hr>"
   ]
  },
  {
   "cell_type": "markdown",
   "metadata": {
    "collapsed": false,
    "pycharm": {
     "name": "#%% md\n"
    }
   },
   "source": [
    "<div>\n",
    "    <h3 style='direction:rtl;text-align:justify;'>\n",
    "        نصب و دسترسی به کتابخانه‌های مورد نیاز\n",
    "    </h3>\n",
    "</div>\n",
    "\n",
    "<div dir=\"auto\" align=\"justify\">\n",
    "    <p style='direction:rtl;text-align:justify;'>\n",
    "        با اجرای دو قطعه کد زیر، کتابخانه‌هایی که از آن‌ها در این تمرین استفاده شده است، نصب و قابل استفاده می‌شوند.\n",
    "    </p>\n",
    "</div>"
   ]
  },
  {
   "cell_type": "code",
   "execution_count": 1,
   "metadata": {
    "collapsed": false,
    "pycharm": {
     "name": "#%%\n"
    }
   },
   "outputs": [],
   "source": [
    "# !pip install bs4\n",
    "# !pip install tqdm\n",
    "# !pip install pandas\n",
    "# !pip install requests\n",
    "# !pip install hazm\n",
    "# !pip install unidecode\n",
    "# !pip install pandas\n",
    "# !pip install nltk"
   ]
  },
  {
   "cell_type": "code",
   "execution_count": 74,
   "metadata": {
    "collapsed": false,
    "pycharm": {
     "name": "#%%\n"
    }
   },
   "outputs": [],
   "source": [
    "import os\n",
    "import re\n",
    "import csv\n",
    "import hazm\n",
    "import nltk\n",
    "import pickle\n",
    "import zipfile\n",
    "import requests\n",
    "import numpy as np\n",
    "import pandas as pd\n",
    "from tqdm import tqdm\n",
    "from bs4 import BeautifulSoup\n",
    "from IPython.display import display\n",
    "from sklearn.feature_extraction.text import TfidfVectorizer"
   ]
  },
  {
   "cell_type": "markdown",
   "metadata": {
    "collapsed": false,
    "pycharm": {
     "name": "#%% md\n"
    }
   },
   "source": [
    "<div>\n",
    "    <h3 style='direction:rtl;text-align:justify;'>\n",
    "        ١. دریافت داده‌ها\n",
    "    </h3>\n",
    "</div>\n",
    "\n",
    "<div dir=\"auto\" align=\"justify\">\n",
    "    <p style='direction:rtl;text-align:justify;'>\n",
    "        در این تمرین، بیش از ٨٠ هزار خبر از\n",
    "        <a href=\"https://www.hamshahrionline.ir/\"> وب‌سایت همشهری‌آنلاین </a>\n",
    "        گردآوری شده که در ١٠ دسته‌ی سیاسی، جهانی، اقتصادی، اجتماعی، شهری، ورزشی، علمی، فرهنگی، فناوری اطلاعات و مهارت‌های زندگی طبقه‌بندی شده‌اند.\n",
    "    </p>\n",
    "</div>"
   ]
  },
  {
   "cell_type": "code",
   "execution_count": 40,
   "metadata": {
    "collapsed": false,
    "pycharm": {
     "name": "#%%\n"
    }
   },
   "outputs": [],
   "source": [
    "CATEGORIES = {\n",
    "    'Politics': 'سیاسی',\n",
    "    'World': 'جهانی',\n",
    "    'Economy': 'اقتصادی',\n",
    "    'Society': 'اجتماعی',\n",
    "    'City': 'شهری',\n",
    "    'Sport': 'ورزشی',\n",
    "    'Science': 'علمی',\n",
    "    'Culture': 'فرهنگی',\n",
    "    'IT': 'فناوری اطلاعات',\n",
    "    'LifeSkills': 'مهارت‌های زندگی',\n",
    "}"
   ]
  },
  {
   "cell_type": "markdown",
   "metadata": {
    "collapsed": false,
    "pycharm": {
     "name": "#%% md\n"
    }
   },
   "source": [
    "<div dir=\"auto\" align=\"justify\">\n",
    "    <p style='direction:rtl;text-align:justify;'>\n",
    "        برای دریافت داده‌ها یک ماژول Scraper ساخته‌ایم که اخبار مربوط به ١٠ دسته‌ی مذکور را در بازه‌ی زمانی تعیین شده، کراول کرده و در فایل dataset.zip ذخیره و فشرده سازی می‌کند. کد مربوط به این ماژول را در زیر مشاهده می‌کنید.\n",
    "    </p>\n",
    "</div>"
   ]
  },
  {
   "cell_type": "code",
   "execution_count": 4,
   "metadata": {
    "collapsed": false,
    "pycharm": {
     "name": "#%%\n"
    }
   },
   "outputs": [],
   "source": [
    "class Scraper:\n",
    "\n",
    "    def __init__(self, current_year, current_month):\n",
    "        self.current_year = current_year\n",
    "        self.current_month = current_month\n",
    "\n",
    "    def get_URL_content(self, URL):\n",
    "        while True:\n",
    "            try:\n",
    "                return requests.get(URL, timeout=5).content\n",
    "            except:\n",
    "                pass\n",
    "\n",
    "    def generate_page_URL(self, page_index, category, year, month):\n",
    "        tp = {'Politics': 6, 'World': 11, 'Economy': 10, 'Society': 5, 'City': 7,\n",
    "              'Sport': 9, 'Science': 20, 'Culture': 26, 'IT': 718, 'LifeSkills': 21}[category]\n",
    "        return f'https://www.hamshahrionline.ir/archive?pi={page_index}&tp={tp}&ty=1&ms=0&mn={month}&yr={year}'\n",
    "\n",
    "    def get_page_URLs_by_time(self, category, year, month):\n",
    "        URLs = []\n",
    "        page_index = 1\n",
    "        while True:\n",
    "            URL = self.generate_page_URL(page_index, category, year, month)\n",
    "            content = self.get_URL_content(URL)\n",
    "            if re.findall('pagination', str(content)):\n",
    "                URLs.append(URL)\n",
    "                page_index += 1\n",
    "            else:\n",
    "                break\n",
    "        return URLs\n",
    "\n",
    "    def get_page_URLs_since(self, category, year, month):\n",
    "        URLs = []\n",
    "        with tqdm() as pbar:\n",
    "            while True:\n",
    "                if month > 12:\n",
    "                    month = 1\n",
    "                    year += 1\n",
    "                pbar.set_description(f'[{category}] [Extracting page URLs] [Date: {year}/{month}]')\n",
    "                URLs_by_time = self.get_page_URLs_by_time(category, year, month)\n",
    "                if URLs_by_time:\n",
    "                    for URL in URLs_by_time:\n",
    "                        URLs.append(URL)\n",
    "                    month += 1\n",
    "                elif self.current_year > year or (self.current_year == year and self.current_month > month):\n",
    "                    month += 1\n",
    "                else:\n",
    "                    break\n",
    "        return URLs\n",
    "\n",
    "    def get_news_URLs_since(self, category, year, month):\n",
    "        news_URLs = []\n",
    "        page_URLs = self.get_page_URLs_since(category, year, month)\n",
    "        with tqdm(page_URLs) as pbar:\n",
    "            for page_URL in pbar:\n",
    "                content = self.get_URL_content(page_URL)\n",
    "                soup = BeautifulSoup(content, 'html5lib')\n",
    "                for item in soup.findAll('li', attrs={'class': 'news'}):\n",
    "                    URL = item.find('div', attrs={'class': 'desc'}).find('h3').find('a')['href']\n",
    "                    URL = 'https://www.hamshahrionline.ir' + URL\n",
    "                    news_URLs.append(URL)\n",
    "                pbar.set_description(f'[{category}] [Extracting news URLs] [{len(news_URLs)} news until now]')\n",
    "        return news_URLs\n",
    "\n",
    "    def parse_news(self, URL, category):\n",
    "        try:\n",
    "            content = self.get_URL_content(URL)\n",
    "            soup = BeautifulSoup(content, 'html.parser')\n",
    "            date = soup.find('div', {'class': 'col-6 col-sm-4 col-xl-4 item-date'}).span.text.strip()\n",
    "            title = soup.find('div', {'class': 'item-title'}).h1.text.strip()\n",
    "            intro = soup.find('p', {'class': 'introtext', 'itemprop': 'description'}).text.strip()\n",
    "            body = soup.find('div', {'class': 'item-text', 'itemprop': 'articleBody'}).text.strip()\n",
    "            category_PER = soup.find_all('li', {'class': 'breadcrumb-item'})\n",
    "            category_PER = list(map(lambda x: x.text.strip(), category_PER))[1:]\n",
    "            return {\n",
    "                'date': date,\n",
    "                'title': title,\n",
    "                'intro': intro,\n",
    "                'body': body,\n",
    "                'category-PER': category_PER,\n",
    "                'category-ENG': category,\n",
    "            }\n",
    "        except:\n",
    "            return None\n",
    "\n",
    "    def scrape(self, from_year, from_month):\n",
    "        categories = ['Politics', 'World', 'Economy', 'Society', 'City',\n",
    "                      'Sport', 'Science', 'Culture', 'IT', 'LifeSkills']\n",
    "        news = []\n",
    "        for category in categories:\n",
    "            URLs = self.get_news_URLs_since(category, from_year, from_month)\n",
    "            with tqdm(URLs) as pbar:\n",
    "                pbar.set_description(f'[{category}] [Scraping news]')\n",
    "                for URL in pbar:\n",
    "                    news.append(self.parse_news(URL, category))\n",
    "        news = list(filter(None, news))\n",
    "        pd.DataFrame(news).to_csv(f'dataset.csv', encoding='utf-8')\n",
    "        with zipfile.ZipFile('dataset.zip', 'w', zipfile.ZIP_DEFLATED) as zip_file:\n",
    "            zip_file.write('dataset.csv')\n",
    "        os.remove('dataset.csv')"
   ]
  },
  {
   "cell_type": "markdown",
   "metadata": {
    "collapsed": false,
    "pycharm": {
     "name": "#%% md\n"
    }
   },
   "source": [
    "<div dir=\"auto\" align=\"justify\">\n",
    "    <p style='direction:rtl;text-align:justify;'>\n",
    "        با اجرای قطعه کد زیر، یک instance از ماژول Scraper ایجاد شده و شروع به دریافت و ذخیره‌سازی داده‌ها می‌کند. خبرهای دریافت شده همگی مربوط به قرن جدید، از سال ١٤٠٠ به بعد هستند.\n",
    "    </p>\n",
    "</div>"
   ]
  },
  {
   "cell_type": "code",
   "execution_count": 5,
   "metadata": {
    "collapsed": false,
    "pycharm": {
     "name": "#%%\n"
    }
   },
   "outputs": [],
   "source": [
    "scraper = Scraper(current_year=1401, current_month=3)\n",
    "# scraper.scrape(from_year=1400, from_month=1)"
   ]
  },
  {
   "cell_type": "markdown",
   "metadata": {
    "collapsed": false,
    "pycharm": {
     "name": "#%% md\n"
    }
   },
   "source": [
    "<div dir=\"auto\" align=\"justify\">\n",
    "    <p style='direction:rtl;text-align:justify;'>\n",
    "        بعد از ذخیره شدن داده‌ها در فایل فشرده dataset.zip، آن‌ها را از این فایل استخراج کرده و وارد برنامه می‌کنیم. با اجرای قطعه کد زیر، تعداد خبرهای هر دسته و تعداد کل خبرها را می‌توان مشاهده کرد.\n",
    "    </p>\n",
    "</div>"
   ]
  },
  {
   "cell_type": "code",
   "execution_count": 6,
   "metadata": {
    "collapsed": false,
    "pycharm": {
     "name": "#%%\n"
    }
   },
   "outputs": [],
   "source": [
    "def read_dataset_from_file():\n",
    "    dataset = []\n",
    "    with zipfile.ZipFile('dataset.zip', 'r') as zip_file:\n",
    "        zip_file.extractall()\n",
    "    with open('dataset.csv', encoding='utf-8') as file:\n",
    "        csv_reader = csv.reader(file)\n",
    "        header = next(csv_reader)\n",
    "        for row in csv_reader:\n",
    "            data = dict(zip(header[1:], row[1:]))\n",
    "            dataset.append(data)\n",
    "    return dataset\n",
    "\n",
    "\n",
    "dataset = read_dataset_from_file()"
   ]
  },
  {
   "cell_type": "markdown",
   "metadata": {
    "collapsed": false,
    "pycharm": {
     "name": "#%% md\n"
    }
   },
   "source": [
    "<div dir=\"auto\" align=\"justify\">\n",
    "    <p style='direction:rtl;text-align:justify;'>\n",
    "    با اجرای قطعه کد زیر، تعداد خبرهای هر دسته و تعداد کل خبرها را می‌توان مشاهده کرد.\n",
    "    </p>\n",
    "</div>"
   ]
  },
  {
   "cell_type": "code",
   "execution_count": 7,
   "metadata": {
    "collapsed": false,
    "pycharm": {
     "name": "#%%\n"
    }
   },
   "outputs": [
    {
     "data": {
      "text/html": [
       "<div>\n",
       "<style scoped>\n",
       "    .dataframe tbody tr th:only-of-type {\n",
       "        vertical-align: middle;\n",
       "    }\n",
       "\n",
       "    .dataframe tbody tr th {\n",
       "        vertical-align: top;\n",
       "    }\n",
       "\n",
       "    .dataframe thead th {\n",
       "        text-align: right;\n",
       "    }\n",
       "</style>\n",
       "<table border=\"1\" class=\"dataframe\">\n",
       "  <thead>\n",
       "    <tr style=\"text-align: right;\">\n",
       "      <th></th>\n",
       "      <th>دسته</th>\n",
       "      <th>تعداد</th>\n",
       "    </tr>\n",
       "  </thead>\n",
       "  <tbody>\n",
       "    <tr>\n",
       "      <th>0</th>\n",
       "      <td>کل خبرها</td>\n",
       "      <td>80986</td>\n",
       "    </tr>\n",
       "    <tr>\n",
       "      <th>1</th>\n",
       "      <td>سیاسی</td>\n",
       "      <td>15810</td>\n",
       "    </tr>\n",
       "    <tr>\n",
       "      <th>2</th>\n",
       "      <td>جهانی</td>\n",
       "      <td>4800</td>\n",
       "    </tr>\n",
       "    <tr>\n",
       "      <th>3</th>\n",
       "      <td>اقتصادی</td>\n",
       "      <td>9873</td>\n",
       "    </tr>\n",
       "    <tr>\n",
       "      <th>4</th>\n",
       "      <td>اجتماعی</td>\n",
       "      <td>14070</td>\n",
       "    </tr>\n",
       "    <tr>\n",
       "      <th>5</th>\n",
       "      <td>شهری</td>\n",
       "      <td>4260</td>\n",
       "    </tr>\n",
       "    <tr>\n",
       "      <th>6</th>\n",
       "      <td>ورزشی</td>\n",
       "      <td>8421</td>\n",
       "    </tr>\n",
       "    <tr>\n",
       "      <th>7</th>\n",
       "      <td>علمی</td>\n",
       "      <td>3267</td>\n",
       "    </tr>\n",
       "    <tr>\n",
       "      <th>8</th>\n",
       "      <td>فرهنگی</td>\n",
       "      <td>6657</td>\n",
       "    </tr>\n",
       "    <tr>\n",
       "      <th>9</th>\n",
       "      <td>فناوری اطلاعات</td>\n",
       "      <td>444</td>\n",
       "    </tr>\n",
       "    <tr>\n",
       "      <th>10</th>\n",
       "      <td>مهارت‌های زندگی</td>\n",
       "      <td>13384</td>\n",
       "    </tr>\n",
       "  </tbody>\n",
       "</table>\n",
       "</div>"
      ],
      "text/plain": [
       "               دسته  تعداد\n",
       "0          کل خبرها  80986\n",
       "1             سیاسی  15810\n",
       "2             جهانی   4800\n",
       "3           اقتصادی   9873\n",
       "4           اجتماعی  14070\n",
       "5              شهری   4260\n",
       "6             ورزشی   8421\n",
       "7              علمی   3267\n",
       "8            فرهنگی   6657\n",
       "9    فناوری اطلاعات    444\n",
       "10  مهارت‌های زندگی  13384"
      ]
     },
     "metadata": {},
     "output_type": "display_data"
    }
   ],
   "source": [
    "def display_dataset_info():\n",
    "    global CATEGORIES\n",
    "\n",
    "    length_dict = {key: 0 for key in CATEGORIES.keys()}\n",
    "    for data in dataset:\n",
    "        length_dict[data['category-ENG']] += 1\n",
    "\n",
    "    df_dict = {\n",
    "        'دسته': CATEGORIES.values(),\n",
    "        'تعداد': length_dict.values(),\n",
    "    }\n",
    "\n",
    "    df = pd.DataFrame(df_dict)\n",
    "    df.index += 1\n",
    "    df.loc[0] = ['کل خبرها', len(dataset)]\n",
    "    df = df.sort_index()\n",
    "    display(df)\n",
    "\n",
    "\n",
    "display_dataset_info()"
   ]
  },
  {
   "cell_type": "markdown",
   "metadata": {
    "collapsed": false,
    "pycharm": {
     "name": "#%% md\n"
    }
   },
   "source": [
    "<div>\n",
    "    <h3 style='direction:rtl;text-align:justify;'>\n",
    "        ٢. پیش پردازش اولیه‌ی متن\n",
    "    </h3>\n",
    "</div>\n",
    "\n",
    "<div dir=\"auto\" align=\"justify\">\n",
    "    <p style='direction:rtl;text-align:justify;'>\n",
    "        ابزار مورد استفاده برای پیش‌پردازش متن ورودی به صورت ماژولار طراحی شده است؛ به طوری که با صدا زدن تابع preprocess از آن، متن داده شده با عبور از یک خط لوله به صورت مرحله به مرحله تغییر می‌کند تا به یک ساختار استاندارد برسد. در ادامه، به توضیح هر یک از مراحل پیش‌پردازش می‌پردازیم.\n",
    "    </p>\n",
    "</div>"
   ]
  },
  {
   "cell_type": "code",
   "execution_count": 8,
   "metadata": {
    "collapsed": false,
    "pycharm": {
     "name": "#%%\n"
    }
   },
   "outputs": [],
   "source": [
    "class Preprocessor:\n",
    "\n",
    "    def preprocess(self, text):\n",
    "        text = self.normalize(text)\n",
    "        text = self.fix_hamza(text)\n",
    "        text = self.fix_arabic_ta(text)\n",
    "        text = self.fix_arabic_ye(text)\n",
    "        text = self.fix_half_space_ye(text)\n",
    "        text = self.fix_single_ye(text)\n",
    "        text = self.fix_informal_numbers(text)\n",
    "        return text\n",
    "\n",
    "    def normalize(self, text):\n",
    "        normalizer = hazm.Normalizer()\n",
    "        return normalizer.normalize(text)\n",
    "\n",
    "    def fix_hamza(self, text):\n",
    "        return text.replace('ء', '')\n",
    "\n",
    "    def fix_arabic_ta(self, text):\n",
    "        return text.replace('ة', 'ه')\n",
    "\n",
    "    def fix_arabic_ye(self, text):\n",
    "        return text.replace('ي', 'ی')\n",
    "\n",
    "    def fix_half_space_ye(self, text):\n",
    "        return text.replace('\\u200cی ', ' ')\n",
    "\n",
    "    def fix_single_ye(self, text):\n",
    "        return text.replace(' ی ', ' ')\n",
    "\n",
    "    def fix_informal_numbers(self, text):\n",
    "        pass\n"
   ]
  },
  {
   "cell_type": "code",
   "execution_count": 9,
   "metadata": {
    "collapsed": false,
    "pycharm": {
     "name": "#%%\n"
    }
   },
   "outputs": [
    {
     "data": {
      "text/html": [
       "<div>\n",
       "<style scoped>\n",
       "    .dataframe tbody tr th:only-of-type {\n",
       "        vertical-align: middle;\n",
       "    }\n",
       "\n",
       "    .dataframe tbody tr th {\n",
       "        vertical-align: top;\n",
       "    }\n",
       "\n",
       "    .dataframe thead th {\n",
       "        text-align: right;\n",
       "    }\n",
       "</style>\n",
       "<table border=\"1\" class=\"dataframe\">\n",
       "  <thead>\n",
       "    <tr style=\"text-align: right;\">\n",
       "      <th></th>\n",
       "      <th>date</th>\n",
       "      <th>title</th>\n",
       "      <th>intro</th>\n",
       "      <th>body</th>\n",
       "      <th>category-PER</th>\n",
       "      <th>category-ENG</th>\n",
       "    </tr>\n",
       "  </thead>\n",
       "  <tbody>\n",
       "    <tr>\n",
       "      <th>0</th>\n",
       "      <td>سه‌شنبه ۳۱ فروردین ۱۴۰۰ - ۲۳:۴۰</td>\n",
       "      <td>واشنگتن: آمریکا و ایران هدف مشترکی دارند</td>\n",
       "      <td>سخنگوی وزارت خارجه آمریکا شامگاه سه‌شنبه در کن...</td>\n",
       "      <td>به گزارش همشهری‌آنلاین به نقل از فارس، ند پرای...</td>\n",
       "      <td>['سياست', 'سیاست\\u200cخارجی']</td>\n",
       "      <td>Politics</td>\n",
       "    </tr>\n",
       "    <tr>\n",
       "      <th>1</th>\n",
       "      <td>سه‌شنبه ۳۱ فروردین ۱۴۰۰ - ۲۳:۳۱</td>\n",
       "      <td>عراقچی باز هم ادعاهای «منبع مطلع» پرس‌تی‌وی در...</td>\n",
       "      <td>معاون وزیر امور خارجه جمهوری اسلامی ایران در ت...</td>\n",
       "      <td>به گزارش همشهری‌آنلاین به نقل از ایرنا، عباس ع...</td>\n",
       "      <td>['سياست', 'سیاست\\u200cخارجی']</td>\n",
       "      <td>Politics</td>\n",
       "    </tr>\n",
       "    <tr>\n",
       "      <th>2</th>\n",
       "      <td>سه‌شنبه ۳۱ فروردین ۱۴۰۰ - ۲۳:۲۰</td>\n",
       "      <td>هشدار به دیپلمات‌های آمریکا در چاد؛ مراقب جان ...</td>\n",
       "      <td>وزارت خارجه آمریکا با صدور بیانیه‌ای به تمام د...</td>\n",
       "      <td>به گزارش همشهری آنلاین به نقل از فارس، به دنبا...</td>\n",
       "      <td>['جهان', 'آمریکا']</td>\n",
       "      <td>Politics</td>\n",
       "    </tr>\n",
       "    <tr>\n",
       "      <th>3</th>\n",
       "      <td>سه‌شنبه ۳۱ فروردین ۱۴۰۰ - ۲۲:۴۷</td>\n",
       "      <td>نامه مشاور رهبری به نمکی درباره واکسن پولی</td>\n",
       "      <td>از درگیر کردن بخش خصوصی به شدت پرهیز شود، چه د...</td>\n",
       "      <td>به گزارش همشهری آنلاین به نقل از ایسنا، در نام...</td>\n",
       "      <td>['سياست', 'سیاست داخلی']</td>\n",
       "      <td>Politics</td>\n",
       "    </tr>\n",
       "    <tr>\n",
       "      <th>4</th>\n",
       "      <td>سه‌شنبه ۳۱ فروردین ۱۴۰۰ - ۲۲:۴۵</td>\n",
       "      <td>درخواست از روحانی: کشور را قرنطینه کامل کنید</td>\n",
       "      <td>حزب اتحاد ملت در نامه‌ای خطاب به روحانی خواستا...</td>\n",
       "      <td>به گزارش همشهری آنلاین به نقل از خبرآنلاین، مت...</td>\n",
       "      <td>['سياست', 'سیاست داخلی']</td>\n",
       "      <td>Politics</td>\n",
       "    </tr>\n",
       "    <tr>\n",
       "      <th>...</th>\n",
       "      <td>...</td>\n",
       "      <td>...</td>\n",
       "      <td>...</td>\n",
       "      <td>...</td>\n",
       "      <td>...</td>\n",
       "      <td>...</td>\n",
       "    </tr>\n",
       "    <tr>\n",
       "      <th>80981</th>\n",
       "      <td>یکشنبه ۱ خرداد ۱۴۰۱ - ۱۱:۵۴</td>\n",
       "      <td>از زینک چه می‌دانید؟ | علائم کمبود زینک یا روی</td>\n",
       "      <td>بدن شما نیاز به انواع مواد مغذی دارد تا عملکرد...</td>\n",
       "      <td>به گزارش همشهری آنلاین، بدن شما نیاز به انواع ...</td>\n",
       "      <td>['زندگی', 'تندرستی']</td>\n",
       "      <td>LifeSkills</td>\n",
       "    </tr>\n",
       "    <tr>\n",
       "      <th>80982</th>\n",
       "      <td>یکشنبه ۱ خرداد ۱۴۰۱ - ۱۱:۰۲</td>\n",
       "      <td>یک راهکار ساده برای مطمئن شدن از کیفیت عینک آف...</td>\n",
       "      <td>استفاده از عینک آفتابی یک کار ضروری برای محافظ...</td>\n",
       "      <td>به گزارش همشهری آنلاین، بررسی‌ها نشان داده قرا...</td>\n",
       "      <td>['زندگی', 'مهارت\\u200cهای زندگی']</td>\n",
       "      <td>LifeSkills</td>\n",
       "    </tr>\n",
       "    <tr>\n",
       "      <th>80983</th>\n",
       "      <td>یکشنبه ۱ خرداد ۱۴۰۱ - ۰۸:۰۰</td>\n",
       "      <td>تصاویری از سرزمین لک‌لک‌های ایران | زریوار میز...</td>\n",
       "      <td>بهار فصل خوبی برای سفر به کردستان است؛ جاده‌ها...</td>\n",
       "      <td>به گزارش همشهری آنلاین، شنیدن صدای لک‌لک‌ها یک...</td>\n",
       "      <td>['زندگی', 'پیشنهاد سفر']</td>\n",
       "      <td>LifeSkills</td>\n",
       "    </tr>\n",
       "    <tr>\n",
       "      <th>80984</th>\n",
       "      <td>یکشنبه ۱ خرداد ۱۴۰۱ - ۰۷:۵۵</td>\n",
       "      <td>۱۰ ترفند خانگی که سردردتان را بدون نیاز به قرص...</td>\n",
       "      <td>سردرد مشکل نادری نیست و همه‌ ما گاهی دچارش می‌...</td>\n",
       "      <td>به گزارش همشهری آنلاین به نقل از سلامت نیوز، ت...</td>\n",
       "      <td>['زندگی', 'تندرستی']</td>\n",
       "      <td>LifeSkills</td>\n",
       "    </tr>\n",
       "    <tr>\n",
       "      <th>80985</th>\n",
       "      <td>یکشنبه ۱ خرداد ۱۴۰۱ - ۰۷:۲۰</td>\n",
       "      <td>معجزه آب و یک قاشق سرکه سیب برای سلامتی</td>\n",
       "      <td>احتمالاً شنیده‌اید که ترکیب آب و سرکه می‌تواند...</td>\n",
       "      <td>به گزارش همشهری آنلاین به نقل از ایلنا، ‌ترکیب...</td>\n",
       "      <td>['زندگی', 'تندرستی']</td>\n",
       "      <td>LifeSkills</td>\n",
       "    </tr>\n",
       "  </tbody>\n",
       "</table>\n",
       "<p>80986 rows × 6 columns</p>\n",
       "</div>"
      ],
      "text/plain": [
       "                                  date  \\\n",
       "0      سه‌شنبه ۳۱ فروردین ۱۴۰۰ - ۲۳:۴۰   \n",
       "1      سه‌شنبه ۳۱ فروردین ۱۴۰۰ - ۲۳:۳۱   \n",
       "2      سه‌شنبه ۳۱ فروردین ۱۴۰۰ - ۲۳:۲۰   \n",
       "3      سه‌شنبه ۳۱ فروردین ۱۴۰۰ - ۲۲:۴۷   \n",
       "4      سه‌شنبه ۳۱ فروردین ۱۴۰۰ - ۲۲:۴۵   \n",
       "...                                ...   \n",
       "80981      یکشنبه ۱ خرداد ۱۴۰۱ - ۱۱:۵۴   \n",
       "80982      یکشنبه ۱ خرداد ۱۴۰۱ - ۱۱:۰۲   \n",
       "80983      یکشنبه ۱ خرداد ۱۴۰۱ - ۰۸:۰۰   \n",
       "80984      یکشنبه ۱ خرداد ۱۴۰۱ - ۰۷:۵۵   \n",
       "80985      یکشنبه ۱ خرداد ۱۴۰۱ - ۰۷:۲۰   \n",
       "\n",
       "                                                   title  \\\n",
       "0               واشنگتن: آمریکا و ایران هدف مشترکی دارند   \n",
       "1      عراقچی باز هم ادعاهای «منبع مطلع» پرس‌تی‌وی در...   \n",
       "2      هشدار به دیپلمات‌های آمریکا در چاد؛ مراقب جان ...   \n",
       "3             نامه مشاور رهبری به نمکی درباره واکسن پولی   \n",
       "4           درخواست از روحانی: کشور را قرنطینه کامل کنید   \n",
       "...                                                  ...   \n",
       "80981     از زینک چه می‌دانید؟ | علائم کمبود زینک یا روی   \n",
       "80982  یک راهکار ساده برای مطمئن شدن از کیفیت عینک آف...   \n",
       "80983  تصاویری از سرزمین لک‌لک‌های ایران | زریوار میز...   \n",
       "80984  ۱۰ ترفند خانگی که سردردتان را بدون نیاز به قرص...   \n",
       "80985            معجزه آب و یک قاشق سرکه سیب برای سلامتی   \n",
       "\n",
       "                                                   intro  \\\n",
       "0      سخنگوی وزارت خارجه آمریکا شامگاه سه‌شنبه در کن...   \n",
       "1      معاون وزیر امور خارجه جمهوری اسلامی ایران در ت...   \n",
       "2      وزارت خارجه آمریکا با صدور بیانیه‌ای به تمام د...   \n",
       "3      از درگیر کردن بخش خصوصی به شدت پرهیز شود، چه د...   \n",
       "4      حزب اتحاد ملت در نامه‌ای خطاب به روحانی خواستا...   \n",
       "...                                                  ...   \n",
       "80981  بدن شما نیاز به انواع مواد مغذی دارد تا عملکرد...   \n",
       "80982  استفاده از عینک آفتابی یک کار ضروری برای محافظ...   \n",
       "80983  بهار فصل خوبی برای سفر به کردستان است؛ جاده‌ها...   \n",
       "80984  سردرد مشکل نادری نیست و همه‌ ما گاهی دچارش می‌...   \n",
       "80985  احتمالاً شنیده‌اید که ترکیب آب و سرکه می‌تواند...   \n",
       "\n",
       "                                                    body  \\\n",
       "0      به گزارش همشهری‌آنلاین به نقل از فارس، ند پرای...   \n",
       "1      به گزارش همشهری‌آنلاین به نقل از ایرنا، عباس ع...   \n",
       "2      به گزارش همشهری آنلاین به نقل از فارس، به دنبا...   \n",
       "3      به گزارش همشهری آنلاین به نقل از ایسنا، در نام...   \n",
       "4      به گزارش همشهری آنلاین به نقل از خبرآنلاین، مت...   \n",
       "...                                                  ...   \n",
       "80981  به گزارش همشهری آنلاین، بدن شما نیاز به انواع ...   \n",
       "80982  به گزارش همشهری آنلاین، بررسی‌ها نشان داده قرا...   \n",
       "80983  به گزارش همشهری آنلاین، شنیدن صدای لک‌لک‌ها یک...   \n",
       "80984  به گزارش همشهری آنلاین به نقل از سلامت نیوز، ت...   \n",
       "80985  به گزارش همشهری آنلاین به نقل از ایلنا، ‌ترکیب...   \n",
       "\n",
       "                            category-PER category-ENG  \n",
       "0          ['سياست', 'سیاست\\u200cخارجی']     Politics  \n",
       "1          ['سياست', 'سیاست\\u200cخارجی']     Politics  \n",
       "2                     ['جهان', 'آمریکا']     Politics  \n",
       "3               ['سياست', 'سیاست داخلی']     Politics  \n",
       "4               ['سياست', 'سیاست داخلی']     Politics  \n",
       "...                                  ...          ...  \n",
       "80981               ['زندگی', 'تندرستی']   LifeSkills  \n",
       "80982  ['زندگی', 'مهارت\\u200cهای زندگی']   LifeSkills  \n",
       "80983           ['زندگی', 'پیشنهاد سفر']   LifeSkills  \n",
       "80984               ['زندگی', 'تندرستی']   LifeSkills  \n",
       "80985               ['زندگی', 'تندرستی']   LifeSkills  \n",
       "\n",
       "[80986 rows x 6 columns]"
      ]
     },
     "execution_count": 9,
     "metadata": {},
     "output_type": "execute_result"
    }
   ],
   "source": [
    "dataset = pd.DataFrame(dataset)\n",
    "dataset"
   ]
  },
  {
   "cell_type": "code",
   "execution_count": 102,
   "metadata": {},
   "outputs": [],
   "source": [
    "class TFIDF:\n",
    "\n",
    "    def __init__(self):\n",
    "        self.vectorizer = TfidfVectorizer(ngram_range=(1, 1))\n",
    "        self.vectors = None\n",
    "        self.feature_names = None\n",
    "        self.df = None\n",
    "    \n",
    "    def fit_transform_vectoriazer(self, dataset):\n",
    "        self.vectors = self.vectorizer.fit_transform(dataset)\n",
    "        self.feature_names = self.vectorizer.get_feature_names_out()\n",
    "        dense = self.vectors.todense()\n",
    "        denselist = dense.tolist()\n",
    "        self.df = pd.DataFrame(denselist, columns=self.feature_names)\n",
    "    \n",
    "    def predict(self, query, dataset, k):\n",
    "        query_transform = tf_idf.vectorizer.transform([query])\n",
    "        query_transform = query_transform.todense()\n",
    "        query_transform = query_transform.tolist()\n",
    "        query_transform = query_transform[0]\n",
    "        df_val = tf_idf.df.values.tolist()\n",
    "        df_cosine_sim = [self.cosine_sim(query_transform, row) for row in df_val]\n",
    "        self.df['query_sim'] = df_cosine_sim\n",
    "        res = self.df.nlargest(k, 'query_sim').index\n",
    "        print(res)\n",
    "        self.df = self.df.drop(columns=['query_sim'])\n",
    "        return dataset.iloc[res]\n",
    "        \n",
    "\n",
    "    def cosine_sim(self, query, row):\n",
    "        return np.dot(query, row) / (np.linalg.norm(query) * np.linalg.norm(row))\n",
    "\n",
    "    def save_model(self, path=\"tfidf_model.pickle\"):\n",
    "        pickle.dump(self, open(path, \"wb\"))\n",
    "        "
   ]
  },
  {
   "cell_type": "code",
   "execution_count": 103,
   "metadata": {},
   "outputs": [],
   "source": [
    "tf_idf = TFIDF()"
   ]
  },
  {
   "cell_type": "code",
   "execution_count": 104,
   "metadata": {},
   "outputs": [],
   "source": [
    "tf_idf.fit_transform_vectoriazer(dataset.loc[:10, \"body\"].tolist())"
   ]
  },
  {
   "cell_type": "code",
   "execution_count": 105,
   "metadata": {},
   "outputs": [
    {
     "name": "stdout",
     "output_type": "stream",
     "text": [
      "Int64Index([6, 3, 0], dtype='int64')\n"
     ]
    },
    {
     "data": {
      "text/html": [
       "<div>\n",
       "<style scoped>\n",
       "    .dataframe tbody tr th:only-of-type {\n",
       "        vertical-align: middle;\n",
       "    }\n",
       "\n",
       "    .dataframe tbody tr th {\n",
       "        vertical-align: top;\n",
       "    }\n",
       "\n",
       "    .dataframe thead th {\n",
       "        text-align: right;\n",
       "    }\n",
       "</style>\n",
       "<table border=\"1\" class=\"dataframe\">\n",
       "  <thead>\n",
       "    <tr style=\"text-align: right;\">\n",
       "      <th></th>\n",
       "      <th>date</th>\n",
       "      <th>title</th>\n",
       "      <th>intro</th>\n",
       "      <th>body</th>\n",
       "      <th>category-PER</th>\n",
       "      <th>category-ENG</th>\n",
       "    </tr>\n",
       "  </thead>\n",
       "  <tbody>\n",
       "    <tr>\n",
       "      <th>6</th>\n",
       "      <td>سه‌شنبه ۳۱ فروردین ۱۴۰۰ - ۲۲:۱۴</td>\n",
       "      <td>ماجرای ادعای دستکاری در جداول بودجه چه بود؟</td>\n",
       "      <td>یک عضو کمیسیون تلفیق با بیان این که هیچ تصمیمی...</td>\n",
       "      <td>به گزارش همشهری آنلاین به نقل ازباشگاه خبرنگار...</td>\n",
       "      <td>['سياست', 'مجلس']</td>\n",
       "      <td>Politics</td>\n",
       "    </tr>\n",
       "    <tr>\n",
       "      <th>3</th>\n",
       "      <td>سه‌شنبه ۳۱ فروردین ۱۴۰۰ - ۲۲:۴۷</td>\n",
       "      <td>نامه مشاور رهبری به نمکی درباره واکسن پولی</td>\n",
       "      <td>از درگیر کردن بخش خصوصی به شدت پرهیز شود، چه د...</td>\n",
       "      <td>به گزارش همشهری آنلاین به نقل از ایسنا، در نام...</td>\n",
       "      <td>['سياست', 'سیاست داخلی']</td>\n",
       "      <td>Politics</td>\n",
       "    </tr>\n",
       "    <tr>\n",
       "      <th>0</th>\n",
       "      <td>سه‌شنبه ۳۱ فروردین ۱۴۰۰ - ۲۳:۴۰</td>\n",
       "      <td>واشنگتن: آمریکا و ایران هدف مشترکی دارند</td>\n",
       "      <td>سخنگوی وزارت خارجه آمریکا شامگاه سه‌شنبه در کن...</td>\n",
       "      <td>به گزارش همشهری‌آنلاین به نقل از فارس، ند پرای...</td>\n",
       "      <td>['سياست', 'سیاست\\u200cخارجی']</td>\n",
       "      <td>Politics</td>\n",
       "    </tr>\n",
       "  </tbody>\n",
       "</table>\n",
       "</div>"
      ],
      "text/plain": [
       "                              date  \\\n",
       "6  سه‌شنبه ۳۱ فروردین ۱۴۰۰ - ۲۲:۱۴   \n",
       "3  سه‌شنبه ۳۱ فروردین ۱۴۰۰ - ۲۲:۴۷   \n",
       "0  سه‌شنبه ۳۱ فروردین ۱۴۰۰ - ۲۳:۴۰   \n",
       "\n",
       "                                         title  \\\n",
       "6  ماجرای ادعای دستکاری در جداول بودجه چه بود؟   \n",
       "3   نامه مشاور رهبری به نمکی درباره واکسن پولی   \n",
       "0     واشنگتن: آمریکا و ایران هدف مشترکی دارند   \n",
       "\n",
       "                                               intro  \\\n",
       "6  یک عضو کمیسیون تلفیق با بیان این که هیچ تصمیمی...   \n",
       "3  از درگیر کردن بخش خصوصی به شدت پرهیز شود، چه د...   \n",
       "0  سخنگوی وزارت خارجه آمریکا شامگاه سه‌شنبه در کن...   \n",
       "\n",
       "                                                body  \\\n",
       "6  به گزارش همشهری آنلاین به نقل ازباشگاه خبرنگار...   \n",
       "3  به گزارش همشهری آنلاین به نقل از ایسنا، در نام...   \n",
       "0  به گزارش همشهری‌آنلاین به نقل از فارس، ند پرای...   \n",
       "\n",
       "                    category-PER category-ENG  \n",
       "6              ['سياست', 'مجلس']     Politics  \n",
       "3       ['سياست', 'سیاست داخلی']     Politics  \n",
       "0  ['سياست', 'سیاست\\u200cخارجی']     Politics  "
      ]
     },
     "execution_count": 105,
     "metadata": {},
     "output_type": "execute_result"
    }
   ],
   "source": [
    "query = \"آخر آحاد\"\n",
    "tf_idf.predict(query, dataset, 3)"
   ]
  },
  {
   "cell_type": "code",
   "execution_count": 106,
   "metadata": {},
   "outputs": [
    {
     "data": {
      "text/plain": [
       "date                              سه‌شنبه ۳۱ فروردین ۱۴۰۰ - ۲۲:۱۴\n",
       "title                 ماجرای ادعای دستکاری در جداول بودجه چه بود؟\n",
       "intro           یک عضو کمیسیون تلفیق با بیان این که هیچ تصمیمی...\n",
       "body            به گزارش همشهری آنلاین به نقل ازباشگاه خبرنگار...\n",
       "category-PER                                    ['سياست', 'مجلس']\n",
       "category-ENG                                             Politics\n",
       "Name: 6, dtype: object"
      ]
     },
     "execution_count": 106,
     "metadata": {},
     "output_type": "execute_result"
    }
   ],
   "source": [
    "dataset.loc[6]"
   ]
  },
  {
   "cell_type": "code",
   "execution_count": 107,
   "metadata": {},
   "outputs": [],
   "source": [
    "tf_idf.save_model()"
   ]
  },
  {
   "cell_type": "code",
   "execution_count": 111,
   "metadata": {},
   "outputs": [
    {
     "data": {
      "text/plain": [
       "<11x1258 sparse matrix of type '<class 'numpy.float64'>'\n",
       "\twith 2068 stored elements in Compressed Sparse Row format>"
      ]
     },
     "execution_count": 111,
     "metadata": {},
     "output_type": "execute_result"
    }
   ],
   "source": [
    "mod = pickle.load(open('tfidf_model.pickle', 'rb'))\n",
    "mod.vectors"
   ]
  },
  {
   "cell_type": "code",
   "execution_count": null,
   "metadata": {},
   "outputs": [],
   "source": []
  }
 ],
 "metadata": {
  "interpreter": {
   "hash": "aee8b7b246df8f9039afb4144a1f6fd8d2ca17a180786b69acc140d282b71a49"
  },
  "kernelspec": {
   "display_name": "Python 3.10.0 64-bit",
   "language": "python",
   "name": "python3"
  },
  "language_info": {
   "codemirror_mode": {
    "name": "ipython",
    "version": 3
   },
   "file_extension": ".py",
   "mimetype": "text/x-python",
   "name": "python",
   "nbconvert_exporter": "python",
   "pygments_lexer": "ipython3",
   "version": "3.10.0"
  }
 },
 "nbformat": 4,
 "nbformat_minor": 0
}
