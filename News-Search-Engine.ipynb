{
 "cells": [
  {
   "cell_type": "markdown",
   "metadata": {
    "collapsed": true,
    "pycharm": {
     "name": "#%% md\n"
    },
    "id": "0ukP3ituDSCG"
   },
   "source": [
    "<div dir=\"auto\" align=\"center\">\n",
    "    <h3>\n",
    "        بسم الله الرحمن الرحیم\n",
    "    </h3>\n",
    "    <br>\n",
    "    <h1>\n",
    "        <strong>\n",
    "            بازیابی پیشرفته اطلاعات\n",
    "        </strong>\n",
    "    </h1>\n",
    "    <h2>\n",
    "        <strong>\n",
    "            تمرین سوم (موتور جستجوی اخبار)\n",
    "        </strong>\n",
    "    </h2>\n",
    "    <br>\n",
    "    <h3>\n",
    "        محمد هجری - ٩٨١٠٦١٥٦\n",
    "        <br><br>\n",
    "        ارشان دلیلی - ٩٨١٠٥٧٥١\n",
    "        <br><br>\n",
    "        سروش جهان‌زاد - ٩٨١٠٠٣٨٩\n",
    "    </h3>\n",
    "    <br>\n",
    "</div>\n",
    "<hr>"
   ]
  },
  {
   "cell_type": "markdown",
   "source": [
    "<div>\n",
    "    <h3 style='direction:rtl;text-align:justify;'>\n",
    "        دسترسی به داده‌ها و مدل‌های ذخیره شده\n",
    "    </h3>\n",
    "</div>\n",
    "\n",
    "<div dir=\"auto\" align=\"justify\">\n",
    "    <p style='direction:rtl;text-align:justify;'>\n",
    "        به دلیل حجم بالای فایل‌های ذخیره شده، از قرار دادن آن‌ها در پوشه نوتبوک صرف نظر کرده و با اجرای قطعه کد زیر، از طریق گوگل درایو به آن‌ها دسترسی پیدا می‌کنیم.\n",
    "    </p>\n",
    "</div>"
   ],
   "metadata": {
    "collapsed": false
   }
  },
  {
   "cell_type": "code",
   "execution_count": null,
   "outputs": [],
   "source": [
    "# import sys\n",
    "# from google.colab import drive\n",
    "# drive.mount('/content/drive')\n",
    "# address = \"University/Term 6/MIR/Homeworks/HW3\"\n",
    "# sys.path.append(f\"/content/drive/My Drive/{address}\")\n",
    "# %cd /content/drive/My\\ Drive/$address"
   ],
   "metadata": {
    "collapsed": false,
    "pycharm": {
     "name": "#%%\n"
    }
   }
  },
  {
   "cell_type": "markdown",
   "metadata": {
    "collapsed": false,
    "pycharm": {
     "name": "#%% md\n"
    },
    "id": "IR0F_wAbDSCJ"
   },
   "source": [
    "<div>\n",
    "    <h3 style='direction:rtl;text-align:justify;'>\n",
    "        نصب و دسترسی به کتابخانه‌های مورد نیاز\n",
    "    </h3>\n",
    "</div>\n",
    "\n",
    "<div dir=\"auto\" align=\"justify\">\n",
    "    <p style='direction:rtl;text-align:justify;'>\n",
    "        با اجرای دو قطعه کد زیر، کتابخانه‌هایی که از آن‌ها در این تمرین استفاده شده است، نصب و قابل استفاده می‌شوند.\n",
    "    </p>\n",
    "</div>"
   ]
  },
  {
   "cell_type": "code",
   "execution_count": 1,
   "metadata": {
    "pycharm": {
     "name": "#%%\n"
    },
    "colab": {
     "base_uri": "https://localhost:8080/"
    },
    "id": "IfxCzBqoDSCK",
    "outputId": "41eaa43f-1339-453a-ab07-b821ac8238be"
   },
   "outputs": [],
   "source": [
    "# !pip install bs4\n",
    "# !pip install tqdm\n",
    "# !pip install pandas\n",
    "# !pip install requests\n",
    "# !pip install hazm\n",
    "# !pip install unidecode\n",
    "# !pip install fasttext\n",
    "# !pip install scikit-learn\n",
    "# !pip install pandas\n",
    "# !pip install nltk\n",
    "# !pip install torch\n",
    "# !pip install transformers\n",
    "# !pip install sentence_transformers\n",
    "# !pip install faiss-cpu\n",
    "# !pip install faiss-gpu"
   ]
  },
  {
   "cell_type": "code",
   "execution_count": 3,
   "metadata": {
    "pycharm": {
     "name": "#%%\n"
    },
    "id": "sIglKdxHDSCM"
   },
   "outputs": [],
   "source": [
    "import os\n",
    "import re\n",
    "import csv\n",
    "import hazm\n",
    "import nltk\n",
    "import json\n",
    "import torch\n",
    "import faiss\n",
    "import pickle\n",
    "import zipfile\n",
    "import requests\n",
    "import fasttext\n",
    "import numpy as np\n",
    "import pandas as pd\n",
    "from tqdm import tqdm\n",
    "from pathlib import Path\n",
    "from bs4 import BeautifulSoup\n",
    "from string import punctuation\n",
    "from IPython.display import display\n",
    "from sentence_transformers import SentenceTransformer\n",
    "from sklearn.feature_extraction.text import TfidfVectorizer, CountVectorizer"
   ]
  },
  {
   "cell_type": "markdown",
   "metadata": {
    "collapsed": false,
    "pycharm": {
     "name": "#%% md\n"
    },
    "id": "aNJYaFC1DSCM"
   },
   "source": [
    "<div>\n",
    "    <h3 style='direction:rtl;text-align:justify;'>\n",
    "        ١. دریافت داده‌ها\n",
    "    </h3>\n",
    "</div>\n",
    "\n",
    "<div dir=\"auto\" align=\"justify\">\n",
    "    <p style='direction:rtl;text-align:justify;'>\n",
    "        در این تمرین، بیش از ٦٨ هزار خبر از\n",
    "        <a href=\"https://www.hamshahrionline.ir/\"> وب‌سایت همشهری‌آنلاین </a>\n",
    "        گردآوری شده که در ١٠ دسته‌ی سیاسی، جهانی، اقتصادی، اجتماعی، شهری، ورزشی، علمی، فرهنگی، فناوری اطلاعات و مهارت‌های زندگی طبقه‌بندی شده‌اند.\n",
    "    </p>\n",
    "</div>"
   ]
  },
  {
   "cell_type": "code",
   "execution_count": 4,
   "metadata": {
    "pycharm": {
     "name": "#%%\n"
    },
    "id": "I5D13VU7DSCN"
   },
   "outputs": [],
   "source": [
    "CATEGORIES = {\n",
    "    'Politics': 'سیاسی',\n",
    "    'World': 'جهانی',\n",
    "    'Economy': 'اقتصادی',\n",
    "    'Society': 'اجتماعی',\n",
    "    'City': 'شهری',\n",
    "    'Sport': 'ورزشی',\n",
    "    'Science': 'علمی',\n",
    "    'Culture': 'فرهنگی',\n",
    "    'IT': 'فناوری اطلاعات',\n",
    "    'LifeSkills': 'مهارت‌های زندگی',\n",
    "}"
   ]
  },
  {
   "cell_type": "markdown",
   "metadata": {
    "collapsed": false,
    "pycharm": {
     "name": "#%% md\n"
    },
    "id": "gviMdkLQDSCN"
   },
   "source": [
    "<div dir=\"auto\" align=\"justify\">\n",
    "    <p style='direction:rtl;text-align:justify;'>\n",
    "        برای دریافت داده‌ها یک ماژول Scraper ساخته‌ایم که اخبار مربوط به ١٠ دسته‌ی مذکور را در بازه‌ی زمانی تعیین شده، کراول کرده و در فایل dataset.zip ذخیره و فشرده سازی می‌کند. کد مربوط به این ماژول را در زیر مشاهده می‌کنید.\n",
    "    </p>\n",
    "</div>"
   ]
  },
  {
   "cell_type": "code",
   "execution_count": null,
   "metadata": {
    "pycharm": {
     "name": "#%%\n"
    },
    "id": "zlmFrCEHDSCO"
   },
   "outputs": [],
   "source": [
    "class Scraper:\n",
    "\n",
    "    def __init__(self, current_year, current_month):\n",
    "        self.current_year = current_year\n",
    "        self.current_month = current_month\n",
    "\n",
    "    def get_URL_content(self, URL):\n",
    "        while True:\n",
    "            try:\n",
    "                return requests.get(URL, timeout=5).content\n",
    "            except:\n",
    "                pass\n",
    "\n",
    "    def generate_page_URL(self, page_index, category, year, month):\n",
    "        tp = {'Politics': 6, 'World': 11, 'Economy': 10, 'Society': 5, 'City': 7,\n",
    "              'Sport': 9, 'Science': 20, 'Culture': 26, 'IT': 718, 'LifeSkills': 21}[category]\n",
    "        return f'https://www.hamshahrionline.ir/archive?pi={page_index}&tp={tp}&ty=1&ms=0&mn={month}&yr={year}'\n",
    "\n",
    "    def get_page_URLs_by_time(self, category, year, month):\n",
    "        URLs = []\n",
    "        page_index = 1\n",
    "        while True:\n",
    "            URL = self.generate_page_URL(page_index, category, year, month)\n",
    "            content = self.get_URL_content(URL)\n",
    "            if re.findall('pagination', str(content)):\n",
    "                URLs.append(URL)\n",
    "                page_index += 1\n",
    "            else:\n",
    "                break\n",
    "        return URLs\n",
    "\n",
    "    def get_page_URLs_since(self, category, year, month):\n",
    "        URLs = []\n",
    "        with tqdm() as pbar:\n",
    "            while True:\n",
    "                if month > 12:\n",
    "                    month = 1\n",
    "                    year += 1\n",
    "                pbar.set_description(f'[{category}] [Extracting page URLs] [Date: {year}/{month}]')\n",
    "                URLs_by_time = self.get_page_URLs_by_time(category, year, month)\n",
    "                if URLs_by_time:\n",
    "                    for URL in URLs_by_time:\n",
    "                        URLs.append(URL)\n",
    "                    month += 1\n",
    "                elif self.current_year > year or (self.current_year == year and self.current_month > month):\n",
    "                    month += 1\n",
    "                else:\n",
    "                    break\n",
    "        return URLs\n",
    "\n",
    "    def get_news_URLs_since(self, category, year, month):\n",
    "        news_URLs = []\n",
    "        page_URLs = self.get_page_URLs_since(category, year, month)\n",
    "        with tqdm(page_URLs) as pbar:\n",
    "            for page_URL in pbar:\n",
    "                content = self.get_URL_content(page_URL)\n",
    "                soup = BeautifulSoup(content, 'html5lib')\n",
    "                for item in soup.findAll('li', attrs={'class': 'news'}):\n",
    "                    URL = item.find('div', attrs={'class': 'desc'}).find('h3').find('a')['href']\n",
    "                    URL = 'https://www.hamshahrionline.ir' + URL\n",
    "                    news_URLs.append(URL)\n",
    "                pbar.set_description(f'[{category}] [Extracting news URLs] [{len(news_URLs)} news until now]')\n",
    "        return news_URLs\n",
    "\n",
    "    def parse_news(self, URL, category):\n",
    "        try:\n",
    "            content = self.get_URL_content(URL)\n",
    "            soup = BeautifulSoup(content, 'html.parser')\n",
    "            date = soup.find('div', {'class': 'col-6 col-sm-4 col-xl-4 item-date'}).span.text.strip()\n",
    "            title = soup.find('div', {'class': 'item-title'}).h1.text.strip()\n",
    "            intro = soup.find('p', {'class': 'introtext', 'itemprop': 'description'}).text.strip()\n",
    "            body = soup.find('div', {'class': 'item-text', 'itemprop': 'articleBody'}).text.strip()\n",
    "            return {\n",
    "                'date': date,\n",
    "                'title': title,\n",
    "                'intro': intro,\n",
    "                'body': body,\n",
    "                'category': category,\n",
    "            }\n",
    "        except:\n",
    "            return None\n",
    "\n",
    "    def scrape(self, from_year, from_month):\n",
    "        categories = ['Politics', 'World', 'Economy', 'Society', 'City',\n",
    "                      'Sport', 'Science', 'Culture', 'IT', 'LifeSkills']\n",
    "        news = []\n",
    "        for category in categories:\n",
    "            URLs = self.get_news_URLs_since(category, from_year, from_month)\n",
    "            with tqdm(URLs) as pbar:\n",
    "                pbar.set_description(f'[{category}] [Scraping news]')\n",
    "                for URL in pbar:\n",
    "                    news.append(self.parse_news(URL, category))\n",
    "        news = list(filter(None, news))\n",
    "        pd.DataFrame(news).to_csv(f'dataset.csv', encoding='utf-8')\n",
    "        with zipfile.ZipFile('dataset.zip', 'w', zipfile.ZIP_DEFLATED) as zip_file:\n",
    "            zip_file.write('dataset.csv')\n",
    "        os.remove('dataset.csv')"
   ]
  },
  {
   "cell_type": "markdown",
   "metadata": {
    "collapsed": false,
    "pycharm": {
     "name": "#%% md\n"
    },
    "id": "Kt-SS3ReDSCP"
   },
   "source": [
    "<div dir=\"auto\" align=\"justify\">\n",
    "    <p style='direction:rtl;text-align:justify;'>\n",
    "        با اجرای قطعه کد زیر، یک instance از ماژول Scraper ایجاد شده و شروع به دریافت و ذخیره‌سازی داده‌ها می‌کند. خبرهای دریافت شده همگی مربوط به قرن جدید، از سال ١٤٠٠ به بعد هستند.\n",
    "    </p>\n",
    "</div>"
   ]
  },
  {
   "cell_type": "code",
   "execution_count": null,
   "metadata": {
    "pycharm": {
     "name": "#%%\n"
    },
    "id": "uiwTDzE6DSCP"
   },
   "outputs": [],
   "source": [
    "scraper = Scraper(current_year=1401, current_month=3)\n",
    "# scraper.scrape(from_year=1400, from_month=1)"
   ]
  },
  {
   "cell_type": "markdown",
   "metadata": {
    "collapsed": false,
    "pycharm": {
     "name": "#%% md\n"
    },
    "id": "2ynwZYeLDSCQ"
   },
   "source": [
    "<div dir=\"auto\" align=\"justify\">\n",
    "    <p style='direction:rtl;text-align:justify;'>\n",
    "        بعد از ذخیره شدن داده‌ها در فایل فشرده dataset.zip، آن‌ها را از این فایل استخراج کرده و وارد برنامه می‌کنیم. با اجرای قطعه کد زیر، تعداد خبرهای هر دسته و تعداد کل خبرها را می‌توان مشاهده کرد.\n",
    "    </p>\n",
    "</div>"
   ]
  },
  {
   "cell_type": "code",
   "execution_count": 5,
   "metadata": {
    "pycharm": {
     "name": "#%%\n"
    },
    "id": "bFUFTo7mDSCQ"
   },
   "outputs": [],
   "source": [
    "def read_dataset_from_file():\n",
    "    dataset = []\n",
    "    with zipfile.ZipFile('dataset.zip', 'r') as zip_file:\n",
    "        zip_file.extractall()\n",
    "    with open('dataset.csv', encoding='utf-8') as file:\n",
    "        csv_reader = csv.reader(file)\n",
    "        header = next(csv_reader)\n",
    "        for row in csv_reader:\n",
    "            data = dict(zip(header[1:], row[1:]))\n",
    "            dataset.append(data)\n",
    "    os.remove('dataset.csv')\n",
    "    return dataset\n",
    "\n",
    "\n",
    "dataset = pd.DataFrame(read_dataset_from_file())"
   ]
  },
  {
   "cell_type": "markdown",
   "metadata": {
    "collapsed": false,
    "pycharm": {
     "name": "#%% md\n"
    },
    "id": "OkLqdbKkDSCR"
   },
   "source": [
    "<div dir=\"auto\" align=\"justify\">\n",
    "    <p style='direction:rtl;text-align:justify;'>\n",
    "    با اجرای قطعه کد زیر، تعداد خبرهای هر دسته و تعداد کل خبرها را می‌توان مشاهده کرد.\n",
    "    </p>\n",
    "</div>"
   ]
  },
  {
   "cell_type": "code",
   "execution_count": 6,
   "metadata": {
    "pycharm": {
     "name": "#%%\n"
    },
    "colab": {
     "base_uri": "https://localhost:8080/",
     "height": 390
    },
    "id": "ktN_vJjlDSCR",
    "outputId": "6df262de-3d17-4bda-9850-9c1f5d1fd4f6"
   },
   "outputs": [
    {
     "data": {
      "text/plain": "               دسته  تعداد\n0          کل خبرها  68362\n1             سیاسی  15798\n2             جهانی   2895\n3           اقتصادی   8900\n4           اجتماعی  13585\n5              شهری   3853\n6             ورزشی   8348\n7              علمی   3190\n8            فرهنگی   6512\n9    فناوری اطلاعات    437\n10  مهارت‌های زندگی   4844",
      "text/html": "<div>\n<style scoped>\n    .dataframe tbody tr th:only-of-type {\n        vertical-align: middle;\n    }\n\n    .dataframe tbody tr th {\n        vertical-align: top;\n    }\n\n    .dataframe thead th {\n        text-align: right;\n    }\n</style>\n<table border=\"1\" class=\"dataframe\">\n  <thead>\n    <tr style=\"text-align: right;\">\n      <th></th>\n      <th>دسته</th>\n      <th>تعداد</th>\n    </tr>\n  </thead>\n  <tbody>\n    <tr>\n      <th>0</th>\n      <td>کل خبرها</td>\n      <td>68362</td>\n    </tr>\n    <tr>\n      <th>1</th>\n      <td>سیاسی</td>\n      <td>15798</td>\n    </tr>\n    <tr>\n      <th>2</th>\n      <td>جهانی</td>\n      <td>2895</td>\n    </tr>\n    <tr>\n      <th>3</th>\n      <td>اقتصادی</td>\n      <td>8900</td>\n    </tr>\n    <tr>\n      <th>4</th>\n      <td>اجتماعی</td>\n      <td>13585</td>\n    </tr>\n    <tr>\n      <th>5</th>\n      <td>شهری</td>\n      <td>3853</td>\n    </tr>\n    <tr>\n      <th>6</th>\n      <td>ورزشی</td>\n      <td>8348</td>\n    </tr>\n    <tr>\n      <th>7</th>\n      <td>علمی</td>\n      <td>3190</td>\n    </tr>\n    <tr>\n      <th>8</th>\n      <td>فرهنگی</td>\n      <td>6512</td>\n    </tr>\n    <tr>\n      <th>9</th>\n      <td>فناوری اطلاعات</td>\n      <td>437</td>\n    </tr>\n    <tr>\n      <th>10</th>\n      <td>مهارت‌های زندگی</td>\n      <td>4844</td>\n    </tr>\n  </tbody>\n</table>\n</div>"
     },
     "metadata": {},
     "output_type": "display_data"
    }
   ],
   "source": [
    "def display_dataset_info():\n",
    "    global CATEGORIES, dataset\n",
    "\n",
    "    length_dict = {key: 0 for key in CATEGORIES.keys()}\n",
    "    for _, data in dataset.iterrows():\n",
    "        length_dict[data['category']] += 1\n",
    "\n",
    "    df_dict = {\n",
    "        'دسته': CATEGORIES.values(),\n",
    "        'تعداد': length_dict.values(),\n",
    "    }\n",
    "\n",
    "    df = pd.DataFrame(df_dict)\n",
    "    df.index += 1\n",
    "    df.loc[0] = ['کل خبرها', len(dataset)]\n",
    "    df = df.sort_index()\n",
    "    display(df)\n",
    "\n",
    "\n",
    "display_dataset_info()"
   ]
  },
  {
   "cell_type": "markdown",
   "metadata": {
    "collapsed": false,
    "pycharm": {
     "name": "#%% md\n"
    },
    "id": "Bah1P3lNDSCS"
   },
   "source": [
    "<div>\n",
    "    <h3 style='direction:rtl;text-align:justify;'>\n",
    "        ٢. پیش پردازش اولیه‌ی متن\n",
    "    </h3>\n",
    "</div>\n",
    "\n",
    "<div dir=\"auto\" align=\"justify\">\n",
    "    <p style='direction:rtl;text-align:justify;'>\n",
    "        ابزار مورد استفاده برای پیش‌پردازش متن ورودی به صورت ماژولار طراحی شده است؛ به طوری که با صدا زدن تابع preprocess از آن، متن داده شده با عبور از یک خط لوله به صورت مرحله به مرحله تغییر می‌کند تا به یک ساختار استاندارد برسد. این مراحل عبارتند از:\n",
    "    </p>\n",
    "</div>\n",
    "\n",
    "<div dir=\"auto\" align=\"justify\">\n",
    "    <li style='direction:rtl;text-align:justify;'>\n",
    "        نرمال سازی داده‌ها (normalize)\n",
    "    </li>\n",
    "    <li style='direction:rtl;text-align:justify;'>\n",
    "        حذف لینک‌ها (remove_links)\n",
    "    </li>\n",
    "    <li style='direction:rtl;text-align:justify;'>\n",
    "        حذف نشانه‌های نگارشی (remove_punctuations)\n",
    "    </li>\n",
    "    <li style='direction:rtl;text-align:justify;'>\n",
    "        واحد سازی داده‌ها (word_tokenize)\n",
    "    </li>\n",
    "    <li style='direction:rtl;text-align:justify;'>\n",
    "        حذف کلمات نامعتبر (remove_invalid_words)\n",
    "    </li>\n",
    "    <li style='direction:rtl;text-align:justify;'>\n",
    "        حذف ایست‌واژه‌ها (remove_stopwords)\n",
    "    </li>\n",
    "</div>"
   ]
  },
  {
   "cell_type": "code",
   "execution_count": 7,
   "metadata": {
    "pycharm": {
     "name": "#%%\n"
    },
    "id": "SjtCqkWsDSCS"
   },
   "outputs": [],
   "source": [
    "class Preprocessor:\n",
    "\n",
    "    def __init__(self, stopwords_path):\n",
    "        self.stopwords = []\n",
    "        with open(stopwords_path, encoding='utf-8') as file:\n",
    "            self.stopwords = file.read().split()\n",
    "\n",
    "    def preprocess(self, text):\n",
    "        text = self.normalize(text)\n",
    "        text = self.remove_links(text)\n",
    "        text = self.remove_punctuations(text)\n",
    "        words = self.word_tokenize(text)\n",
    "        words = self.remove_invalid_words(words)\n",
    "        words = self.remove_stopwords(words)\n",
    "        return words\n",
    "\n",
    "    def normalize(self, text):\n",
    "        return hazm.Normalizer().normalize(text)\n",
    "\n",
    "    def remove_links(self, text):\n",
    "        patterns = ['\\S*http\\S*', '\\S*www\\S*', '\\S+\\.ir\\S*', '\\S+\\.com\\S*', '\\S+\\.org\\S*', '\\S*@\\S*']\n",
    "        for pattern in patterns:\n",
    "            text = re.sub(pattern, ' ', text)\n",
    "        return text\n",
    "\n",
    "    def remove_punctuations(self, text):\n",
    "        return re.sub(f'[{punctuation}؟،٪×÷»«]+', '', text)\n",
    "\n",
    "    def word_tokenize(self, text):\n",
    "        return hazm.word_tokenize(text)\n",
    "\n",
    "    def remove_invalid_words(self, words):\n",
    "        return [word for word in words if len(word) > 3 or re.match('^[\\u0600-\\u06FF]{2,3}$', word)]\n",
    "\n",
    "    def remove_stopwords(self, words):\n",
    "        return [word for word in words if word not in self.stopwords]"
   ]
  },
  {
   "cell_type": "code",
   "source": [
    "def save_preprocessed_texts(texts, path=\"Preprocessed_texts.pickle\"):\n",
    "    with open(path, \"wb\") as file:\n",
    "        pickle.dump(texts, file)\n",
    "\n",
    "\n",
    "def load_preprocessed_texts(path=\"Preprocessed_texts.pickle\"):\n",
    "    with open(path, \"rb\") as file:\n",
    "        return pickle.load(file)\n",
    "\n",
    "\n",
    "def data_to_text(data):\n",
    "    return ' '.join([data['title'], data['intro'], data['body']]).lower()\n",
    "\n",
    "\n",
    "def get_preprocessed_texts(dataset, preprocessor, mode, save=False):\n",
    "    preprocessed_texts = []\n",
    "    if mode == 'process':\n",
    "        texts = [data_to_text(data) for _, data in dataset.iterrows()]\n",
    "        preprocessed_texts = [preprocessor.preprocess(text) for text in tqdm(texts)]\n",
    "    if mode == 'load':\n",
    "        preprocessed_texts = load_preprocessed_texts()\n",
    "    if save:\n",
    "        save_preprocessed_texts(preprocessed_texts)\n",
    "    return preprocessed_texts"
   ],
   "metadata": {
    "id": "BjH18UKt0b9O"
   },
   "execution_count": 8,
   "outputs": []
  },
  {
   "cell_type": "markdown",
   "metadata": {
    "collapsed": false,
    "pycharm": {
     "name": "#%% md\n"
    },
    "id": "SQqYXKb1DSCT"
   },
   "source": [
    "<div dir=\"auto\" align=\"justify\">\n",
    "    <p style='direction:rtl;text-align:justify;'>\n",
    "        با اجرای قطعه کد زیر، یک instance از ماژول Preprocessor ایجاد کرده و شروع به پیش پردازش داده‌ها می‌کنیم.\n",
    "    </p>\n",
    "</div>"
   ]
  },
  {
   "cell_type": "code",
   "execution_count": 9,
   "metadata": {
    "pycharm": {
     "name": "#%%\n"
    },
    "id": "8cc5G2zWDSCT"
   },
   "outputs": [],
   "source": [
    "preprocessor = Preprocessor(stopwords_path='stopwords.txt')\n",
    "preprocessed_texts = get_preprocessed_texts(dataset, preprocessor, mode='load', save=False)"
   ]
  },
  {
   "cell_type": "markdown",
   "source": [
    "<div dir=\"auto\" align=\"justify\">\n",
    "    <p style='direction:rtl;text-align:justify;'>\n",
    "        با توجه به این که حجم مجموعه داده‌ها باعث ایجاد محدودیت حافظه و زمان برای بعضی از مدل‌ها می‌شود، ناچار هستیم کسری از مجموعه‌ی داده‌ها را به عنوان ورودی برای یادگیری به آن‌ها بدهیم. با اجرای قطعه کد زیر، یک مجموعه داده‌ی کوچک‌تر از روی مجموعه داده‌ی اصلی ایجاد می‌کنیم.\n",
    "    </p>\n",
    "</div>"
   ],
   "metadata": {
    "collapsed": false,
    "pycharm": {
     "name": "#%% md\n"
    }
   }
  },
  {
   "cell_type": "code",
   "execution_count": 10,
   "metadata": {
    "pycharm": {
     "name": "#%%\n"
    },
    "colab": {
     "base_uri": "https://localhost:8080/"
    },
    "id": "MKMAe5bwDSCU",
    "outputId": "9ab48067-ae66-46d5-b782-1d4af19bb342"
   },
   "outputs": [
    {
     "name": "stderr",
     "output_type": "stream",
     "text": [
      "100%|██████████| 4000/4000 [00:21<00:00, 185.93it/s]\n"
     ]
    }
   ],
   "source": [
    "def get_mini_dataset(len_each_category=400):\n",
    "    global CATEGORIES, dataset\n",
    "\n",
    "    mini_dataset = []\n",
    "    for category in CATEGORIES.keys():\n",
    "        dataset_by_category = dataset.loc[dataset['category'] == category]\n",
    "        length = min(len_each_category, dataset_by_category.shape[0])\n",
    "        mini_dataset.append(dataset_by_category.sample(length, random_state=1))\n",
    "\n",
    "    mini_dataset = pd.concat(mini_dataset).reset_index(drop=True)\n",
    "    texts = [data_to_text(data) for _, data in mini_dataset.iterrows()]\n",
    "    mini_preprocessed_texts = [preprocessor.preprocess(text) for text in tqdm(texts)]\n",
    "    return mini_dataset, mini_preprocessed_texts\n",
    "\n",
    "\n",
    "mini_dataset, mini_preprocessed_texts = get_mini_dataset()"
   ]
  },
  {
   "cell_type": "markdown",
   "metadata": {
    "id": "XdQgh_S1DSCT"
   },
   "source": [
    "<div>\n",
    "    <h3 style='direction:rtl;text-align:justify;'>\n",
    "        ٣. دریافت اخبار مرتبط با کوئری کاربر\n",
    "    </h3>\n",
    "</div>\n",
    "\n",
    "<div dir=\"auto\" align=\"justify\">\n",
    "    <p style='direction:rtl;text-align:justify;'>\n",
    "        در این مرحله با استفاده از چهار مدل متفاوت زبانی، شروع به یادگیری روی خبرهای استخراج شده می‌کنیم و در انتها، نتیجه اجرای ده کوئری را بر روی هر یک مشاهده می‌کنیم. کوئری‌های مورد استفاده در این بخش در زیر آمده‌اند.\n",
    "    </p>\n",
    "</div>"
   ]
  },
  {
   "cell_type": "code",
   "execution_count": 244,
   "outputs": [],
   "source": [
    "QUERIES = [\n",
    "    \"نتیجه توافق برجام\",\n",
    "    \"حمله ارتش روسیه به اوکراین\",\n",
    "    \"افزایش نرخ تورم در کشور\",\n",
    "    \"آمار فوتی‌های کرونا\",\n",
    "    \"اقدامات شهرداری تهران\",\n",
    "    \"صعود ایران به جام جهانی\",\n",
    "    \"بیماری آبله میمونی\",\n",
    "    \"جشنواره فیلم فجر\",\n",
    "    \"رشد رمزارزها\",\n",
    "    \"روش پخت غذا\",\n",
    "]\n",
    "\n",
    "BOOLEAN_EXTRA_QUERIES = [\n",
    "    ['اوپو', 'ردمی'],\n",
    "    ['اوپو', 'ردمی', '-شیائومی'],\n",
    "]\n",
    "\n",
    "COMPLEX_QUERIES = [\n",
    "    \"چه رژیمی برای لاغری مناسب است؟\",\n",
    "]"
   ],
   "metadata": {
    "pycharm": {
     "name": "#%%\n"
    },
    "id": "Ji8WjLVOuYpT"
   }
  },
  {
   "cell_type": "markdown",
   "source": [
    "<div>\n",
    "    <h4 style='direction:rtl;text-align:justify;'>\n",
    "        ١. مدل مبتنی بر روش boolean\n",
    "    </h4>\n",
    "</div>\n",
    "\n",
    "<div dir=\"auto\" align=\"justify\">\n",
    "    <p style='direction:rtl;text-align:justify;'>\n",
    "    برای ایجاد این مدل، از کلاس CountVectorizer کتابخانه sklearn استفاده می‌کنیم تا به ازای هر کلمه مشخص شود که در کدام داکیومنت‌ها آمده است. توجه کنید که امکان سرچ با استفاده از عملگرهای or و not نیز پیاده‌سازی شده است. کلمات موجود در یک زیرکوئری همگی رابطه‌ی and را دارند. یک لیست از زیرکوئری‌ها نقش or را ایفا می‌کند. در نهایت، برای exclude کردن یک عبارت از نتایج جست و جو، کافی است در ابتدای عبارت مد نظر کاراکتر \"-\" گذاشته شود تا به عنوان not عمل کند.\n",
    "    </p>\n",
    "</div>"
   ],
   "metadata": {
    "collapsed": false,
    "pycharm": {
     "name": "#%% md\n"
    }
   }
  },
  {
   "cell_type": "code",
   "execution_count": 12,
   "metadata": {
    "id": "yZrRves_DSCU"
   },
   "outputs": [],
   "source": [
    "class BooleanIR:\n",
    "\n",
    "    def __init__(self):\n",
    "        self.vectorizer = CountVectorizer(binary=True)\n",
    "        self.vectors = None\n",
    "        self.words = None\n",
    "        self.dense_vectors_df = None\n",
    "\n",
    "    def fit_transform_vectorizer(self, dataset):\n",
    "        self.vectors = self.vectorizer.fit_transform(list(map(lambda doc: ' '.join(doc), dataset)))\n",
    "        self.words = self.vectorizer.get_feature_names_out()\n",
    "        dense_vectors = self.vectors.todense().tolist()\n",
    "        self.dense_vectors_df = pd.DataFrame(dense_vectors, columns=self.words)\n",
    "\n",
    "    def preprocess_query(self, query):\n",
    "        preprocessor = Preprocessor(stopwords_path='stopwords.txt')\n",
    "        preprocessed_query = []\n",
    "        for subquery in query:\n",
    "            if subquery[0] == '-':\n",
    "                preprocessed_query.append('-' + (' '.join(preprocessor.preprocess(subquery[1:]))))\n",
    "            else:\n",
    "                preprocessed_query.append(' '.join(preprocessor.preprocess(subquery)))\n",
    "        return preprocessed_query\n",
    "\n",
    "    def predict(self, query, dataset, k):\n",
    "        query = self.preprocess_query(query)\n",
    "        query_result = []\n",
    "        query_result_BUT = []\n",
    "        for subquery in query:\n",
    "            is_subquery_but = False\n",
    "            if subquery[0] == '-':\n",
    "                is_subquery_but = True\n",
    "                subquery = subquery[1:]\n",
    "            query_transform = self.vectorizer.transform([subquery]).todense().tolist()[0]\n",
    "            query_indices = np.nonzero(query_transform)[0]\n",
    "            for index, doc in self.dense_vectors_df.iterrows():\n",
    "                if all(np.take(doc, query_indices)):\n",
    "                    if is_subquery_but:\n",
    "                        query_result_BUT.append(index)\n",
    "                    else:\n",
    "                        query_result.append(index)\n",
    "        query_result = list(set(query_result) - set(query_result_BUT))\n",
    "        k = min(k, len(query_result))\n",
    "        return dataset.iloc[query_result[:k]]\n",
    "\n",
    "    def save_boolean_model(self, path='BooleanIR_model.pickle'):\n",
    "        with open(path, \"wb\") as file:\n",
    "            pickle.dump(self, file)\n",
    "\n",
    "    def load_boolean_model(self, path='BooleanIR_model.pickle'):\n",
    "        with open(path, \"rb\") as file:\n",
    "            return pickle.load(file)\n",
    "\n",
    "    def prepare(self, dataset, mode, save=False):\n",
    "        model = None\n",
    "        if mode == 'train':\n",
    "            self.fit_transform_vectorizer(dataset)\n",
    "            model = self\n",
    "        if mode == 'load':\n",
    "            model = self.load_boolean_model()\n",
    "        if save:\n",
    "            self.save_boolean_model()\n",
    "        return model"
   ]
  },
  {
   "cell_type": "markdown",
   "source": [
    "<div dir=\"auto\" align=\"justify\">\n",
    "    <p style='direction:rtl;text-align:justify;'>\n",
    "        با اجرای قطعه کد زیر، یک instance از مدل BooleanIR ایجاد کرده و شروع به یادگیری داده‌ها و یا خواندن مدل ذخیره شده از روی فایل می‌کنیم.\n",
    "    </p>\n",
    "</div>"
   ],
   "metadata": {
    "collapsed": false,
    "pycharm": {
     "name": "#%% md\n"
    }
   }
  },
  {
   "cell_type": "code",
   "execution_count": 91,
   "outputs": [],
   "source": [
    "booleanIR_model = BooleanIR().prepare(mini_preprocessed_texts, mode='load', save=False)"
   ],
   "metadata": {
    "pycharm": {
     "name": "#%%\n"
    },
    "id": "k_ojKTv_uYpU"
   }
  },
  {
   "cell_type": "markdown",
   "source": [
    "<div dir=\"auto\" align=\"justify\">\n",
    "    <p style='direction:rtl;text-align:justify;'>\n",
    "        با اجرای قطعه کد زیر، نتیجه‌ی پردازش کوئری‌های مشخص شده را مشاهده می‌کنیم.\n",
    "    </p>\n",
    "</div>"
   ],
   "metadata": {
    "collapsed": false,
    "pycharm": {
     "name": "#%% md\n"
    }
   }
  },
  {
   "cell_type": "code",
   "execution_count": 219,
   "outputs": [
    {
     "name": "stdout",
     "output_type": "stream",
     "text": [
      "Query 1: روش پخت غذا\n"
     ]
    },
    {
     "data": {
      "text/plain": "                                   date  \\\n3973        سه‌شنبه ۲۲ تیر ۱۴۰۰ - ۱۶:۳۰   \n3659       سه‌شنبه ۴ خرداد ۱۴۰۰ - ۱۴:۳۰   \n3853       پنجشنبه ۶ خرداد ۱۴۰۰ - ۰۷:۳۲   \n3730        پنجشنبه ۳۱ تیر ۱۴۰۰ - ۰۸:۴۰   \n3604  چهارشنبه ۲۹ اردیبهشت ۱۴۰۰ - ۱۸:۳۴   \n3861        دوشنبه ۱۱ بهمن ۱۴۰۰ - ۰۷:۳۷   \n3865      چهارشنبه ۵ خرداد ۱۴۰۰ - ۱۷:۳۲   \n3803         شنبه ۳۰ مرداد ۱۴۰۰ - ۱۵:۵۰   \n2910      پنجشنبه ۲۱ مرداد ۱۴۰۰ - ۰۷:۵۴   \n3744       سه‌شنبه ۲۵ آبان ۱۴۰۰ - ۰۶:۱۳   \n\n                                                  title  \\\n3973  طرز تهیه هویج پلو | فوت و فن درست کردن این غذا...   \n3659  طرز تهیه‌ بریانی | نکته‌های کلیدی پخت غذای محل...   \n3853  این روغن‌ها نباید مصرف شوند | روغن‌های مناسب آ...   \n3730  طرز تهیه کباب تابه‌ای | به ۲ شیوه ساده کباب دی...   \n3604  طرز تهیه ماکارونی با سویا ؛ همراه با یک دستور ...   \n3861  دانستنی‌هایی درباره برنج که باورتان نمی‌شود | ...   \n3865  طرز تهیه ماهی با روش شمالی | نکات طلایی برای ل...   \n3803  راهکارهای گرفتن تلخی قیمه و پیشگیری از تلخ شدن...   \n2910  دستور طبخ غذا برای دیکتاتورها | اگر از دریچه آ...   \n3744  طرز تهیه چیکن آلفردو | ترفند تبدیل این غذا به ...   \n\n                                                  intro  \\\n3973  هویج ‌پلو از جمله پلوهای مخلوط قدیمی است که مع...   \n3659  بریونی یا بریانی یکی از چندین غذای لذیذ سنتی و...   \n3853  یک متخصص تغذیه مطرح کرد: مصرف روغن‌های حیوانی ...   \n3730  ۲ طرز تهیه ساده کباب تابه‌ای زعفرانی آبدار مجل...   \n3604  ماکارونی یک غذای ویژه است که علاقه‌مندان زیادی...   \n3861  برنج یک خوراک محبوب جهانی است اما چالش‌های خود...   \n3865  ماهی انواع و اقسام مختلف با شیوه پخت متفاوتی د...   \n3803  احتمالاً برای شما هم پیش آمده است که خورشت یا ...   \n2910  روزنامه‌نگاری که خود زمانی آشپزی را تجربه کرده...   \n3744  پاستای فوری چیکن آلفردو یک انتخاب بسیار ساده و...   \n\n                                                   body    category  \n3973  به گزارش همشهری آنلاین - صدیقه کیان منش‌راد: ه...  LifeSkills  \n3659  به گزارش همشهری آنلاین، شاید اسم غذاهای محلی ا...  LifeSkills  \n3853  به گزارش همشهری آنلاین، دکتر سارا صافی در گفت‌...  LifeSkills  \n3730  به گزارش همشهری آنلاین به نقل از اکالا، تابه‌ا...  LifeSkills  \n3604  به گزارش همشهری آنلاین، ماکارونی یک غذای ویژه ...  LifeSkills  \n3861  همشهری آنلاین - فاطمه عباسی: برنج قوت غالب مرد...  LifeSkills  \n3865  به گزارش همشهری آنلاین، پزشکان می‌گویند ماهی ب...  LifeSkills  \n3803  به گزارش همشهری آنلاین به نقل از تابناک، مزه ت...  LifeSkills  \n2910  به گزارش همشهری آنلاین، کتاب «مصائب آشپزی برای...     Culture  \n3744  مواد لازم برای درست کردن چیکن آلفردو \\n۵۰۰ گرم...  LifeSkills  ",
      "text/html": "<div>\n<style scoped>\n    .dataframe tbody tr th:only-of-type {\n        vertical-align: middle;\n    }\n\n    .dataframe tbody tr th {\n        vertical-align: top;\n    }\n\n    .dataframe thead th {\n        text-align: right;\n    }\n</style>\n<table border=\"1\" class=\"dataframe\">\n  <thead>\n    <tr style=\"text-align: right;\">\n      <th></th>\n      <th>date</th>\n      <th>title</th>\n      <th>intro</th>\n      <th>body</th>\n      <th>category</th>\n    </tr>\n  </thead>\n  <tbody>\n    <tr>\n      <th>3973</th>\n      <td>سه‌شنبه ۲۲ تیر ۱۴۰۰ - ۱۶:۳۰</td>\n      <td>طرز تهیه هویج پلو | فوت و فن درست کردن این غذا...</td>\n      <td>هویج ‌پلو از جمله پلوهای مخلوط قدیمی است که مع...</td>\n      <td>به گزارش همشهری آنلاین - صدیقه کیان منش‌راد: ه...</td>\n      <td>LifeSkills</td>\n    </tr>\n    <tr>\n      <th>3659</th>\n      <td>سه‌شنبه ۴ خرداد ۱۴۰۰ - ۱۴:۳۰</td>\n      <td>طرز تهیه‌ بریانی | نکته‌های کلیدی پخت غذای محل...</td>\n      <td>بریونی یا بریانی یکی از چندین غذای لذیذ سنتی و...</td>\n      <td>به گزارش همشهری آنلاین، شاید اسم غذاهای محلی ا...</td>\n      <td>LifeSkills</td>\n    </tr>\n    <tr>\n      <th>3853</th>\n      <td>پنجشنبه ۶ خرداد ۱۴۰۰ - ۰۷:۳۲</td>\n      <td>این روغن‌ها نباید مصرف شوند | روغن‌های مناسب آ...</td>\n      <td>یک متخصص تغذیه مطرح کرد: مصرف روغن‌های حیوانی ...</td>\n      <td>به گزارش همشهری آنلاین، دکتر سارا صافی در گفت‌...</td>\n      <td>LifeSkills</td>\n    </tr>\n    <tr>\n      <th>3730</th>\n      <td>پنجشنبه ۳۱ تیر ۱۴۰۰ - ۰۸:۴۰</td>\n      <td>طرز تهیه کباب تابه‌ای | به ۲ شیوه ساده کباب دی...</td>\n      <td>۲ طرز تهیه ساده کباب تابه‌ای زعفرانی آبدار مجل...</td>\n      <td>به گزارش همشهری آنلاین به نقل از اکالا، تابه‌ا...</td>\n      <td>LifeSkills</td>\n    </tr>\n    <tr>\n      <th>3604</th>\n      <td>چهارشنبه ۲۹ اردیبهشت ۱۴۰۰ - ۱۸:۳۴</td>\n      <td>طرز تهیه ماکارونی با سویا ؛ همراه با یک دستور ...</td>\n      <td>ماکارونی یک غذای ویژه است که علاقه‌مندان زیادی...</td>\n      <td>به گزارش همشهری آنلاین، ماکارونی یک غذای ویژه ...</td>\n      <td>LifeSkills</td>\n    </tr>\n    <tr>\n      <th>3861</th>\n      <td>دوشنبه ۱۱ بهمن ۱۴۰۰ - ۰۷:۳۷</td>\n      <td>دانستنی‌هایی درباره برنج که باورتان نمی‌شود | ...</td>\n      <td>برنج یک خوراک محبوب جهانی است اما چالش‌های خود...</td>\n      <td>همشهری آنلاین - فاطمه عباسی: برنج قوت غالب مرد...</td>\n      <td>LifeSkills</td>\n    </tr>\n    <tr>\n      <th>3865</th>\n      <td>چهارشنبه ۵ خرداد ۱۴۰۰ - ۱۷:۳۲</td>\n      <td>طرز تهیه ماهی با روش شمالی | نکات طلایی برای ل...</td>\n      <td>ماهی انواع و اقسام مختلف با شیوه پخت متفاوتی د...</td>\n      <td>به گزارش همشهری آنلاین، پزشکان می‌گویند ماهی ب...</td>\n      <td>LifeSkills</td>\n    </tr>\n    <tr>\n      <th>3803</th>\n      <td>شنبه ۳۰ مرداد ۱۴۰۰ - ۱۵:۵۰</td>\n      <td>راهکارهای گرفتن تلخی قیمه و پیشگیری از تلخ شدن...</td>\n      <td>احتمالاً برای شما هم پیش آمده است که خورشت یا ...</td>\n      <td>به گزارش همشهری آنلاین به نقل از تابناک، مزه ت...</td>\n      <td>LifeSkills</td>\n    </tr>\n    <tr>\n      <th>2910</th>\n      <td>پنجشنبه ۲۱ مرداد ۱۴۰۰ - ۰۷:۵۴</td>\n      <td>دستور طبخ غذا برای دیکتاتورها | اگر از دریچه آ...</td>\n      <td>روزنامه‌نگاری که خود زمانی آشپزی را تجربه کرده...</td>\n      <td>به گزارش همشهری آنلاین، کتاب «مصائب آشپزی برای...</td>\n      <td>Culture</td>\n    </tr>\n    <tr>\n      <th>3744</th>\n      <td>سه‌شنبه ۲۵ آبان ۱۴۰۰ - ۰۶:۱۳</td>\n      <td>طرز تهیه چیکن آلفردو | ترفند تبدیل این غذا به ...</td>\n      <td>پاستای فوری چیکن آلفردو یک انتخاب بسیار ساده و...</td>\n      <td>مواد لازم برای درست کردن چیکن آلفردو \\n۵۰۰ گرم...</td>\n      <td>LifeSkills</td>\n    </tr>\n  </tbody>\n</table>\n</div>"
     },
     "metadata": {},
     "output_type": "display_data"
    }
   ],
   "source": [
    "for i, query in enumerate(QUERIES):\n",
    "    print(f\"Query {i + 1}: {query}\")\n",
    "    display(booleanIR_model.predict([query], mini_dataset, k=10))"
   ],
   "metadata": {
    "pycharm": {
     "name": "#%%\n"
    },
    "colab": {
     "base_uri": "https://localhost:8080/",
     "height": 1000
    },
    "id": "fl7XzCcXuYpU",
    "outputId": "3e10fe54-11a1-461d-a538-d9c4621279ad"
   }
  },
  {
   "cell_type": "markdown",
   "source": [
    "<div dir=\"auto\" align=\"justify\">\n",
    "    <p style='direction:rtl;text-align:justify;'>\n",
    "        با اجرای قطعه کد زیر، نتیجه‌ی پردازش کوئری‌های ترکیبی با منطق or و not را مشاهده می‌کنیم.\n",
    "    </p>\n",
    "</div>"
   ],
   "metadata": {
    "collapsed": false
   }
  },
  {
   "cell_type": "code",
   "execution_count": null,
   "outputs": [],
   "source": [
    "for query in BOOLEAN_EXTRA_QUERIES:\n",
    "    print(f\"Extra Query: {query}\")\n",
    "    display(booleanIR_model.predict(query, mini_dataset, k=10))"
   ],
   "metadata": {
    "collapsed": false,
    "pycharm": {
     "name": "#%%\n"
    }
   }
  },
  {
   "cell_type": "markdown",
   "metadata": {
    "id": "6AbnbHYGDSCV"
   },
   "source": [
    "<div>\n",
    "    <h4 style='direction:rtl;text-align:justify;'>\n",
    "        ۲. مدل مبتنی بر روش TF-IDF\n",
    "    </h4>\n",
    "</div>\n",
    "\n",
    "<div dir=\"auto\" align=\"justify\">\n",
    "    <p style='direction:rtl;text-align:justify;'>\n",
    "        در این بخش از کلاس TfidfVectorizer از کتاب‌خانه‌ی sklearn استفاده می‌کنیم. پس از ساخته شدن یک نمونه از این کلاس، می‌توانیم متد prepare آن را صدا کنیم و با این کار، با توجه به پارامترهایی که به آن می‌دهیم، مدل را به یادگیری واداریم یا مدلی که پیش‌تر ذخیره کرده‌ایم را بازیابی کنیم. عملیات یادگیری با استفاده از متد fit_transform_vectorizer\n",
    "        رخ می‌دهد و در این حین، بردارهای نتیجه و همین‌طور کلمات مربوط به آن‌ها هم ذخیره می‌شوند.\n",
    "    </p>\n",
    "    <p style='direction:rtl;text-align:justify;'>\n",
    "        علاوه بر این، می‌توانیم با استفاده از متدهای save_TF_IDF_model و load_TF_IDF_model این مدل و جزئیاتش را ذخیره یا بازیابی کنیم. البته اگر بخواهیم عمل ذخیره را بلافاصله پس از پایان یادگیری انجام دهیم هم می‌توانیم مقدار True را به آرگومان save در متد prepare بدهیم.\n",
    "    </p>\n",
    "    <p style='direction:rtl;text-align:justify;'>\n",
    "        پس از پایان یادگیری یا بازیابی مدل یادگرفته شده از فایل ذخیره شده، می‌توانیم با استفاده از متد predict به تعداد دلخواه خبر مرتبط به درخواستمان را به دست بیاوریم. برای این کار، مدلمان بردارهای مربوط به درخواست را به دست می‌آورد و با محاسبه‌ی کسینوس‌ها و به دست آوردن میزان شباهت بین درخواست و خبرهای موجود، شبیه‌ترین خبرها را خروجی می‌دهد.\n",
    "    </p>\n",
    "</div>"
   ]
  },
  {
   "cell_type": "code",
   "execution_count": 213,
   "metadata": {
    "id": "ddRurlDEDSCV"
   },
   "outputs": [],
   "source": [
    "class TF_IDF:\n",
    "\n",
    "    def __init__(self):\n",
    "        self.vectorizer = TfidfVectorizer()\n",
    "        self.vectors = None\n",
    "        self.words = None\n",
    "        self.dense_vectors_df = None\n",
    "\n",
    "    def fit_transform_vectorizer(self, dataset):\n",
    "        self.vectors = self.vectorizer.fit_transform(list(map(lambda doc: ' '.join(doc), dataset)))\n",
    "        self.words = self.vectorizer.get_feature_names_out()\n",
    "        dense_vectors = self.vectors.todense().tolist()\n",
    "        self.dense_vectors_df = pd.DataFrame(dense_vectors, columns=self.words)\n",
    "\n",
    "    def predict(self, query, dataset, k):\n",
    "        query = ' '.join(Preprocessor(stopwords_path='stopwords.txt').preprocess(query))\n",
    "        query_transform = self.vectorizer.transform([query]).todense().tolist()[0]\n",
    "        dense_vectors = self.dense_vectors_df.values.tolist()\n",
    "        df_cosine_sim = list(map(lambda doc: self.cosine_sim(query_transform, doc), dense_vectors))\n",
    "        self.dense_vectors_df['query_sim'] = df_cosine_sim\n",
    "        indices = self.dense_vectors_df.nlargest(k, 'query_sim').index\n",
    "        self.dense_vectors_df = self.dense_vectors_df.drop(columns=['query_sim'])\n",
    "        return dataset.iloc[indices]\n",
    "\n",
    "    def cosine_sim(self, query, doc):\n",
    "        return np.dot(query, doc) / (np.linalg.norm(query) * np.linalg.norm(doc))\n",
    "\n",
    "    def save_TF_IDF_model(self, path=\"TF_IDF_model.pickle\"):\n",
    "        with open(path, \"wb\") as file:\n",
    "            pickle.dump(self, file)\n",
    "\n",
    "    def load_TF_IDF_model(self, path=\"TF_IDF_model.pickle\"):\n",
    "        with open(path, \"rb\") as file:\n",
    "            return pickle.load(file)\n",
    "\n",
    "    def prepare(self, dataset, mode, save=False):\n",
    "        model = None\n",
    "        if mode == 'train':\n",
    "            self.fit_transform_vectorizer(dataset)\n",
    "            model = self\n",
    "        if mode == 'load':\n",
    "            model = self.load_TF_IDF_model()\n",
    "        if save:\n",
    "            self.save_TF_IDF_model()\n",
    "        return model"
   ]
  },
  {
   "cell_type": "markdown",
   "source": [
    "<div dir=\"auto\" align=\"justify\">\n",
    "    <p style='direction:rtl;text-align:justify;'>\n",
    "        با اجرای قطعه کد زیر، یک instance از مدل TF-IDF ایجاد کرده و شروع به یادگیری داده‌ها و یا خواندن مدل ذخیره شده از روی فایل می‌کنیم.\n",
    "    </p>\n",
    "</div>"
   ],
   "metadata": {
    "collapsed": false
   }
  },
  {
   "cell_type": "code",
   "execution_count": 214,
   "metadata": {
    "id": "GNzgrd-5DSCW"
   },
   "outputs": [],
   "source": [
    "TF_IDF_model = TF_IDF().prepare(mini_preprocessed_texts, mode='load', save=False)"
   ]
  },
  {
   "cell_type": "markdown",
   "source": [
    "<div dir=\"auto\" align=\"justify\">\n",
    "    <p style='direction:rtl;text-align:justify;'>\n",
    "        با اجرای قطعه کد زیر، نتیجه‌ی پردازش کوئری‌های مشخص شده را مشاهده می‌کنیم.\n",
    "    </p>\n",
    "</div>"
   ],
   "metadata": {
    "collapsed": false
   }
  },
  {
   "cell_type": "code",
   "execution_count": 246,
   "metadata": {
    "id": "aNDni4x8DSCW",
    "outputId": "278bae3a-760d-4bd9-92a6-2bc30b2c706d"
   },
   "outputs": [
    {
     "name": "stdout",
     "output_type": "stream",
     "text": [
      "Query 1: نتیجه توافق برجام\n"
     ]
    },
    {
     "data": {
      "text/plain": "                                date  \\\n282  سه‌شنبه ۱۷ فروردین ۱۴۰۰ - ۲۳:۴۱   \n185     چهارشنبه ۲۴ آذر ۱۴۰۰ - ۰۷:۳۰   \n284       شنبه ۲۸ اسفند ۱۴۰۰ - ۱۴:۳۵   \n214      دوشنبه ۱۰ آبان ۱۴۰۰ - ۱۴:۵۱   \n398    یکشنبه ۱۴ شهریور ۱۴۰۰ - ۱۲:۰۸   \n19       پنجشنبه ۱۸ آذر ۱۴۰۰ - ۱۶:۲۷   \n77       چهارشنبه ۹ تیر ۱۴۰۰ - ۱۹:۱۷   \n69      دوشنبه ۲۵ مرداد ۱۴۰۰ - ۲۱:۲۶   \n208    چهارشنبه ۲۰ بهمن ۱۴۰۰ - ۱۶:۵۵   \n170     یکشنبه ۱۰ مرداد ۱۴۰۰ - ۱۳:۲۴   \n\n                                                 title  \\\n282  جهانگیری: فراموش نکرده‌ایم عده‌ای در مجلس برجا...   \n185  درخواست مهم گوترش از آمریکا درباره ایران | از ...   \n284  آغاز سال ۱۴۰۱ با توافق در وین؟ | ادعای ایندیپن...   \n214  چین: آمریکا باید سیاست اشتباه «فشار حداکثری» ع...   \n398  نماینده تهران در مجلس: ما از مذاکره نمی‌ترسیم ...   \n19   بررسی متون پیشنهادی ایران در مذاکرات امروز وین...   \n77       آغاز نشست شورای امنیت سازمان ملل درباره برجام   \n69   آژانس اتمی: ایران ۲۰۰ گرم اورانیوم فلزی ۲۰ درص...   \n208  مانع اصلی دولت بایدن برای بازگشت به برجام | جا...   \n170  توصیه ظریف به وزیر خارجه دولت رئیسی | واردات چ...   \n\n                                                 intro  \\\n282  جهانگیری، معاون اول رئیس‌جمهوری، گفت: فراموش ن...   \n185  دبیرکل سازمان ملل متحد در یک گزارش رسمی از آمر...   \n284  یک رسانه‌ انگلیسی به نقل از یکی از طرف‌های مذا...   \n214  سخنگوی وزارت امور خارجه چین با تأکید بر حمایت ...   \n398  نماینده تهران در مجلس گفت: در مجلس نهم مخالفان...   \n19   نشست کمیسیون مشترک برجام با محور بررسی متون پی...   \n77   نشست شورای امنیت سازمان ملل امروز چهارشنبه برا...   \n69   آژانس بین‌المللی انرژی اتمی در گزارشی جدید ادع...   \n208  معاون سخنگوی‌ وزارت امور خارجه آمریکا گفت واشن...   \n170  وزیر امور خارجه با بیان اینکه «من شهادت می‌دهم...   \n\n                                                  body  category  \n282  به گزارش همشهری‌آنلاین به نقل از انتخاب، جهانگ...  Politics  \n185  به گزارش همشهری آنلاین به نقل از فارس، «آنتونی...  Politics  \n284  به گزارش همشهری آنلاین به نقل از فارس، روزنامه...  Politics  \n214  به گزارش همشهری‌آنلاین به نقل از فارس، «وانگ و...  Politics  \n398  به گزارش همشهری آنلاین به نقل از برنا، اسماعیل...  Politics  \n19   به گزارش همشهری آنلاین، نشست کمیسیون مشترک برج...  Politics  \n77   به گزارش همشهری آنلاین به نقل از  ایرنا، رز ما...  Politics  \n69   به گزارش همشهری‌آنلاین به نقل از فارس، آژانس ب...  Politics  \n208  به گزارش همشهری‌آنلاین به نقل از فارس، «جالینا...  Politics  \n170  به گزارش همشهری آنلاین  به نقل از مهر، محمدجوا...  Politics  ",
      "text/html": "<div>\n<style scoped>\n    .dataframe tbody tr th:only-of-type {\n        vertical-align: middle;\n    }\n\n    .dataframe tbody tr th {\n        vertical-align: top;\n    }\n\n    .dataframe thead th {\n        text-align: right;\n    }\n</style>\n<table border=\"1\" class=\"dataframe\">\n  <thead>\n    <tr style=\"text-align: right;\">\n      <th></th>\n      <th>date</th>\n      <th>title</th>\n      <th>intro</th>\n      <th>body</th>\n      <th>category</th>\n    </tr>\n  </thead>\n  <tbody>\n    <tr>\n      <th>282</th>\n      <td>سه‌شنبه ۱۷ فروردین ۱۴۰۰ - ۲۳:۴۱</td>\n      <td>جهانگیری: فراموش نکرده‌ایم عده‌ای در مجلس برجا...</td>\n      <td>جهانگیری، معاون اول رئیس‌جمهوری، گفت: فراموش ن...</td>\n      <td>به گزارش همشهری‌آنلاین به نقل از انتخاب، جهانگ...</td>\n      <td>Politics</td>\n    </tr>\n    <tr>\n      <th>185</th>\n      <td>چهارشنبه ۲۴ آذر ۱۴۰۰ - ۰۷:۳۰</td>\n      <td>درخواست مهم گوترش از آمریکا درباره ایران | از ...</td>\n      <td>دبیرکل سازمان ملل متحد در یک گزارش رسمی از آمر...</td>\n      <td>به گزارش همشهری آنلاین به نقل از فارس، «آنتونی...</td>\n      <td>Politics</td>\n    </tr>\n    <tr>\n      <th>284</th>\n      <td>شنبه ۲۸ اسفند ۱۴۰۰ - ۱۴:۳۵</td>\n      <td>آغاز سال ۱۴۰۱ با توافق در وین؟ | ادعای ایندیپن...</td>\n      <td>یک رسانه‌ انگلیسی به نقل از یکی از طرف‌های مذا...</td>\n      <td>به گزارش همشهری آنلاین به نقل از فارس، روزنامه...</td>\n      <td>Politics</td>\n    </tr>\n    <tr>\n      <th>214</th>\n      <td>دوشنبه ۱۰ آبان ۱۴۰۰ - ۱۴:۵۱</td>\n      <td>چین: آمریکا باید سیاست اشتباه «فشار حداکثری» ع...</td>\n      <td>سخنگوی وزارت امور خارجه چین با تأکید بر حمایت ...</td>\n      <td>به گزارش همشهری‌آنلاین به نقل از فارس، «وانگ و...</td>\n      <td>Politics</td>\n    </tr>\n    <tr>\n      <th>398</th>\n      <td>یکشنبه ۱۴ شهریور ۱۴۰۰ - ۱۲:۰۸</td>\n      <td>نماینده تهران در مجلس: ما از مذاکره نمی‌ترسیم ...</td>\n      <td>نماینده تهران در مجلس گفت: در مجلس نهم مخالفان...</td>\n      <td>به گزارش همشهری آنلاین به نقل از برنا، اسماعیل...</td>\n      <td>Politics</td>\n    </tr>\n    <tr>\n      <th>19</th>\n      <td>پنجشنبه ۱۸ آذر ۱۴۰۰ - ۱۶:۲۷</td>\n      <td>بررسی متون پیشنهادی ایران در مذاکرات امروز وین...</td>\n      <td>نشست کمیسیون مشترک برجام با محور بررسی متون پی...</td>\n      <td>به گزارش همشهری آنلاین، نشست کمیسیون مشترک برج...</td>\n      <td>Politics</td>\n    </tr>\n    <tr>\n      <th>77</th>\n      <td>چهارشنبه ۹ تیر ۱۴۰۰ - ۱۹:۱۷</td>\n      <td>آغاز نشست شورای امنیت سازمان ملل درباره برجام</td>\n      <td>نشست شورای امنیت سازمان ملل امروز چهارشنبه برا...</td>\n      <td>به گزارش همشهری آنلاین به نقل از  ایرنا، رز ما...</td>\n      <td>Politics</td>\n    </tr>\n    <tr>\n      <th>69</th>\n      <td>دوشنبه ۲۵ مرداد ۱۴۰۰ - ۲۱:۲۶</td>\n      <td>آژانس اتمی: ایران ۲۰۰ گرم اورانیوم فلزی ۲۰ درص...</td>\n      <td>آژانس بین‌المللی انرژی اتمی در گزارشی جدید ادع...</td>\n      <td>به گزارش همشهری‌آنلاین به نقل از فارس، آژانس ب...</td>\n      <td>Politics</td>\n    </tr>\n    <tr>\n      <th>208</th>\n      <td>چهارشنبه ۲۰ بهمن ۱۴۰۰ - ۱۶:۵۵</td>\n      <td>مانع اصلی دولت بایدن برای بازگشت به برجام | جا...</td>\n      <td>معاون سخنگوی‌ وزارت امور خارجه آمریکا گفت واشن...</td>\n      <td>به گزارش همشهری‌آنلاین به نقل از فارس، «جالینا...</td>\n      <td>Politics</td>\n    </tr>\n    <tr>\n      <th>170</th>\n      <td>یکشنبه ۱۰ مرداد ۱۴۰۰ - ۱۳:۲۴</td>\n      <td>توصیه ظریف به وزیر خارجه دولت رئیسی | واردات چ...</td>\n      <td>وزیر امور خارجه با بیان اینکه «من شهادت می‌دهم...</td>\n      <td>به گزارش همشهری آنلاین  به نقل از مهر، محمدجوا...</td>\n      <td>Politics</td>\n    </tr>\n  </tbody>\n</table>\n</div>"
     },
     "metadata": {},
     "output_type": "display_data"
    },
    {
     "name": "stdout",
     "output_type": "stream",
     "text": [
      "Query 2: حمله ارتش روسیه به اوکراین\n"
     ]
    },
    {
     "data": {
      "text/plain": "                                  date  \\\n733       پنجشنبه ۵ اسفند ۱۴۰۰ - ۱۰:۲۸   \n489        جمعه ۵ فروردین ۱۴۰۱ - ۲۳:۳۷   \n764          جمعه ۶ اسفند ۱۴۰۰ - ۱۲:۱۹   \n528          شنبه ۷ اسفند ۱۴۰۰ - ۱۰:۳۴   \n501        یکشنبه ۱ اسفند ۱۴۰۰ - ۰۸:۴۹   \n760      سه‌شنبه ۱۰ اسفند ۱۴۰۰ - ۱۳:۱۱   \n444        دوشنبه ۲۵ بهمن ۱۴۰۰ - ۰۸:۲۴   \n3271  سه‌شنبه ۲۰ اردیبهشت ۱۴۰۱ - ۱۷:۱۳   \n571        یکشنبه ۲۴ بهمن ۱۴۰۰ - ۱۱:۲۹   \n542      پنجشنبه ۱۲ اسفند ۱۴۰۰ - ۱۸:۰۱   \n\n                                                  title  \\\n733   ببینید | اوکراین؛ از آژیر حمله هوایی تا آتش سو...   \n489   کشته شدن یک فرمانده روسی دیگر در خرسون | آمار ...   \n764   ادعای وزیر دفاع انگلیس درباره نقشه روسیه برای ...   \n528        ارتش روسیه شهر ملیتوپل را به تصرف خود درآورد   \n501   هشدار درباره نزدیکی جنگ جهانی سوم | روسیه قصد ...   \n760   تازه‌ترین درخواست وزیر امور خارجه اوکراین علیه...   \n444   روسیه ژست حمله به اوکراین را گرفت | شاید چین ه...   \n3271  حمله سایبری به اینترنت ماهواه‌ای کار روسیه بود...   \n571                  حمله قریب‌الوقوع روسیه به اوکراین؟   \n542   جنگ خانه به خانه در ماریوپل | ارتش اوکراین: شه...   \n\n                                                  intro  \\\n733   رئیس جمهوری روسیه صبح امروز اعلام کرد که در پا...   \n489   ارتش اوکراین ادعا کرد، ژنرال یاکوف رزانتسف از ...   \n764   وزیر دفاع انگلیس در بیانیه‌ای مدعی شد، روسیه ق...   \n528   وزارت دفاع روسیه دقایقی پیش اعلام کرد، نیروهای...   \n501   بوریس جانسون، نخست وزیر انگلیس هشدار داد که وض...   \n760   دیمیترو کولبا، وزیر امور خارجه اوکراین، پس از ...   \n444   یک استاد ژئوپلیتیک دانشگاه با اشاره به اینکه ر...   \n3271  اتحادیه اروپا مدعی شد که حمله سایبری بزرگ علیه...   \n571   یک مقام کاخ الیزه می‌گوید در تماس تلفنی رئیس ج...   \n542   از شواهد برمی‌آید که نیروهای ارتش روسیه رفته‌ر...   \n\n                                                   body category  \n733   به گزارش همشهری آنلاین به نقل از تسنیم، شورای ...    World  \n489   به گزارش همشهری آنلاین، ایرنا به نقل از سی ان ...    World  \n764   به گزارش همشهری آنلاین و به نقل از گاردین، بن ...    World  \n528   به گزارش همشهری آنلاین و به نقل از خبرگزاری ای...    World  \n501   به گزارش همشهری آنلاین به نقل از ایسنا، جانسون...    World  \n760   به گزارش همشهری آنلاین و به نقل از گاردین، او ...    World  \n444   به گزلرش همشهری آنلاین، عبدالرضا فرجی راد دربا...    World  \n3271  به گزارش همشهری آنلاین و به نقل خبرگزاری رویتر...       IT  \n571   به گزارش همشهری آنلاین به نقل از فارس، یک مقام...    World  \n542   به گزارش همشهری آنلاین، سخنگوی گارد ملی اوکرای...    World  ",
      "text/html": "<div>\n<style scoped>\n    .dataframe tbody tr th:only-of-type {\n        vertical-align: middle;\n    }\n\n    .dataframe tbody tr th {\n        vertical-align: top;\n    }\n\n    .dataframe thead th {\n        text-align: right;\n    }\n</style>\n<table border=\"1\" class=\"dataframe\">\n  <thead>\n    <tr style=\"text-align: right;\">\n      <th></th>\n      <th>date</th>\n      <th>title</th>\n      <th>intro</th>\n      <th>body</th>\n      <th>category</th>\n    </tr>\n  </thead>\n  <tbody>\n    <tr>\n      <th>733</th>\n      <td>پنجشنبه ۵ اسفند ۱۴۰۰ - ۱۰:۲۸</td>\n      <td>ببینید | اوکراین؛ از آژیر حمله هوایی تا آتش سو...</td>\n      <td>رئیس جمهوری روسیه صبح امروز اعلام کرد که در پا...</td>\n      <td>به گزارش همشهری آنلاین به نقل از تسنیم، شورای ...</td>\n      <td>World</td>\n    </tr>\n    <tr>\n      <th>489</th>\n      <td>جمعه ۵ فروردین ۱۴۰۱ - ۲۳:۳۷</td>\n      <td>کشته شدن یک فرمانده روسی دیگر در خرسون | آمار ...</td>\n      <td>ارتش اوکراین ادعا کرد، ژنرال یاکوف رزانتسف از ...</td>\n      <td>به گزارش همشهری آنلاین، ایرنا به نقل از سی ان ...</td>\n      <td>World</td>\n    </tr>\n    <tr>\n      <th>764</th>\n      <td>جمعه ۶ اسفند ۱۴۰۰ - ۱۲:۱۹</td>\n      <td>ادعای وزیر دفاع انگلیس درباره نقشه روسیه برای ...</td>\n      <td>وزیر دفاع انگلیس در بیانیه‌ای مدعی شد، روسیه ق...</td>\n      <td>به گزارش همشهری آنلاین و به نقل از گاردین، بن ...</td>\n      <td>World</td>\n    </tr>\n    <tr>\n      <th>528</th>\n      <td>شنبه ۷ اسفند ۱۴۰۰ - ۱۰:۳۴</td>\n      <td>ارتش روسیه شهر ملیتوپل را به تصرف خود درآورد</td>\n      <td>وزارت دفاع روسیه دقایقی پیش اعلام کرد، نیروهای...</td>\n      <td>به گزارش همشهری آنلاین و به نقل از خبرگزاری ای...</td>\n      <td>World</td>\n    </tr>\n    <tr>\n      <th>501</th>\n      <td>یکشنبه ۱ اسفند ۱۴۰۰ - ۰۸:۴۹</td>\n      <td>هشدار درباره نزدیکی جنگ جهانی سوم | روسیه قصد ...</td>\n      <td>بوریس جانسون، نخست وزیر انگلیس هشدار داد که وض...</td>\n      <td>به گزارش همشهری آنلاین به نقل از ایسنا، جانسون...</td>\n      <td>World</td>\n    </tr>\n    <tr>\n      <th>760</th>\n      <td>سه‌شنبه ۱۰ اسفند ۱۴۰۰ - ۱۳:۱۱</td>\n      <td>تازه‌ترین درخواست وزیر امور خارجه اوکراین علیه...</td>\n      <td>دیمیترو کولبا، وزیر امور خارجه اوکراین، پس از ...</td>\n      <td>به گزارش همشهری آنلاین و به نقل از گاردین، او ...</td>\n      <td>World</td>\n    </tr>\n    <tr>\n      <th>444</th>\n      <td>دوشنبه ۲۵ بهمن ۱۴۰۰ - ۰۸:۲۴</td>\n      <td>روسیه ژست حمله به اوکراین را گرفت | شاید چین ه...</td>\n      <td>یک استاد ژئوپلیتیک دانشگاه با اشاره به اینکه ر...</td>\n      <td>به گزلرش همشهری آنلاین، عبدالرضا فرجی راد دربا...</td>\n      <td>World</td>\n    </tr>\n    <tr>\n      <th>3271</th>\n      <td>سه‌شنبه ۲۰ اردیبهشت ۱۴۰۱ - ۱۷:۱۳</td>\n      <td>حمله سایبری به اینترنت ماهواه‌ای کار روسیه بود...</td>\n      <td>اتحادیه اروپا مدعی شد که حمله سایبری بزرگ علیه...</td>\n      <td>به گزارش همشهری آنلاین و به نقل خبرگزاری رویتر...</td>\n      <td>IT</td>\n    </tr>\n    <tr>\n      <th>571</th>\n      <td>یکشنبه ۲۴ بهمن ۱۴۰۰ - ۱۱:۲۹</td>\n      <td>حمله قریب‌الوقوع روسیه به اوکراین؟</td>\n      <td>یک مقام کاخ الیزه می‌گوید در تماس تلفنی رئیس ج...</td>\n      <td>به گزارش همشهری آنلاین به نقل از فارس، یک مقام...</td>\n      <td>World</td>\n    </tr>\n    <tr>\n      <th>542</th>\n      <td>پنجشنبه ۱۲ اسفند ۱۴۰۰ - ۱۸:۰۱</td>\n      <td>جنگ خانه به خانه در ماریوپل | ارتش اوکراین: شه...</td>\n      <td>از شواهد برمی‌آید که نیروهای ارتش روسیه رفته‌ر...</td>\n      <td>به گزارش همشهری آنلاین، سخنگوی گارد ملی اوکرای...</td>\n      <td>World</td>\n    </tr>\n  </tbody>\n</table>\n</div>"
     },
     "metadata": {},
     "output_type": "display_data"
    },
    {
     "name": "stdout",
     "output_type": "stream",
     "text": [
      "Query 3: افزایش نرخ تورم در کشور\n"
     ]
    },
    {
     "data": {
      "text/plain": "                                  date  \\\n314         یکشنبه ۹ آبان ۱۴۰۰ - ۱۱:۲۰   \n917       جمعه ۱۹ فروردین ۱۴۰۱ - ۱۵:۴۶   \n834         سه‌شنبه ۱ تیر ۱۴۰۰ - ۱۷:۱۶   \n1192     سه‌شنبه ۹ شهریور ۱۴۰۰ - ۱۲:۱۵   \n954     دوشنبه ۵ اردیبهشت ۱۴۰۱ - ۱۰:۲۶   \n3989          شنبه ۱ آبان ۱۴۰۰ - ۰۸:۴۱   \n1110        سه‌شنبه ۹ آذر ۱۴۰۰ - ۱۰:۱۱   \n975      سه‌شنبه ۲۴ اسفند ۱۴۰۰ - ۰۸:۲۵   \n858        یکشنبه ۲۳ آبان ۱۴۰۰ - ۱۱:۰۰   \n1043  چهارشنبه ۷ اردیبهشت ۱۴۰۱ - ۰۸:۴۶   \n\n                                                  title  \\\n314     کمترین و بیشترین نرخ تورم برای کدام استان هاست؟   \n917              بالاترین تورم ایران در چه سالی ثبت شد؟   \n834                            نرخ تورم به ۴۳ درصد رسید   \n1192                   چگونه غول تورم مهار تورم می شود؟   \n954       نرخ رسمی ۱۵ ارز افزایش یافت | ۵ اردیبهشت ۱۴۰۱   \n3989  جدول |  نرخ رسمی ۲۰ ارز افزایش یافت؛ اول آبان ...   \n1110                                          صعود دلار   \n975              نرخ ۲۱ ارز افزایش یافت | ۲۴ اسفند ۱۴۰۰   \n858    جدول | نرخ رسمی ۲۲ ارز افزایش یافت؛ ۲۳ آبان ۱۴۰۰   \n1043        نرخ رسمی ۲۴ ارز کاهش یافت | ۷ اردیبهشت ۱۴۰۱   \n\n                                                  intro  \\\n314   استان‌های قم و تهران به ترتیب با ۴۰.۹ درصد و ۴...   \n917   اتاق بازرگانی تهران در جدیدترین گزارش خود به ت...   \n834   نرخ تورم سالانه خردادماه با رشد دو درصدی به ۴۳...   \n1192  هماهنگی و فهم مشترک تیم اقتصادی دولت از ریشه و...   \n954   بانک مرکزی امروز، ‌دوشنبه (۵ اردیبهشت)، نرخ رس...   \n3989  بانک مرکزی امروز، ‌شنبه (اول آبان)، نرخ رسمی ۴...   \n1110            ارزش دلار مقابل ارزهای مهم افزایش یافت.   \n975   بانک مرکزی امروز، ‌سه‌شنبه (۲۴ اسفند)، نرخ رسم...   \n858   بانک مرکزی امروز، ‌یکشنبه (۲۳آبان)، نرخ رسمی ۴...   \n1043  بانک مرکزی امروز، ‌چهارشنبه (۷ اردیبهشت)، نرخ ...   \n\n                                                   body    category  \n314   به گزارش همشهری آنلاین به نقل از ایرنا، براساس...    Politics  \n917   به گزارش همشهری آنلاین به نقل از ایسنا، تورم ب...     Economy  \n834   به گزارش همشهری آنلاین براساس اعلام مرکز آمار ...     Economy  \n1192  همشهری- سید بهاءالدین حسینی هاشمی‌- کارشناس ار...     Economy  \n954   به گزارش همشهری‌آنلاین، بانک مرکزی امروز نرخ ه...     Economy  \n3989  به گزارش همشهری‌آنلاین، بانک مرکزی امروز نرخ ه...  LifeSkills  \n1110  به گزارش همشهری آنلاین، ایسنا به نقل از بلومبر...     Economy  \n975   به گزارش همشهری‌آنلاین، بانک مرکزی امروز نرخ ه...     Economy  \n858   به گزارش همشهری‌آنلاین، بانک مرکزی امروز نرخ ه...     Economy  \n1043  به گزارش همشهری‌آنلاین، بانک مرکزی امروز نرخ ه...     Economy  ",
      "text/html": "<div>\n<style scoped>\n    .dataframe tbody tr th:only-of-type {\n        vertical-align: middle;\n    }\n\n    .dataframe tbody tr th {\n        vertical-align: top;\n    }\n\n    .dataframe thead th {\n        text-align: right;\n    }\n</style>\n<table border=\"1\" class=\"dataframe\">\n  <thead>\n    <tr style=\"text-align: right;\">\n      <th></th>\n      <th>date</th>\n      <th>title</th>\n      <th>intro</th>\n      <th>body</th>\n      <th>category</th>\n    </tr>\n  </thead>\n  <tbody>\n    <tr>\n      <th>314</th>\n      <td>یکشنبه ۹ آبان ۱۴۰۰ - ۱۱:۲۰</td>\n      <td>کمترین و بیشترین نرخ تورم برای کدام استان هاست؟</td>\n      <td>استان‌های قم و تهران به ترتیب با ۴۰.۹ درصد و ۴...</td>\n      <td>به گزارش همشهری آنلاین به نقل از ایرنا، براساس...</td>\n      <td>Politics</td>\n    </tr>\n    <tr>\n      <th>917</th>\n      <td>جمعه ۱۹ فروردین ۱۴۰۱ - ۱۵:۴۶</td>\n      <td>بالاترین تورم ایران در چه سالی ثبت شد؟</td>\n      <td>اتاق بازرگانی تهران در جدیدترین گزارش خود به ت...</td>\n      <td>به گزارش همشهری آنلاین به نقل از ایسنا، تورم ب...</td>\n      <td>Economy</td>\n    </tr>\n    <tr>\n      <th>834</th>\n      <td>سه‌شنبه ۱ تیر ۱۴۰۰ - ۱۷:۱۶</td>\n      <td>نرخ تورم به ۴۳ درصد رسید</td>\n      <td>نرخ تورم سالانه خردادماه با رشد دو درصدی به ۴۳...</td>\n      <td>به گزارش همشهری آنلاین براساس اعلام مرکز آمار ...</td>\n      <td>Economy</td>\n    </tr>\n    <tr>\n      <th>1192</th>\n      <td>سه‌شنبه ۹ شهریور ۱۴۰۰ - ۱۲:۱۵</td>\n      <td>چگونه غول تورم مهار تورم می شود؟</td>\n      <td>هماهنگی و فهم مشترک تیم اقتصادی دولت از ریشه و...</td>\n      <td>همشهری- سید بهاءالدین حسینی هاشمی‌- کارشناس ار...</td>\n      <td>Economy</td>\n    </tr>\n    <tr>\n      <th>954</th>\n      <td>دوشنبه ۵ اردیبهشت ۱۴۰۱ - ۱۰:۲۶</td>\n      <td>نرخ رسمی ۱۵ ارز افزایش یافت | ۵ اردیبهشت ۱۴۰۱</td>\n      <td>بانک مرکزی امروز، ‌دوشنبه (۵ اردیبهشت)، نرخ رس...</td>\n      <td>به گزارش همشهری‌آنلاین، بانک مرکزی امروز نرخ ه...</td>\n      <td>Economy</td>\n    </tr>\n    <tr>\n      <th>3989</th>\n      <td>شنبه ۱ آبان ۱۴۰۰ - ۰۸:۴۱</td>\n      <td>جدول |  نرخ رسمی ۲۰ ارز افزایش یافت؛ اول آبان ...</td>\n      <td>بانک مرکزی امروز، ‌شنبه (اول آبان)، نرخ رسمی ۴...</td>\n      <td>به گزارش همشهری‌آنلاین، بانک مرکزی امروز نرخ ه...</td>\n      <td>LifeSkills</td>\n    </tr>\n    <tr>\n      <th>1110</th>\n      <td>سه‌شنبه ۹ آذر ۱۴۰۰ - ۱۰:۱۱</td>\n      <td>صعود دلار</td>\n      <td>ارزش دلار مقابل ارزهای مهم افزایش یافت.</td>\n      <td>به گزارش همشهری آنلاین، ایسنا به نقل از بلومبر...</td>\n      <td>Economy</td>\n    </tr>\n    <tr>\n      <th>975</th>\n      <td>سه‌شنبه ۲۴ اسفند ۱۴۰۰ - ۰۸:۲۵</td>\n      <td>نرخ ۲۱ ارز افزایش یافت | ۲۴ اسفند ۱۴۰۰</td>\n      <td>بانک مرکزی امروز، ‌سه‌شنبه (۲۴ اسفند)، نرخ رسم...</td>\n      <td>به گزارش همشهری‌آنلاین، بانک مرکزی امروز نرخ ه...</td>\n      <td>Economy</td>\n    </tr>\n    <tr>\n      <th>858</th>\n      <td>یکشنبه ۲۳ آبان ۱۴۰۰ - ۱۱:۰۰</td>\n      <td>جدول | نرخ رسمی ۲۲ ارز افزایش یافت؛ ۲۳ آبان ۱۴۰۰</td>\n      <td>بانک مرکزی امروز، ‌یکشنبه (۲۳آبان)، نرخ رسمی ۴...</td>\n      <td>به گزارش همشهری‌آنلاین، بانک مرکزی امروز نرخ ه...</td>\n      <td>Economy</td>\n    </tr>\n    <tr>\n      <th>1043</th>\n      <td>چهارشنبه ۷ اردیبهشت ۱۴۰۱ - ۰۸:۴۶</td>\n      <td>نرخ رسمی ۲۴ ارز کاهش یافت | ۷ اردیبهشت ۱۴۰۱</td>\n      <td>بانک مرکزی امروز، ‌چهارشنبه (۷ اردیبهشت)، نرخ ...</td>\n      <td>به گزارش همشهری‌آنلاین، بانک مرکزی امروز نرخ ه...</td>\n      <td>Economy</td>\n    </tr>\n  </tbody>\n</table>\n</div>"
     },
     "metadata": {},
     "output_type": "display_data"
    },
    {
     "name": "stdout",
     "output_type": "stream",
     "text": [
      "Query 4: آمار فوتی‌های کرونا\n"
     ]
    },
    {
     "data": {
      "text/plain": "                                 date  \\\n561      دوشنبه ۱۸ مرداد ۱۴۰۰ - ۱۱:۲۳   \n1223     دوشنبه ۱۸ مرداد ۱۴۰۰ - ۰۸:۳۰   \n1239      یکشنبه ۹ خرداد ۱۴۰۰ - ۲۰:۳۷   \n2507    پنجشنبه ۴ شهریور ۱۴۰۰ - ۰۰:۳۸   \n311          شنبه ۱ آبان ۱۴۰۰ - ۱۲:۳۶   \n1734  یکشنبه ۱۱ اردیبهشت ۱۴۰۱ - ۱۲:۱۱   \n1514   چهارشنبه ۱۱ اسفند ۱۴۰۰ - ۱۳:۳۸   \n1305        جمعه ۱ مرداد ۱۴۰۰ - ۱۴:۵۵   \n1597    دوشنبه ۱۵ شهریور ۱۴۰۰ - ۱۷:۳۰   \n2780  یکشنبه ۱۹ اردیبهشت ۱۴۰۰ - ۲۳:۳۳   \n\n                                                  title  \\\n561   ️ایران در فوتی‌های کرونا در جهان سوم شد! | رتب...   \n1223  چرا رکورد مرگ در ایران ثبت شد؟ | روایت پزشکان ...   \n1239  اینفوگرافیک | آمار واکسیناسیون کرونا در کشورها...   \n2507  تنها راه کنترل کرونا «لاک‌داون» تمام عیار به ش...   \n311   هشدار رئیس سازمان برنامه درباره معیشت مردم | ز...   \n1734  افزایش ۴ درصدی آمار تصادف منجر به فوت در سال گ...   \n1514  آخرین وضعیت کرونایی تهران در اوج امیکرون | پای...   \n1305  کرونا جان ۲۱۰ نفر دیگر را در ایران گرفت | افزا...   \n1597  مراکز واکسیناسیون تهران دوشیفته می‌شوند| آمار ...   \n2780  یک سوم انگلیسی‌ها در برابر کرونا کاملا واکسینه...   \n\n                                                  intro  \\\n561   ایران ۸۰ میلیون نفری روز گذشته با ۵۴۲ فوتی، بع...   \n1223  برای اولین بار در ۵۳۷ روز گذشته، شمار فوتی‌های...   \n1239  براساس جدیدترین آمار، واکسیناسیون کرونا در ایر...   \n2507  کوروش هلاکویی نائینی، استاد آمار و اپیدمیولوژی...   \n311   رئیس سازمان برنامه و بودجه با اشاره به وضعیت م...   \n1734  مدیرکل مهندسی و ایمنی ترافیک معاونت حمل‌ ونقل ...   \n1514  معاون بهداشت ستاد مقابله با کرونا تهران آخرین ...   \n1305  وزارت بهداشت، جدیدترین آمارهای مربوط به کرونا ...   \n1597  رئیس ستاد مقابله با کرونای استان تهران گفت: در...   \n2780  آخرین ارقام منتشر شده در روز یکشنبه ۱۹ اردیبهش...   \n\n                                                   body  category  \n561                                                         World  \n1223  همشهری- یکتا فراهانی/  مریم سرخوش: بالاترین می...   Society  \n1239                                                      Society  \n2507  به گزارش همشهری آنلاین دکتر هلاکویی در مصاحبه‌...   Science  \n311   به گزارش همشهری آنلاین به نقل از ایسنا، امروز ...  Politics  \n1734  به گزارش همشهری آنلاین، حسین حسین‌نژاد مدیرکل ...      City  \n1514  به گزارش همشهری آنلاین به نقل از ایسنا، دکتر ع...   Society  \n1305  به گزارش همشهری آنلاین، وزارت بهداشت، آمار موا...   Society  \n1597  به گزارش همشهری‌آنلاین به نقل از فارس، جلسه ست...   Society  \n2780  به گزارش همشهری آنلاین به نقل از گاردین در مجم...   Science  ",
      "text/html": "<div>\n<style scoped>\n    .dataframe tbody tr th:only-of-type {\n        vertical-align: middle;\n    }\n\n    .dataframe tbody tr th {\n        vertical-align: top;\n    }\n\n    .dataframe thead th {\n        text-align: right;\n    }\n</style>\n<table border=\"1\" class=\"dataframe\">\n  <thead>\n    <tr style=\"text-align: right;\">\n      <th></th>\n      <th>date</th>\n      <th>title</th>\n      <th>intro</th>\n      <th>body</th>\n      <th>category</th>\n    </tr>\n  </thead>\n  <tbody>\n    <tr>\n      <th>561</th>\n      <td>دوشنبه ۱۸ مرداد ۱۴۰۰ - ۱۱:۲۳</td>\n      <td>️ایران در فوتی‌های کرونا در جهان سوم شد! | رتب...</td>\n      <td>ایران ۸۰ میلیون نفری روز گذشته با ۵۴۲ فوتی، بع...</td>\n      <td></td>\n      <td>World</td>\n    </tr>\n    <tr>\n      <th>1223</th>\n      <td>دوشنبه ۱۸ مرداد ۱۴۰۰ - ۰۸:۳۰</td>\n      <td>چرا رکورد مرگ در ایران ثبت شد؟ | روایت پزشکان ...</td>\n      <td>برای اولین بار در ۵۳۷ روز گذشته، شمار فوتی‌های...</td>\n      <td>همشهری- یکتا فراهانی/  مریم سرخوش: بالاترین می...</td>\n      <td>Society</td>\n    </tr>\n    <tr>\n      <th>1239</th>\n      <td>یکشنبه ۹ خرداد ۱۴۰۰ - ۲۰:۳۷</td>\n      <td>اینفوگرافیک | آمار واکسیناسیون کرونا در کشورها...</td>\n      <td>براساس جدیدترین آمار، واکسیناسیون کرونا در ایر...</td>\n      <td></td>\n      <td>Society</td>\n    </tr>\n    <tr>\n      <th>2507</th>\n      <td>پنجشنبه ۴ شهریور ۱۴۰۰ - ۰۰:۳۸</td>\n      <td>تنها راه کنترل کرونا «لاک‌داون» تمام عیار به ش...</td>\n      <td>کوروش هلاکویی نائینی، استاد آمار و اپیدمیولوژی...</td>\n      <td>به گزارش همشهری آنلاین دکتر هلاکویی در مصاحبه‌...</td>\n      <td>Science</td>\n    </tr>\n    <tr>\n      <th>311</th>\n      <td>شنبه ۱ آبان ۱۴۰۰ - ۱۲:۳۶</td>\n      <td>هشدار رئیس سازمان برنامه درباره معیشت مردم | ز...</td>\n      <td>رئیس سازمان برنامه و بودجه با اشاره به وضعیت م...</td>\n      <td>به گزارش همشهری آنلاین به نقل از ایسنا، امروز ...</td>\n      <td>Politics</td>\n    </tr>\n    <tr>\n      <th>1734</th>\n      <td>یکشنبه ۱۱ اردیبهشت ۱۴۰۱ - ۱۲:۱۱</td>\n      <td>افزایش ۴ درصدی آمار تصادف منجر به فوت در سال گ...</td>\n      <td>مدیرکل مهندسی و ایمنی ترافیک معاونت حمل‌ ونقل ...</td>\n      <td>به گزارش همشهری آنلاین، حسین حسین‌نژاد مدیرکل ...</td>\n      <td>City</td>\n    </tr>\n    <tr>\n      <th>1514</th>\n      <td>چهارشنبه ۱۱ اسفند ۱۴۰۰ - ۱۳:۳۸</td>\n      <td>آخرین وضعیت کرونایی تهران در اوج امیکرون | پای...</td>\n      <td>معاون بهداشت ستاد مقابله با کرونا تهران آخرین ...</td>\n      <td>به گزارش همشهری آنلاین به نقل از ایسنا، دکتر ع...</td>\n      <td>Society</td>\n    </tr>\n    <tr>\n      <th>1305</th>\n      <td>جمعه ۱ مرداد ۱۴۰۰ - ۱۴:۵۵</td>\n      <td>کرونا جان ۲۱۰ نفر دیگر را در ایران گرفت | افزا...</td>\n      <td>وزارت بهداشت، جدیدترین آمارهای مربوط به کرونا ...</td>\n      <td>به گزارش همشهری آنلاین، وزارت بهداشت، آمار موا...</td>\n      <td>Society</td>\n    </tr>\n    <tr>\n      <th>1597</th>\n      <td>دوشنبه ۱۵ شهریور ۱۴۰۰ - ۱۷:۳۰</td>\n      <td>مراکز واکسیناسیون تهران دوشیفته می‌شوند| آمار ...</td>\n      <td>رئیس ستاد مقابله با کرونای استان تهران گفت: در...</td>\n      <td>به گزارش همشهری‌آنلاین به نقل از فارس، جلسه ست...</td>\n      <td>Society</td>\n    </tr>\n    <tr>\n      <th>2780</th>\n      <td>یکشنبه ۱۹ اردیبهشت ۱۴۰۰ - ۲۳:۳۳</td>\n      <td>یک سوم انگلیسی‌ها در برابر کرونا کاملا واکسینه...</td>\n      <td>آخرین ارقام منتشر شده در روز یکشنبه ۱۹ اردیبهش...</td>\n      <td>به گزارش همشهری آنلاین به نقل از گاردین در مجم...</td>\n      <td>Science</td>\n    </tr>\n  </tbody>\n</table>\n</div>"
     },
     "metadata": {},
     "output_type": "display_data"
    },
    {
     "name": "stdout",
     "output_type": "stream",
     "text": [
      "Query 5: اقدامات شهرداری تهران\n"
     ]
    },
    {
     "data": {
      "text/plain": "                               date  \\\n1756    چهارشنبه ۲ تیر ۱۴۰۰ - ۱۸:۳۵   \n1890   یکشنبه ۱۷ مرداد ۱۴۰۰ - ۱۴:۴۰   \n1811     یکشنبه ۲۱ آذر ۱۴۰۰ - ۱۲:۳۳   \n1757   چهارشنبه ۲۱ مهر ۱۴۰۰ - ۱۶:۲۳   \n1998    شنبه ۷ فروردین ۱۴۰۰ - ۲۳:۲۴   \n1682    یکشنبه ۲۴ بهمن ۱۴۰۰ - ۱۳:۲۲   \n1673   سه‌شنبه ۱۲ بهمن ۱۴۰۰ - ۱۵:۳۵   \n1718   دوشنبه ۳۱ خرداد ۱۴۰۰ - ۲۱:۳۷   \n1745  پنجشنبه ۱۹ اسفند ۱۴۰۰ - ۱۴:۴۰   \n1774      دوشنبه ۱۳ دی ۱۴۰۰ - ۱۲:۴۹   \n\n                                                  title  \\\n1756  زیان ۱۰۰ میلیاردی شهرداری از تعطیلی اماکن ورزش...   \n1890  واکنش شورا به برنامه زاکانی برای اداره پایتخت ...   \n1811     توضیح شهرداری درباره اختلال در سامانه تهران من   \n1757      مانور «اقتدار» با حضور شهردار تهران برگزار شد   \n1998  شهروندان تهران آینده آن را رقم می‌زنند | نوای ...   \n1682           درآمد اضافی شهرداری صرف چه اموری می‌شود؟   \n1673  تصویب بودجه ۵۰ هزار میلیارد تومانی شهرداری تهر...   \n1718        محاسبه عوارض ساختمانی بر اساس مرغوبیت مکانی   \n1745  شهرداری تهران به دنبال افزایش احساس تعلق به شه...   \n1774  دغدغه آسیب‌های اجتماعی در اصلاحیه بودجه شهردار...   \n\n                                                  intro  \\\n1756  معاون امور اجتماعی و فرهنگی شهرداری تهران به ت...   \n1890  دومین جلسه شورای اسلامی شهر تهران امروز با دو ...   \n1811  سازمان فناوری اطلاعات و ارتباطات شهرداری تهران...   \n1757  شهردار تهران به مناسبت هفته نیروی انتظامی در ص...   \n1998  مدیرکل فرهنگی معاونت اجتماعی و فرهنگی شهرداری ...   \n1682  «اضافه درآمد شهرداری تهران باید صرف توسعه متوا...   \n1673  سقف بودجه شهرداری تهران با ۵۰ هزار میلیارد توم...   \n1718  مدیرکل تدوین ضوابط، نظارت و صدور پروانه شهردار...   \n1745  در ششمین اجلاس عمومی مجمع شهرداران آسیایی که ب...   \n1774  رئیس کمیسیون فرهنگی و اجتماعی شورای اسلامی شهر...   \n\n                                                   body category  \n1756  به گزارش همشهری آنلاین به نقل از ایلنا، محمدرض...     City  \n1890  به گزارش همشهری آنلاین، بر این اساس اعضای شورا...     City  \n1811  به گزارش همشهری آنلاین، سازمان فناوری اطلاعات ...     City  \n1757  به گزارش همشهری آنلاین به نقل از فارس، علیرضا ...     City  \n1998  به گزارش همشهری آنلاین صبح امروز دبیرخانه تهرا...     City  \n1682  امروز یکشنبه، ۲۴ بهمن ماه جلسه شورای شهر تهران...     City  \n1673  به گزارش همشهری آنلاین به نقل از شهر، سه شنبه ...     City  \n1718  به گزارش همشهری آنلاین، مدیرکل تدوین ضوابط، نظ...     City  \n1745  به گزارش همشهری آنلاین به نقل از روابط عمومی س...     City  \n1774  به گزارش همشهری آنلاین به نقل از ایلنا، نرگس م...     City  ",
      "text/html": "<div>\n<style scoped>\n    .dataframe tbody tr th:only-of-type {\n        vertical-align: middle;\n    }\n\n    .dataframe tbody tr th {\n        vertical-align: top;\n    }\n\n    .dataframe thead th {\n        text-align: right;\n    }\n</style>\n<table border=\"1\" class=\"dataframe\">\n  <thead>\n    <tr style=\"text-align: right;\">\n      <th></th>\n      <th>date</th>\n      <th>title</th>\n      <th>intro</th>\n      <th>body</th>\n      <th>category</th>\n    </tr>\n  </thead>\n  <tbody>\n    <tr>\n      <th>1756</th>\n      <td>چهارشنبه ۲ تیر ۱۴۰۰ - ۱۸:۳۵</td>\n      <td>زیان ۱۰۰ میلیاردی شهرداری از تعطیلی اماکن ورزش...</td>\n      <td>معاون امور اجتماعی و فرهنگی شهرداری تهران به ت...</td>\n      <td>به گزارش همشهری آنلاین به نقل از ایلنا، محمدرض...</td>\n      <td>City</td>\n    </tr>\n    <tr>\n      <th>1890</th>\n      <td>یکشنبه ۱۷ مرداد ۱۴۰۰ - ۱۴:۴۰</td>\n      <td>واکنش شورا به برنامه زاکانی برای اداره پایتخت ...</td>\n      <td>دومین جلسه شورای اسلامی شهر تهران امروز با دو ...</td>\n      <td>به گزارش همشهری آنلاین، بر این اساس اعضای شورا...</td>\n      <td>City</td>\n    </tr>\n    <tr>\n      <th>1811</th>\n      <td>یکشنبه ۲۱ آذر ۱۴۰۰ - ۱۲:۳۳</td>\n      <td>توضیح شهرداری درباره اختلال در سامانه تهران من</td>\n      <td>سازمان فناوری اطلاعات و ارتباطات شهرداری تهران...</td>\n      <td>به گزارش همشهری آنلاین، سازمان فناوری اطلاعات ...</td>\n      <td>City</td>\n    </tr>\n    <tr>\n      <th>1757</th>\n      <td>چهارشنبه ۲۱ مهر ۱۴۰۰ - ۱۶:۲۳</td>\n      <td>مانور «اقتدار» با حضور شهردار تهران برگزار شد</td>\n      <td>شهردار تهران به مناسبت هفته نیروی انتظامی در ص...</td>\n      <td>به گزارش همشهری آنلاین به نقل از فارس، علیرضا ...</td>\n      <td>City</td>\n    </tr>\n    <tr>\n      <th>1998</th>\n      <td>شنبه ۷ فروردین ۱۴۰۰ - ۲۳:۲۴</td>\n      <td>شهروندان تهران آینده آن را رقم می‌زنند | نوای ...</td>\n      <td>مدیرکل فرهنگی معاونت اجتماعی و فرهنگی شهرداری ...</td>\n      <td>به گزارش همشهری آنلاین صبح امروز دبیرخانه تهرا...</td>\n      <td>City</td>\n    </tr>\n    <tr>\n      <th>1682</th>\n      <td>یکشنبه ۲۴ بهمن ۱۴۰۰ - ۱۳:۲۲</td>\n      <td>درآمد اضافی شهرداری صرف چه اموری می‌شود؟</td>\n      <td>«اضافه درآمد شهرداری تهران باید صرف توسعه متوا...</td>\n      <td>امروز یکشنبه، ۲۴ بهمن ماه جلسه شورای شهر تهران...</td>\n      <td>City</td>\n    </tr>\n    <tr>\n      <th>1673</th>\n      <td>سه‌شنبه ۱۲ بهمن ۱۴۰۰ - ۱۵:۳۵</td>\n      <td>تصویب بودجه ۵۰ هزار میلیارد تومانی شهرداری تهر...</td>\n      <td>سقف بودجه شهرداری تهران با ۵۰ هزار میلیارد توم...</td>\n      <td>به گزارش همشهری آنلاین به نقل از شهر، سه شنبه ...</td>\n      <td>City</td>\n    </tr>\n    <tr>\n      <th>1718</th>\n      <td>دوشنبه ۳۱ خرداد ۱۴۰۰ - ۲۱:۳۷</td>\n      <td>محاسبه عوارض ساختمانی بر اساس مرغوبیت مکانی</td>\n      <td>مدیرکل تدوین ضوابط، نظارت و صدور پروانه شهردار...</td>\n      <td>به گزارش همشهری آنلاین، مدیرکل تدوین ضوابط، نظ...</td>\n      <td>City</td>\n    </tr>\n    <tr>\n      <th>1745</th>\n      <td>پنجشنبه ۱۹ اسفند ۱۴۰۰ - ۱۴:۴۰</td>\n      <td>شهرداری تهران به دنبال افزایش احساس تعلق به شه...</td>\n      <td>در ششمین اجلاس عمومی مجمع شهرداران آسیایی که ب...</td>\n      <td>به گزارش همشهری آنلاین به نقل از روابط عمومی س...</td>\n      <td>City</td>\n    </tr>\n    <tr>\n      <th>1774</th>\n      <td>دوشنبه ۱۳ دی ۱۴۰۰ - ۱۲:۴۹</td>\n      <td>دغدغه آسیب‌های اجتماعی در اصلاحیه بودجه شهردار...</td>\n      <td>رئیس کمیسیون فرهنگی و اجتماعی شورای اسلامی شهر...</td>\n      <td>به گزارش همشهری آنلاین به نقل از ایلنا، نرگس م...</td>\n      <td>City</td>\n    </tr>\n  </tbody>\n</table>\n</div>"
     },
     "metadata": {},
     "output_type": "display_data"
    },
    {
     "name": "stdout",
     "output_type": "stream",
     "text": [
      "Query 6: صعود ایران به جام جهانی\n"
     ]
    },
    {
     "data": {
      "text/plain": "                                  date  \\\n2309   پنجشنبه ۸ اردیبهشت ۱۴۰۱ - ۰۸:۲۳   \n2367    یکشنبه ۲۱ فروردین ۱۴۰۱ - ۰۹:۵۵   \n1628       پنجشنبه ۷ بهمن ۱۴۰۰ - ۲۱:۲۲   \n2398  سه‌شنبه ۱۳ اردیبهشت ۱۴۰۱ - ۰۷:۴۸   \n2187          شنبه ۲۷ آذر ۱۴۰۰ - ۱۱:۳۲   \n2132          جمعه ۱۲ آذر ۱۴۰۰ - ۱۰:۰۴   \n2283      سه‌شنبه ۲۵ آبان ۱۴۰۰ - ۲۱:۵۵   \n2037       شنبه ۶ فروردین ۱۴۰۱ - ۰۸:۳۰   \n2069    چهارشنبه ۲۶ خرداد ۱۴۰۰ - ۰۸:۰۴   \n2166     سه‌شنبه ۲۵ خرداد ۱۴۰۰ - ۲۱:۱۰   \n\n                                                  title  \\\n2309  هیچ وقت گروه به این خوبی نداشتیم | حسم می گوید...   \n2367  پیش‌بینی نتایج تیم ملی در جام جهانی قطر| شاگرد...   \n1628  توئیت فوتبالی شهردار تهران | زاکانی: اول بودن ...   \n2398  جام جهانی ۹۸ با تیم ملی آمریکا شکست سختی برابر...   \n2187  گران‌ترین جام‌ دنیای فوتبال کدام است | ارزش می...   \n2132  واکنش بحث‌برانگیز به ۶ هزار کشته ساخت ورزشگاه‌...   \n2283     جایگاه ایران در جدول گروه A مقدماتی جام‌ جهانی   \n2037  مقدماتی جام جهانی|  شاگردان کی روش در یک قدمی ...   \n2069  پیش‌بینی مرحله نهایی مقدماتی جام جهانی در آسیا...   \n2166  صعود تیم برانکو به مرحله نهایی انتخابی جام جها...   \n\n                                                  intro  \\\n2309  رضا قوچان‌نژاد یک سالی هست از میادین فوتبال دو...   \n2367  ساکرنت اقدام به پیش بینی نتایج تیم‌ها در جام ج...   \n1628  شهردار تهران صعود تاریخی و مقتدارنه تیم ملی فو...   \n2398  سرمربی سابق تیم ملی فوتبال ایران در خصوص شرایط...   \n2187  جام‌های فوتبال جدا از ارزش مالی خود، به دلیل ف...   \n2132  رییس کمیته برگزاری مسابقات جام جهانی ۲۰۲۲ قطر ...   \n2283  ایران با برد  ۳ بر صفر مقابل سوریه با ۱۶ امتیا...   \n2037  از قاره آفریقا ۵ تیم راهی جام جهانی قطر خواهد شد.   \n2069  سایت عربی بعد از نهایی شدن صعود ۱۲ تیم به مرحل...   \n2166  تیم ملی فوتبال عمان با تساوی هند مقابل افغانست...   \n\n                                                   body category  \n2309  به گزارش همشهری آنلاین  گوچی به‌خاطر بازی‌های ...    Sport  \n2367  به گزارش همشهری‌آنلاین، در حالی که ما هنوز همه...    Sport  \n1628  به گزارش همشهری آنلاین، علیرضا زاکانی در توئیت...     City  \n2398  به گزارش همشهری آنلاین به نقل از فاکس، دو تیم ...    Sport  \n2187  به گزارش همشهری آنلاین به نقل از  باشگاه خبرنگ...    Sport  \n2132  به گزارش همشهری‌آنلاین به نقل از اهداف، ناصر ا...    Sport  \n2283                                                       Sport  \n2037  به گزارش همشهری‌آنلاین در دور رفت مرحله نهایی ...    Sport  \n2069  به گزارش همشهری‌آنلاین به نقل از سایت عربی کور...    Sport  \n2166  به گزارش همشهری‌آنلاین، تیم ملی هند امروز در گ...    Sport  ",
      "text/html": "<div>\n<style scoped>\n    .dataframe tbody tr th:only-of-type {\n        vertical-align: middle;\n    }\n\n    .dataframe tbody tr th {\n        vertical-align: top;\n    }\n\n    .dataframe thead th {\n        text-align: right;\n    }\n</style>\n<table border=\"1\" class=\"dataframe\">\n  <thead>\n    <tr style=\"text-align: right;\">\n      <th></th>\n      <th>date</th>\n      <th>title</th>\n      <th>intro</th>\n      <th>body</th>\n      <th>category</th>\n    </tr>\n  </thead>\n  <tbody>\n    <tr>\n      <th>2309</th>\n      <td>پنجشنبه ۸ اردیبهشت ۱۴۰۱ - ۰۸:۲۳</td>\n      <td>هیچ وقت گروه به این خوبی نداشتیم | حسم می گوید...</td>\n      <td>رضا قوچان‌نژاد یک سالی هست از میادین فوتبال دو...</td>\n      <td>به گزارش همشهری آنلاین  گوچی به‌خاطر بازی‌های ...</td>\n      <td>Sport</td>\n    </tr>\n    <tr>\n      <th>2367</th>\n      <td>یکشنبه ۲۱ فروردین ۱۴۰۱ - ۰۹:۵۵</td>\n      <td>پیش‌بینی نتایج تیم ملی در جام جهانی قطر| شاگرد...</td>\n      <td>ساکرنت اقدام به پیش بینی نتایج تیم‌ها در جام ج...</td>\n      <td>به گزارش همشهری‌آنلاین، در حالی که ما هنوز همه...</td>\n      <td>Sport</td>\n    </tr>\n    <tr>\n      <th>1628</th>\n      <td>پنجشنبه ۷ بهمن ۱۴۰۰ - ۲۱:۲۲</td>\n      <td>توئیت فوتبالی شهردار تهران | زاکانی: اول بودن ...</td>\n      <td>شهردار تهران صعود تاریخی و مقتدارنه تیم ملی فو...</td>\n      <td>به گزارش همشهری آنلاین، علیرضا زاکانی در توئیت...</td>\n      <td>City</td>\n    </tr>\n    <tr>\n      <th>2398</th>\n      <td>سه‌شنبه ۱۳ اردیبهشت ۱۴۰۱ - ۰۷:۴۸</td>\n      <td>جام جهانی ۹۸ با تیم ملی آمریکا شکست سختی برابر...</td>\n      <td>سرمربی سابق تیم ملی فوتبال ایران در خصوص شرایط...</td>\n      <td>به گزارش همشهری آنلاین به نقل از فاکس، دو تیم ...</td>\n      <td>Sport</td>\n    </tr>\n    <tr>\n      <th>2187</th>\n      <td>شنبه ۲۷ آذر ۱۴۰۰ - ۱۱:۳۲</td>\n      <td>گران‌ترین جام‌ دنیای فوتبال کدام است | ارزش می...</td>\n      <td>جام‌های فوتبال جدا از ارزش مالی خود، به دلیل ف...</td>\n      <td>به گزارش همشهری آنلاین به نقل از  باشگاه خبرنگ...</td>\n      <td>Sport</td>\n    </tr>\n    <tr>\n      <th>2132</th>\n      <td>جمعه ۱۲ آذر ۱۴۰۰ - ۱۰:۰۴</td>\n      <td>واکنش بحث‌برانگیز به ۶ هزار کشته ساخت ورزشگاه‌...</td>\n      <td>رییس کمیته برگزاری مسابقات جام جهانی ۲۰۲۲ قطر ...</td>\n      <td>به گزارش همشهری‌آنلاین به نقل از اهداف، ناصر ا...</td>\n      <td>Sport</td>\n    </tr>\n    <tr>\n      <th>2283</th>\n      <td>سه‌شنبه ۲۵ آبان ۱۴۰۰ - ۲۱:۵۵</td>\n      <td>جایگاه ایران در جدول گروه A مقدماتی جام‌ جهانی</td>\n      <td>ایران با برد  ۳ بر صفر مقابل سوریه با ۱۶ امتیا...</td>\n      <td></td>\n      <td>Sport</td>\n    </tr>\n    <tr>\n      <th>2037</th>\n      <td>شنبه ۶ فروردین ۱۴۰۱ - ۰۸:۳۰</td>\n      <td>مقدماتی جام جهانی|  شاگردان کی روش در یک قدمی ...</td>\n      <td>از قاره آفریقا ۵ تیم راهی جام جهانی قطر خواهد شد.</td>\n      <td>به گزارش همشهری‌آنلاین در دور رفت مرحله نهایی ...</td>\n      <td>Sport</td>\n    </tr>\n    <tr>\n      <th>2069</th>\n      <td>چهارشنبه ۲۶ خرداد ۱۴۰۰ - ۰۸:۰۴</td>\n      <td>پیش‌بینی مرحله نهایی مقدماتی جام جهانی در آسیا...</td>\n      <td>سایت عربی بعد از نهایی شدن صعود ۱۲ تیم به مرحل...</td>\n      <td>به گزارش همشهری‌آنلاین به نقل از سایت عربی کور...</td>\n      <td>Sport</td>\n    </tr>\n    <tr>\n      <th>2166</th>\n      <td>سه‌شنبه ۲۵ خرداد ۱۴۰۰ - ۲۱:۱۰</td>\n      <td>صعود تیم برانکو به مرحله نهایی انتخابی جام جها...</td>\n      <td>تیم ملی فوتبال عمان با تساوی هند مقابل افغانست...</td>\n      <td>به گزارش همشهری‌آنلاین، تیم ملی هند امروز در گ...</td>\n      <td>Sport</td>\n    </tr>\n  </tbody>\n</table>\n</div>"
     },
     "metadata": {},
     "output_type": "display_data"
    },
    {
     "name": "stdout",
     "output_type": "stream",
     "text": [
      "Query 7: بیماری آبله میمونی\n"
     ]
    },
    {
     "data": {
      "text/plain": "                               date  \\\n2527  جمعه ۳۰ اردیبهشت ۱۴۰۱ - ۱۸:۱۹   \n2454  شنبه ۳۱ اردیبهشت ۱۴۰۱ - ۱۸:۵۸   \n2797   پنجشنبه ۵ خرداد ۱۴۰۱ - ۰۰:۰۶   \n2490   سه‌شنبه ۳ خرداد ۱۴۰۱ - ۱۹:۳۵   \n2734   پنجشنبه ۵ خرداد ۱۴۰۱ - ۲۱:۱۲   \n2625    دوشنبه ۲ خرداد ۱۴۰۱ - ۲۰:۵۴   \n2581   پنجشنبه ۵ خرداد ۱۴۰۱ - ۱۹:۰۹   \n2777    یکشنبه ۱ خرداد ۱۴۰۱ - ۰۲:۳۴   \n456     دوشنبه ۲ خرداد ۱۴۰۱ - ۰۱:۲۸   \n1238     سه‌شنبه ۲۱ دی ۱۴۰۰ - ۱۴:۰۷   \n\n                                                  title  \\\n2527  موارد ابتلا به آبله میمونی از کشورهای بیشتری گ...   \n2454  شیوع آبله میمونی؛ وحشت زده شویم؟ | راه‌های انت...   \n2797  اداره بهداشت فرانسه واکسیناسیون هدفمند برای آب...   \n2490  شرکت مدرنا آزمایش واکسن‌های بالقوه آبله میمونی...   \n2734  اقدامات ایران برای پیشگیری از شیوع آبله میمونی...   \n2625  سازمان جهانی بهداشت: شاهدی بر جهش یافتن ویروس ...   \n2581  چه واکسن‌ها و داروهایی برای مقابله با آبله میم...   \n2777  فرضیه کاری سازمان جهانی بهداشت درباره شیوع آبل...   \n456   بریتانیا موارد بیشتری از آبله میمونی را گزارش ...   \n1238  سالک به پشت دروازه‌های تهران رسید | چطور باید ...   \n\n                                                  intro  \\\n2527  مواد ابتلای انسانی  به آبله میمونی از کشورهای ...   \n2454  این روزها شماری از موارد ابتلا یا مشکوک به ابت...   \n2797  اداره بهداشت فرانسه روز سه‌شنبه شروع  کارزار و...   \n2490  شرکت مدرنا در در حالی که بیماری آبله میمونی در...   \n2734  دستیار رسانه‌ای وزیر بهداشت از تدوین دستورالعم...   \n2625  یک مقام اجرایی ارشد سازمان جهانی بهداشت گفت شا...   \n2581  شمار موارد آبله میمونی همچنان در کشورهایی خارج...   \n2777  یک مشاور ارشد سازمان جهانی بهداشت می‌گوید سازم...   \n456   مقامات بهداشت عمومی بریتانیا قرار است روز دوشن...   \n1238  رییس مرکز مدیریت بیماری‌های وزارت بهداشت با اش...   \n\n                                                   body category  \n2527  به گزارش همشهری آنلاین به نقل از یواس‌تودی یک ...  Science  \n2454  همشهری آنلاین، یکتا فراهانی: شیوع یک ویروس دیگ...  Science  \n2797  به گزارش همشهری آنلاین به نقل از رویترز اداره ...  Science  \n2490  به گزارش همشهری آنلاین به نقل از رویترز سازمان...  Science  \n2734  به گزارش همشهری آنلاین، پدرام پاک آیین، دستیار...  Science  \n2625  به گزارش همشهری آنلاین به نقل از رویترز روزامو...  Science  \n2581  به گزارش همشهری آنلاین مقامات بهداشتی جهانی تا...  Science  \n2777  به گزارش همشهری آنلاین به نقل از رویترز، دیوید...  Science  \n456   به گزارش همشهری آنلاین به نقل از گاردین شیوع غ...    World  \n1238  به گزارش همشهری آنلاین، دکتر محمدمهدی گویا در ...  Society  ",
      "text/html": "<div>\n<style scoped>\n    .dataframe tbody tr th:only-of-type {\n        vertical-align: middle;\n    }\n\n    .dataframe tbody tr th {\n        vertical-align: top;\n    }\n\n    .dataframe thead th {\n        text-align: right;\n    }\n</style>\n<table border=\"1\" class=\"dataframe\">\n  <thead>\n    <tr style=\"text-align: right;\">\n      <th></th>\n      <th>date</th>\n      <th>title</th>\n      <th>intro</th>\n      <th>body</th>\n      <th>category</th>\n    </tr>\n  </thead>\n  <tbody>\n    <tr>\n      <th>2527</th>\n      <td>جمعه ۳۰ اردیبهشت ۱۴۰۱ - ۱۸:۱۹</td>\n      <td>موارد ابتلا به آبله میمونی از کشورهای بیشتری گ...</td>\n      <td>مواد ابتلای انسانی  به آبله میمونی از کشورهای ...</td>\n      <td>به گزارش همشهری آنلاین به نقل از یواس‌تودی یک ...</td>\n      <td>Science</td>\n    </tr>\n    <tr>\n      <th>2454</th>\n      <td>شنبه ۳۱ اردیبهشت ۱۴۰۱ - ۱۸:۵۸</td>\n      <td>شیوع آبله میمونی؛ وحشت زده شویم؟ | راه‌های انت...</td>\n      <td>این روزها شماری از موارد ابتلا یا مشکوک به ابت...</td>\n      <td>همشهری آنلاین، یکتا فراهانی: شیوع یک ویروس دیگ...</td>\n      <td>Science</td>\n    </tr>\n    <tr>\n      <th>2797</th>\n      <td>پنجشنبه ۵ خرداد ۱۴۰۱ - ۰۰:۰۶</td>\n      <td>اداره بهداشت فرانسه واکسیناسیون هدفمند برای آب...</td>\n      <td>اداره بهداشت فرانسه روز سه‌شنبه شروع  کارزار و...</td>\n      <td>به گزارش همشهری آنلاین به نقل از رویترز اداره ...</td>\n      <td>Science</td>\n    </tr>\n    <tr>\n      <th>2490</th>\n      <td>سه‌شنبه ۳ خرداد ۱۴۰۱ - ۱۹:۳۵</td>\n      <td>شرکت مدرنا آزمایش واکسن‌های بالقوه آبله میمونی...</td>\n      <td>شرکت مدرنا در در حالی که بیماری آبله میمونی در...</td>\n      <td>به گزارش همشهری آنلاین به نقل از رویترز سازمان...</td>\n      <td>Science</td>\n    </tr>\n    <tr>\n      <th>2734</th>\n      <td>پنجشنبه ۵ خرداد ۱۴۰۱ - ۲۱:۱۲</td>\n      <td>اقدامات ایران برای پیشگیری از شیوع آبله میمونی...</td>\n      <td>دستیار رسانه‌ای وزیر بهداشت از تدوین دستورالعم...</td>\n      <td>به گزارش همشهری آنلاین، پدرام پاک آیین، دستیار...</td>\n      <td>Science</td>\n    </tr>\n    <tr>\n      <th>2625</th>\n      <td>دوشنبه ۲ خرداد ۱۴۰۱ - ۲۰:۵۴</td>\n      <td>سازمان جهانی بهداشت: شاهدی بر جهش یافتن ویروس ...</td>\n      <td>یک مقام اجرایی ارشد سازمان جهانی بهداشت گفت شا...</td>\n      <td>به گزارش همشهری آنلاین به نقل از رویترز روزامو...</td>\n      <td>Science</td>\n    </tr>\n    <tr>\n      <th>2581</th>\n      <td>پنجشنبه ۵ خرداد ۱۴۰۱ - ۱۹:۰۹</td>\n      <td>چه واکسن‌ها و داروهایی برای مقابله با آبله میم...</td>\n      <td>شمار موارد آبله میمونی همچنان در کشورهایی خارج...</td>\n      <td>به گزارش همشهری آنلاین مقامات بهداشتی جهانی تا...</td>\n      <td>Science</td>\n    </tr>\n    <tr>\n      <th>2777</th>\n      <td>یکشنبه ۱ خرداد ۱۴۰۱ - ۰۲:۳۴</td>\n      <td>فرضیه کاری سازمان جهانی بهداشت درباره شیوع آبل...</td>\n      <td>یک مشاور ارشد سازمان جهانی بهداشت می‌گوید سازم...</td>\n      <td>به گزارش همشهری آنلاین به نقل از رویترز، دیوید...</td>\n      <td>Science</td>\n    </tr>\n    <tr>\n      <th>456</th>\n      <td>دوشنبه ۲ خرداد ۱۴۰۱ - ۰۱:۲۸</td>\n      <td>بریتانیا موارد بیشتری از آبله میمونی را گزارش ...</td>\n      <td>مقامات بهداشت عمومی بریتانیا قرار است روز دوشن...</td>\n      <td>به گزارش همشهری آنلاین به نقل از گاردین شیوع غ...</td>\n      <td>World</td>\n    </tr>\n    <tr>\n      <th>1238</th>\n      <td>سه‌شنبه ۲۱ دی ۱۴۰۰ - ۱۴:۰۷</td>\n      <td>سالک به پشت دروازه‌های تهران رسید | چطور باید ...</td>\n      <td>رییس مرکز مدیریت بیماری‌های وزارت بهداشت با اش...</td>\n      <td>به گزارش همشهری آنلاین، دکتر محمدمهدی گویا در ...</td>\n      <td>Society</td>\n    </tr>\n  </tbody>\n</table>\n</div>"
     },
     "metadata": {},
     "output_type": "display_data"
    },
    {
     "name": "stdout",
     "output_type": "stream",
     "text": [
      "Query 8: جشنواره فیلم فجر\n"
     ]
    },
    {
     "data": {
      "text/plain": "                               date  \\\n3013      دوشنبه ۲۰ دی ۱۴۰۰ - ۱۴:۴۵   \n2826      جمعه ۲۲ بهمن ۱۴۰۰ - ۲۰:۲۴   \n2940   چهارشنبه ۲۱ مهر ۱۴۰۰ - ۱۶:۰۸   \n3184  چهارشنبه ۲۶ آبان ۱۴۰۰ - ۱۵:۴۰   \n3145  چهارشنبه ۲۶ آبان ۱۴۰۰ - ۱۵:۵۶   \n3113  سه‌شنبه ۹ شهریور ۱۴۰۰ - ۱۶:۰۸   \n2941   یکشنبه ۱۵ اسفند ۱۴۰۰ - ۱۰:۱۳   \n3103        شنبه ۱۱ دی ۱۴۰۰ - ۱۱:۵۰   \n3003      شنبه ۲۳ بهمن ۱۴۰۰ - ۱۰:۴۵   \n3026   چهارشنبه ۶ بهمن ۱۴۰۰ - ۱۳:۵۷   \n\n                                                  title  \\\n3013               جشنواره چهلم فیلم فجر فرش قرمز ندارد   \n2826  تصویر شهید حاج قاسم سلیمانی روی سیمرغ‌های جشنو...   \n2940  تئاتر فجر ۴۰ قطعاً آثار خارجی خواهد داشت | حضو...   \n3184                   بی‌مادر در مسیر جشنواره فیلم فجر   \n3145                        درخشش کلاس رانندگی در آلمان   \n3113   جشنواره فیلم کودک و نوجوان به زودی برگزار می‌شود   \n2941  روایت پسر داریوش ارجمند از آهنگسازی برای فیلم‌...   \n3103                   چتر حمایت از تئاتری‌ها گسترده شد   \n3003  حاشیه‌های عجیب اختتامیه جشنواره فیلم فجر ۱۴۰۰ ...   \n3026  «مرد بازنده» برنده شد | آخرین خبرها از پیش فرو...   \n\n                                                  intro  \\\n3013  یزدان عشیری از تغییرات فضای بصری و دکور جشنوار...   \n2826  اختتامیه چهلمین جشنواره فیلم فجر با پخش سرود و...   \n2940  دبیر چهلمین جشنواره تئاتر فجر با تأکید بر اینک...   \n3184  فیلم سینمایی «بی‌مادر» این روزها در حال آماده‌...   \n3145  مرضیه ریاحی از هجدهمین جشنواره جهانی فیلم کوتا...   \n3113  صاحبان ۵۲۴ فیلم ایرانی و خارجی متقاضی حضور در ...   \n2941  امیریل ارجمند درباره فعالیت‌های هنری نظرات خود...   \n3103  وزیر فرهنگ و ارشاد اسلامی شامگاه جمعه دهم دی ب...   \n3003  چهلمین جشنواره فیلم فجر که با ماجراهای زیادی ه...   \n3026  در دو ساعت اولیه فروش آنلاین بلیت‌های جشنواره ...   \n\n                                                   body category  \n3013  به گزارش همشهری آنلاین، یزدان عشیری مدیر روابط...  Culture  \n2826  به گزارش همشهری آنلاین، سیمرغ های جشنواره چهلم...  Culture  \n2940  به گزارش همشهری آنلاین به نقل از مهر، حسین مسا...  Culture  \n3184  به گزارش همشهری آنلاین به نقل از باشگاه خبرنگا...  Culture  \n3145  به گزارش همشهری آنلاین به نقل از روابط عمومی ف...  Culture  \n3113  به گزارش همشهری آنلاین به نقل از ستاد اطلاع‌رس...  Culture  \n2941  به گزارش همشهری آنلاین به نقل از صبا، امیریل ا...  Culture  \n3103  به گزارش همشهری آنلاین به نقل از روابط عمومی و...  Culture  \n3003  به گزارش همشهری آنلاین به نقل از ایسنا، آیین ا...  Culture  \n3026  به گزارش همشهری آنلاین به نقل از ایرنا، فروش ب...  Culture  ",
      "text/html": "<div>\n<style scoped>\n    .dataframe tbody tr th:only-of-type {\n        vertical-align: middle;\n    }\n\n    .dataframe tbody tr th {\n        vertical-align: top;\n    }\n\n    .dataframe thead th {\n        text-align: right;\n    }\n</style>\n<table border=\"1\" class=\"dataframe\">\n  <thead>\n    <tr style=\"text-align: right;\">\n      <th></th>\n      <th>date</th>\n      <th>title</th>\n      <th>intro</th>\n      <th>body</th>\n      <th>category</th>\n    </tr>\n  </thead>\n  <tbody>\n    <tr>\n      <th>3013</th>\n      <td>دوشنبه ۲۰ دی ۱۴۰۰ - ۱۴:۴۵</td>\n      <td>جشنواره چهلم فیلم فجر فرش قرمز ندارد</td>\n      <td>یزدان عشیری از تغییرات فضای بصری و دکور جشنوار...</td>\n      <td>به گزارش همشهری آنلاین، یزدان عشیری مدیر روابط...</td>\n      <td>Culture</td>\n    </tr>\n    <tr>\n      <th>2826</th>\n      <td>جمعه ۲۲ بهمن ۱۴۰۰ - ۲۰:۲۴</td>\n      <td>تصویر شهید حاج قاسم سلیمانی روی سیمرغ‌های جشنو...</td>\n      <td>اختتامیه چهلمین جشنواره فیلم فجر با پخش سرود و...</td>\n      <td>به گزارش همشهری آنلاین، سیمرغ های جشنواره چهلم...</td>\n      <td>Culture</td>\n    </tr>\n    <tr>\n      <th>2940</th>\n      <td>چهارشنبه ۲۱ مهر ۱۴۰۰ - ۱۶:۰۸</td>\n      <td>تئاتر فجر ۴۰ قطعاً آثار خارجی خواهد داشت | حضو...</td>\n      <td>دبیر چهلمین جشنواره تئاتر فجر با تأکید بر اینک...</td>\n      <td>به گزارش همشهری آنلاین به نقل از مهر، حسین مسا...</td>\n      <td>Culture</td>\n    </tr>\n    <tr>\n      <th>3184</th>\n      <td>چهارشنبه ۲۶ آبان ۱۴۰۰ - ۱۵:۴۰</td>\n      <td>بی‌مادر در مسیر جشنواره فیلم فجر</td>\n      <td>فیلم سینمایی «بی‌مادر» این روزها در حال آماده‌...</td>\n      <td>به گزارش همشهری آنلاین به نقل از باشگاه خبرنگا...</td>\n      <td>Culture</td>\n    </tr>\n    <tr>\n      <th>3145</th>\n      <td>چهارشنبه ۲۶ آبان ۱۴۰۰ - ۱۵:۵۶</td>\n      <td>درخشش کلاس رانندگی در آلمان</td>\n      <td>مرضیه ریاحی از هجدهمین جشنواره جهانی فیلم کوتا...</td>\n      <td>به گزارش همشهری آنلاین به نقل از روابط عمومی ف...</td>\n      <td>Culture</td>\n    </tr>\n    <tr>\n      <th>3113</th>\n      <td>سه‌شنبه ۹ شهریور ۱۴۰۰ - ۱۶:۰۸</td>\n      <td>جشنواره فیلم کودک و نوجوان به زودی برگزار می‌شود</td>\n      <td>صاحبان ۵۲۴ فیلم ایرانی و خارجی متقاضی حضور در ...</td>\n      <td>به گزارش همشهری آنلاین به نقل از ستاد اطلاع‌رس...</td>\n      <td>Culture</td>\n    </tr>\n    <tr>\n      <th>2941</th>\n      <td>یکشنبه ۱۵ اسفند ۱۴۰۰ - ۱۰:۱۳</td>\n      <td>روایت پسر داریوش ارجمند از آهنگسازی برای فیلم‌...</td>\n      <td>امیریل ارجمند درباره فعالیت‌های هنری نظرات خود...</td>\n      <td>به گزارش همشهری آنلاین به نقل از صبا، امیریل ا...</td>\n      <td>Culture</td>\n    </tr>\n    <tr>\n      <th>3103</th>\n      <td>شنبه ۱۱ دی ۱۴۰۰ - ۱۱:۵۰</td>\n      <td>چتر حمایت از تئاتری‌ها گسترده شد</td>\n      <td>وزیر فرهنگ و ارشاد اسلامی شامگاه جمعه دهم دی ب...</td>\n      <td>به گزارش همشهری آنلاین به نقل از روابط عمومی و...</td>\n      <td>Culture</td>\n    </tr>\n    <tr>\n      <th>3003</th>\n      <td>شنبه ۲۳ بهمن ۱۴۰۰ - ۱۰:۴۵</td>\n      <td>حاشیه‌های عجیب اختتامیه جشنواره فیلم فجر ۱۴۰۰ ...</td>\n      <td>چهلمین جشنواره فیلم فجر که با ماجراهای زیادی ه...</td>\n      <td>به گزارش همشهری آنلاین به نقل از ایسنا، آیین ا...</td>\n      <td>Culture</td>\n    </tr>\n    <tr>\n      <th>3026</th>\n      <td>چهارشنبه ۶ بهمن ۱۴۰۰ - ۱۳:۵۷</td>\n      <td>«مرد بازنده» برنده شد | آخرین خبرها از پیش فرو...</td>\n      <td>در دو ساعت اولیه فروش آنلاین بلیت‌های جشنواره ...</td>\n      <td>به گزارش همشهری آنلاین به نقل از ایرنا، فروش ب...</td>\n      <td>Culture</td>\n    </tr>\n  </tbody>\n</table>\n</div>"
     },
     "metadata": {},
     "output_type": "display_data"
    },
    {
     "name": "stdout",
     "output_type": "stream",
     "text": [
      "Query 9: رشد رمزارزها\n"
     ]
    },
    {
     "data": {
      "text/plain": "                                   date  \\\n1195         جمعه ۱۴ خرداد ۱۴۰۰ - ۱۵:۲۱   \n969        یکشنبه ۲۳ خرداد ۱۴۰۰ - ۱۹:۳۱   \n3259      پنجشنبه ۱۹ اسفند ۱۴۰۰ - ۱۱:۵۹   \n3345          شنبه ۲۳ بهمن ۱۴۰۰ - ۱۸:۴۴   \n3211      شنبه ۲۴ اردیبهشت ۱۴۰۱ - ۰۹:۵۹   \n962    سه‌شنبه ۲۱ اردیبهشت ۱۴۰۰ - ۱۰:۳۴   \n988            شنبه ۲۴ مهر ۱۴۰۰ - ۱۰:۴۳   \n3364  چهارشنبه ۲۱ اردیبهشت ۱۴۰۱ - ۱۷:۴۶   \n970   چهارشنبه ۲۲ اردیبهشت ۱۴۰۰ - ۰۷:۴۸   \n714          سه‌شنبه ۱ تیر ۱۴۰۰ - ۰۸:۱۴   \n\n                                                  title  \\\n1195  برخورد قهری با حوزه رمزارزها، منجربه خروج سرما...   \n969           بخش خصوصی برای رمزارزها برق تولید می‌کند؟   \n3259       پرده‌برداری از ۱۰راز بازار رمزارزها در ایران   \n3345    چطور با آیفون در ارز دیجیتال سرمایه‌گذاری کنیم؟   \n3211         دولت برای رمزارزها چارچوب حداقلی تعیین کند   \n962                          رمز ارزهایی که نباید بخرید   \n988                            بیتکوین ۶۱ هزار دلاری شد   \n3364  شیبا اینو با وجود ضرر همچنان محبوب است | رمزار...   \n970      آیا وارد دور تازه‌ای از ریزش بیت‌کوین می‌شویم؟   \n714                   قیمت بیت‌کوین در شرق تعیین می‌شود   \n\n                                                  intro  \\\n1195  به گفته دبیر کمیسیون رمزارز و بلاک‌چین سازمان ...   \n969   هر چند هنوز در ایران رمزارزها متولی مشخصی ندار...   \n3259  به گزارش خبرگزاری عصرایران، بازار رمزارزها دیگ...   \n3345  با رشدی که بازار ارزهای دیجیتال در سال ۲۰۲۱ تج...   \n3211  مدیرعامل نوبیتکس با بیان اینکه در مورد قانونگذ...   \n962   تبلیغ فروش رمزارزها با قیمتی کمتر از بازار در ...   \n988   خبر احتمال صدور مجوز برای فعالیت اولین صندوق E...   \n3364  بازار رمزارزها در هفته گذشته دستخوش تغییراتی ش...   \n970   ناتوانی بیت‌کوین در فتح کانال ۶۰ هزار دلاری با...   \n714   محدودیت‌ها و ممنوعیت‌های ایجادشده از سوی دولت ...   \n\n                                                   body category  \n1195  به گزارش همشهری آنلاین به نقل از ایسنا، علی با...  Economy  \n969   به گزارش همشهری آنلاین به نقل از ایسنا، از ابت...  Economy  \n3259  به گزارش خبرگزاری عصرایران، بازار رمزارزها دیگ...       IT  \n3345  ارز دیجیتال چیست؟\\nارز دیجیتال در اصل یک نوع پ...       IT  \n3211  اگر دولت در این حد وارد حوزه رمزارزها می‌شد که...       IT  \n962   به گزارش همشهری آنلاین به نقل از ایسنا، بازار ...  Economy  \n988   به گزارش همشهری آنلاین، ایسنا به نقل از سی‌ان‌...  Economy  \n3364  به‌ گزارش همشهری آنلاین به نقل از واچر نیوز، ر...       IT  \n970   به گزارش همشهری‌آنلاین، ایسنا به نقل از سی‌ان‌...  Economy  \n714   همشهری - ساسان شادمان‌منفرد: چین با ممنوع کردن...    World  ",
      "text/html": "<div>\n<style scoped>\n    .dataframe tbody tr th:only-of-type {\n        vertical-align: middle;\n    }\n\n    .dataframe tbody tr th {\n        vertical-align: top;\n    }\n\n    .dataframe thead th {\n        text-align: right;\n    }\n</style>\n<table border=\"1\" class=\"dataframe\">\n  <thead>\n    <tr style=\"text-align: right;\">\n      <th></th>\n      <th>date</th>\n      <th>title</th>\n      <th>intro</th>\n      <th>body</th>\n      <th>category</th>\n    </tr>\n  </thead>\n  <tbody>\n    <tr>\n      <th>1195</th>\n      <td>جمعه ۱۴ خرداد ۱۴۰۰ - ۱۵:۲۱</td>\n      <td>برخورد قهری با حوزه رمزارزها، منجربه خروج سرما...</td>\n      <td>به گفته دبیر کمیسیون رمزارز و بلاک‌چین سازمان ...</td>\n      <td>به گزارش همشهری آنلاین به نقل از ایسنا، علی با...</td>\n      <td>Economy</td>\n    </tr>\n    <tr>\n      <th>969</th>\n      <td>یکشنبه ۲۳ خرداد ۱۴۰۰ - ۱۹:۳۱</td>\n      <td>بخش خصوصی برای رمزارزها برق تولید می‌کند؟</td>\n      <td>هر چند هنوز در ایران رمزارزها متولی مشخصی ندار...</td>\n      <td>به گزارش همشهری آنلاین به نقل از ایسنا، از ابت...</td>\n      <td>Economy</td>\n    </tr>\n    <tr>\n      <th>3259</th>\n      <td>پنجشنبه ۱۹ اسفند ۱۴۰۰ - ۱۱:۵۹</td>\n      <td>پرده‌برداری از ۱۰راز بازار رمزارزها در ایران</td>\n      <td>به گزارش خبرگزاری عصرایران، بازار رمزارزها دیگ...</td>\n      <td>به گزارش خبرگزاری عصرایران، بازار رمزارزها دیگ...</td>\n      <td>IT</td>\n    </tr>\n    <tr>\n      <th>3345</th>\n      <td>شنبه ۲۳ بهمن ۱۴۰۰ - ۱۸:۴۴</td>\n      <td>چطور با آیفون در ارز دیجیتال سرمایه‌گذاری کنیم؟</td>\n      <td>با رشدی که بازار ارزهای دیجیتال در سال ۲۰۲۱ تج...</td>\n      <td>ارز دیجیتال چیست؟\\nارز دیجیتال در اصل یک نوع پ...</td>\n      <td>IT</td>\n    </tr>\n    <tr>\n      <th>3211</th>\n      <td>شنبه ۲۴ اردیبهشت ۱۴۰۱ - ۰۹:۵۹</td>\n      <td>دولت برای رمزارزها چارچوب حداقلی تعیین کند</td>\n      <td>مدیرعامل نوبیتکس با بیان اینکه در مورد قانونگذ...</td>\n      <td>اگر دولت در این حد وارد حوزه رمزارزها می‌شد که...</td>\n      <td>IT</td>\n    </tr>\n    <tr>\n      <th>962</th>\n      <td>سه‌شنبه ۲۱ اردیبهشت ۱۴۰۰ - ۱۰:۳۴</td>\n      <td>رمز ارزهایی که نباید بخرید</td>\n      <td>تبلیغ فروش رمزارزها با قیمتی کمتر از بازار در ...</td>\n      <td>به گزارش همشهری آنلاین به نقل از ایسنا، بازار ...</td>\n      <td>Economy</td>\n    </tr>\n    <tr>\n      <th>988</th>\n      <td>شنبه ۲۴ مهر ۱۴۰۰ - ۱۰:۴۳</td>\n      <td>بیتکوین ۶۱ هزار دلاری شد</td>\n      <td>خبر احتمال صدور مجوز برای فعالیت اولین صندوق E...</td>\n      <td>به گزارش همشهری آنلاین، ایسنا به نقل از سی‌ان‌...</td>\n      <td>Economy</td>\n    </tr>\n    <tr>\n      <th>3364</th>\n      <td>چهارشنبه ۲۱ اردیبهشت ۱۴۰۱ - ۱۷:۴۶</td>\n      <td>شیبا اینو با وجود ضرر همچنان محبوب است | رمزار...</td>\n      <td>بازار رمزارزها در هفته گذشته دستخوش تغییراتی ش...</td>\n      <td>به‌ گزارش همشهری آنلاین به نقل از واچر نیوز، ر...</td>\n      <td>IT</td>\n    </tr>\n    <tr>\n      <th>970</th>\n      <td>چهارشنبه ۲۲ اردیبهشت ۱۴۰۰ - ۰۷:۴۸</td>\n      <td>آیا وارد دور تازه‌ای از ریزش بیت‌کوین می‌شویم؟</td>\n      <td>ناتوانی بیت‌کوین در فتح کانال ۶۰ هزار دلاری با...</td>\n      <td>به گزارش همشهری‌آنلاین، ایسنا به نقل از سی‌ان‌...</td>\n      <td>Economy</td>\n    </tr>\n    <tr>\n      <th>714</th>\n      <td>سه‌شنبه ۱ تیر ۱۴۰۰ - ۰۸:۱۴</td>\n      <td>قیمت بیت‌کوین در شرق تعیین می‌شود</td>\n      <td>محدودیت‌ها و ممنوعیت‌های ایجادشده از سوی دولت ...</td>\n      <td>همشهری - ساسان شادمان‌منفرد: چین با ممنوع کردن...</td>\n      <td>World</td>\n    </tr>\n  </tbody>\n</table>\n</div>"
     },
     "metadata": {},
     "output_type": "display_data"
    },
    {
     "name": "stdout",
     "output_type": "stream",
     "text": [
      "Query 10: روش پخت غذا\n"
     ]
    },
    {
     "data": {
      "text/plain": "                                 date  \\\n3874   چهارشنبه ۲۶ خرداد ۱۴۰۰ - ۰۸:۴۴   \n3682    سه‌شنبه ۱۷ اسفند ۱۴۰۰ - ۰۶:۴۶   \n3614          جمعه ۹ مهر ۱۴۰۰ - ۰۰:۴۲   \n2544  سه‌شنبه ۷ اردیبهشت ۱۴۰۰ - ۱۰:۴۳   \n1202    سه‌شنبه ۱۰ خرداد ۱۴۰۱ - ۱۴:۵۱   \n3964   دوشنبه ۵ اردیبهشت ۱۴۰۱ - ۰۷:۴۰   \n3941      سه‌شنبه ۲۹ تیر ۱۴۰۰ - ۰۷:۳۹   \n3668       جمعه ۵ شهریور ۱۴۰۰ - ۰۶:۵۶   \n3621  پنجشنبه ۸ اردیبهشت ۱۴۰۱ - ۱۷:۲۴   \n3955     شنبه ۲۱ فروردین ۱۴۰۰ - ۱۵:۲۹   \n\n                                                  title  \\\n3874  قبل از پخت و پز در ظروف مسی و چدنی این مطلب را...   \n3682  یک اشتباه رایج موقع گرم کردن غذا در مایکروفر |...   \n3614             ۴ تمرین ذهنی برای خوردن غذاهای سالم‌تر   \n2544                      دلیل جذب شدن به بوی غذا چیست؟   \n1202  وزیر بهداشت: تجویز دارو در ایران ۲ برابر متوسط...   \n3964  کولیره ؛ نانی که به نخ کشیده می‌شود | زنان کُر...   \n3941           ویژگی‌هایی که از شما یک آشپز خوب می‌سازد   \n3668  اگر تنها یک وعده غذا در روز بخورید، چه اتفاقی ...   \n3621  تصویر حیرت‌انگیز از یک کباب فروش برنده مسابقه ...   \n3955         طرز تهیه کیک شکلاتی تابه‌ای خوشمزه بدون فر   \n\n                                                  intro  \\\n3874  مدیر نظارت بر مواد غذایی، آشامیدنی معاونت غذا ...   \n3682  وقتی غذا را در مایکروفر گرم می‌کنیم، در بیشتر ...   \n3614  بر مبنای تحقیقی که اخیرا محققان دانشگاه ییل ان...   \n2544  پژوهشگران «دانشگاه هاروارد» در بررسی جدید خود ...   \n1202  وزیر بهداشت از تجویز دارو برای بیماران در ایرا...   \n3964  کولیره نوعی نان سنتی است که کردستانی‌ها از گذش...   \n3941  ویژگی‌هایی وجود دارد که با داشتن آنها آشپز بهت...   \n3668  اگر وقت غذا خوردن سه تا چهار بار در روز ندارید...   \n3621  عکسی از یک فروشنده غذای خیابانی که در حال پخت ...   \n3955  اگر دنبال یک دستور پخت کیک تابه‌ای هستید که هم...   \n\n                                                   body    category  \n3874  به گزارش همشهری‌آنلاین به نقل از ایسنا، دکتر ح...  LifeSkills  \n3682  به گزارش همشهری آنلاین، بسیاری از افراد متوجه ...  LifeSkills  \n3614  به گزارش همشهری آنلاین به نقل از بی‌بی سی، این...  LifeSkills  \n2544  به گزارش همشهری آنلاین، ایسنا به نقل از نوروسا...     Science  \n1202  به گزارش همشهری آنلاین، بهرام عین‌اللهی وزیر ب...     Society  \n3964  به گزارش همشهری آنلاین، کلیره نام یک نان در کر...  LifeSkills  \n3941  به گزارش همشهری آنلاین به نقل از نمناک، نیاز ب...  LifeSkills  \n3668  به گزارش همشهری آنلاین به نقل از اسپوتنیک، پاو...  LifeSkills  \n3621  به گزارش همشهری آنلاین، عکاس هندی این عکس را د...  LifeSkills  \n3955  به گزارش همشهری آنلاین، درست کردن کیک‌هایی که ...  LifeSkills  ",
      "text/html": "<div>\n<style scoped>\n    .dataframe tbody tr th:only-of-type {\n        vertical-align: middle;\n    }\n\n    .dataframe tbody tr th {\n        vertical-align: top;\n    }\n\n    .dataframe thead th {\n        text-align: right;\n    }\n</style>\n<table border=\"1\" class=\"dataframe\">\n  <thead>\n    <tr style=\"text-align: right;\">\n      <th></th>\n      <th>date</th>\n      <th>title</th>\n      <th>intro</th>\n      <th>body</th>\n      <th>category</th>\n    </tr>\n  </thead>\n  <tbody>\n    <tr>\n      <th>3874</th>\n      <td>چهارشنبه ۲۶ خرداد ۱۴۰۰ - ۰۸:۴۴</td>\n      <td>قبل از پخت و پز در ظروف مسی و چدنی این مطلب را...</td>\n      <td>مدیر نظارت بر مواد غذایی، آشامیدنی معاونت غذا ...</td>\n      <td>به گزارش همشهری‌آنلاین به نقل از ایسنا، دکتر ح...</td>\n      <td>LifeSkills</td>\n    </tr>\n    <tr>\n      <th>3682</th>\n      <td>سه‌شنبه ۱۷ اسفند ۱۴۰۰ - ۰۶:۴۶</td>\n      <td>یک اشتباه رایج موقع گرم کردن غذا در مایکروفر |...</td>\n      <td>وقتی غذا را در مایکروفر گرم می‌کنیم، در بیشتر ...</td>\n      <td>به گزارش همشهری آنلاین، بسیاری از افراد متوجه ...</td>\n      <td>LifeSkills</td>\n    </tr>\n    <tr>\n      <th>3614</th>\n      <td>جمعه ۹ مهر ۱۴۰۰ - ۰۰:۴۲</td>\n      <td>۴ تمرین ذهنی برای خوردن غذاهای سالم‌تر</td>\n      <td>بر مبنای تحقیقی که اخیرا محققان دانشگاه ییل ان...</td>\n      <td>به گزارش همشهری آنلاین به نقل از بی‌بی سی، این...</td>\n      <td>LifeSkills</td>\n    </tr>\n    <tr>\n      <th>2544</th>\n      <td>سه‌شنبه ۷ اردیبهشت ۱۴۰۰ - ۱۰:۴۳</td>\n      <td>دلیل جذب شدن به بوی غذا چیست؟</td>\n      <td>پژوهشگران «دانشگاه هاروارد» در بررسی جدید خود ...</td>\n      <td>به گزارش همشهری آنلاین، ایسنا به نقل از نوروسا...</td>\n      <td>Science</td>\n    </tr>\n    <tr>\n      <th>1202</th>\n      <td>سه‌شنبه ۱۰ خرداد ۱۴۰۱ - ۱۴:۵۱</td>\n      <td>وزیر بهداشت: تجویز دارو در ایران ۲ برابر متوسط...</td>\n      <td>وزیر بهداشت از تجویز دارو برای بیماران در ایرا...</td>\n      <td>به گزارش همشهری آنلاین، بهرام عین‌اللهی وزیر ب...</td>\n      <td>Society</td>\n    </tr>\n    <tr>\n      <th>3964</th>\n      <td>دوشنبه ۵ اردیبهشت ۱۴۰۱ - ۰۷:۴۰</td>\n      <td>کولیره ؛ نانی که به نخ کشیده می‌شود | زنان کُر...</td>\n      <td>کولیره نوعی نان سنتی است که کردستانی‌ها از گذش...</td>\n      <td>به گزارش همشهری آنلاین، کلیره نام یک نان در کر...</td>\n      <td>LifeSkills</td>\n    </tr>\n    <tr>\n      <th>3941</th>\n      <td>سه‌شنبه ۲۹ تیر ۱۴۰۰ - ۰۷:۳۹</td>\n      <td>ویژگی‌هایی که از شما یک آشپز خوب می‌سازد</td>\n      <td>ویژگی‌هایی وجود دارد که با داشتن آنها آشپز بهت...</td>\n      <td>به گزارش همشهری آنلاین به نقل از نمناک، نیاز ب...</td>\n      <td>LifeSkills</td>\n    </tr>\n    <tr>\n      <th>3668</th>\n      <td>جمعه ۵ شهریور ۱۴۰۰ - ۰۶:۵۶</td>\n      <td>اگر تنها یک وعده غذا در روز بخورید، چه اتفاقی ...</td>\n      <td>اگر وقت غذا خوردن سه تا چهار بار در روز ندارید...</td>\n      <td>به گزارش همشهری آنلاین به نقل از اسپوتنیک، پاو...</td>\n      <td>LifeSkills</td>\n    </tr>\n    <tr>\n      <th>3621</th>\n      <td>پنجشنبه ۸ اردیبهشت ۱۴۰۱ - ۱۷:۲۴</td>\n      <td>تصویر حیرت‌انگیز از یک کباب فروش برنده مسابقه ...</td>\n      <td>عکسی از یک فروشنده غذای خیابانی که در حال پخت ...</td>\n      <td>به گزارش همشهری آنلاین، عکاس هندی این عکس را د...</td>\n      <td>LifeSkills</td>\n    </tr>\n    <tr>\n      <th>3955</th>\n      <td>شنبه ۲۱ فروردین ۱۴۰۰ - ۱۵:۲۹</td>\n      <td>طرز تهیه کیک شکلاتی تابه‌ای خوشمزه بدون فر</td>\n      <td>اگر دنبال یک دستور پخت کیک تابه‌ای هستید که هم...</td>\n      <td>به گزارش همشهری آنلاین، درست کردن کیک‌هایی که ...</td>\n      <td>LifeSkills</td>\n    </tr>\n  </tbody>\n</table>\n</div>"
     },
     "metadata": {},
     "output_type": "display_data"
    }
   ],
   "source": [
    "for i, query in enumerate(QUERIES):\n",
    "    print(f\"Query {i + 1}: {query}\")\n",
    "    display(TF_IDF_model.predict(query, mini_dataset, k=10))"
   ]
  },
  {
   "cell_type": "markdown",
   "source": [
    "<div dir=\"auto\" align=\"justify\">\n",
    "    <p style='direction:rtl;text-align:justify;'>\n",
    "        با اجرای قطعه کد زیر، نتیجه‌ی پردازش کوئری‌های پیچیده‌تری را مشاهده می‌کنیم.\n",
    "    </p>\n",
    "</div>"
   ],
   "metadata": {
    "collapsed": false
   }
  },
  {
   "cell_type": "code",
   "execution_count": 248,
   "outputs": [
    {
     "name": "stdout",
     "output_type": "stream",
     "text": [
      "Complex Query: چه رژیمی برای لاغری مناسب است؟\n"
     ]
    },
    {
     "data": {
      "text/plain": "                                date  \\\n3618  پنجشنبه ۲۵ شهریور ۱۴۰۰ - ۰۶:۰۶   \n3609     دوشنبه ۱۸ بهمن ۱۴۰۰ - ۰۷:۵۵   \n3939        شنبه ۱۹ تیر ۱۴۰۰ - ۱۸:۴۷   \n\n                                                  title  \\\n3618  طرز تهیه اوتمیل | صبحانه‌ای خوشمزه و رژیمی با ...   \n3609  ساده‌ترین ترکیب نوشیدنی برای کاهش وزن که معجزه...   \n3939    ۷ غذای کم‌کالری برای افرادی که رژیم لاغری دارند   \n\n                                                  intro  \\\n3618  اوتمیل یا همان جو دو سر یکی از خوراکی‌های رژیم...   \n3609  یک نوشیدنی که از آب مخلوط با آبِ لیموی تازه ته...   \n3939  غذا به ویژه شام رژیمی و کم کالری بسیار تاثیرگذ...   \n\n                                                   body    category  \n3618  به گزارش همشهری آنلاین به نقل از ایرنا، رژیم گ...  LifeSkills  \n3609  به گزارش همشهری آنلاین به نقل از خبرآنلاین، آب...  LifeSkills  \n3939  به گزارش همشهری آنلاین، هوای گرم می‌طلبد غذاها...  LifeSkills  ",
      "text/html": "<div>\n<style scoped>\n    .dataframe tbody tr th:only-of-type {\n        vertical-align: middle;\n    }\n\n    .dataframe tbody tr th {\n        vertical-align: top;\n    }\n\n    .dataframe thead th {\n        text-align: right;\n    }\n</style>\n<table border=\"1\" class=\"dataframe\">\n  <thead>\n    <tr style=\"text-align: right;\">\n      <th></th>\n      <th>date</th>\n      <th>title</th>\n      <th>intro</th>\n      <th>body</th>\n      <th>category</th>\n    </tr>\n  </thead>\n  <tbody>\n    <tr>\n      <th>3618</th>\n      <td>پنجشنبه ۲۵ شهریور ۱۴۰۰ - ۰۶:۰۶</td>\n      <td>طرز تهیه اوتمیل | صبحانه‌ای خوشمزه و رژیمی با ...</td>\n      <td>اوتمیل یا همان جو دو سر یکی از خوراکی‌های رژیم...</td>\n      <td>به گزارش همشهری آنلاین به نقل از ایرنا، رژیم گ...</td>\n      <td>LifeSkills</td>\n    </tr>\n    <tr>\n      <th>3609</th>\n      <td>دوشنبه ۱۸ بهمن ۱۴۰۰ - ۰۷:۵۵</td>\n      <td>ساده‌ترین ترکیب نوشیدنی برای کاهش وزن که معجزه...</td>\n      <td>یک نوشیدنی که از آب مخلوط با آبِ لیموی تازه ته...</td>\n      <td>به گزارش همشهری آنلاین به نقل از خبرآنلاین، آب...</td>\n      <td>LifeSkills</td>\n    </tr>\n    <tr>\n      <th>3939</th>\n      <td>شنبه ۱۹ تیر ۱۴۰۰ - ۱۸:۴۷</td>\n      <td>۷ غذای کم‌کالری برای افرادی که رژیم لاغری دارند</td>\n      <td>غذا به ویژه شام رژیمی و کم کالری بسیار تاثیرگذ...</td>\n      <td>به گزارش همشهری آنلاین، هوای گرم می‌طلبد غذاها...</td>\n      <td>LifeSkills</td>\n    </tr>\n  </tbody>\n</table>\n</div>"
     },
     "metadata": {},
     "output_type": "display_data"
    }
   ],
   "source": [
    "for query in COMPLEX_QUERIES:\n",
    "    print(f\"Complex Query: {query}\")\n",
    "    display(TF_IDF_model.predict(query, mini_dataset, k=3))"
   ],
   "metadata": {
    "collapsed": false,
    "pycharm": {
     "name": "#%%\n"
    }
   }
  },
  {
   "cell_type": "markdown",
   "source": [
    "<div>\n",
    "    <h4 style='direction:rtl;text-align:justify;'>\n",
    "        ٣. مدل مبتنی بر Transformer\n",
    "    </h4>\n",
    "</div>\n",
    "\n",
    "<div dir=\"auto\" align=\"justify\">\n",
    "    <p style='direction:rtl;text-align:justify;'>\n",
    "        در این بخش یک کلاس تعریف می‌کنیم که بتواند کارهایی که نیاز داریم را با استفاده از مدلی بر پایه‌ی ترنسفرمرها انجام دهد. برای این کار از SentenceTransformer در کتاب‌خانه‌ی HuggingFace بهره می‌بریم و مدل ParsBERT که به دست هوش‌واره فراهم شده است را به عنوان مدل زبانی آن استفاده می‌کنیم.\n",
    "    </p>\n",
    "    <p style='direction:rtl;text-align:justify;'>\n",
    "        در آغاز که یک شی با استفاده از این کلاس ساخته می‌شود یک SentenceTransformer با استفاده از مدل ParsBERT می‌سازیم تا از آن برای به دست آوردن embeddingها استفاده کنیم. سپس در صورتی که GPU در دسترس باشد این مدل را به روی آن منتقل می‌کنیم. علاوه بر این می‌توانیم یک پیش‌پردازشگر هم به متد سازنده بدهیم. این همان پیش‌پردازشگری است که دیتاست اولیه با آن پردازش شده است. ابزار ما از آن برای پیش‌پردازش درخواست‌ها در زمان تشخیص و تبدیل آن‌ها به فرمتی مطابق با متن اولیه پس از پیش‌پردازش استفاده خواهد کرد.\n",
    "    </p>\n",
    "    <p style='direction:rtl;text-align:justify;'>\n",
    "        در تابع train_embeddings لیستی از متن‌ها یا لیستی از متن‌های شکسته شده به کلمات را دریافت می‌کنیم تا امبدینگ‌های مربوط به آن‌ها را به دست بیاوریم. در حالت دوم، پیش از ادامه‌ی کار کلمات را در یک متن واحد در کنار هم قرار می دهیم. توجه می‌کنیم که داده‌ها پس از پیش‌پردازش در حالت دوم قرار دارند. در نهایت پس از به دست آمدن امبدینگ‌ها، آن‌ها را در یک آرایه‌ی نامپای ذخیره می‌کنیم.\n",
    "    </p>\n",
    "    <p style='direction:rtl;text-align:justify;'>\n",
    "        پس از به دست آمدن امبدینگ‌ها می‌توانیم آن‌ها را با استفاده از متد save_embeddings در آدرس دلخواهمان به عنوان یک فایل ذخیره کنیم و در دفعات بعدی به جای محاسبه‌ی دوباره، آن‌ها را با استفاده از متد load_embeddings بازیابی کنیم.\n",
    "    </p>\n",
    "    <p style='direction:rtl;text-align:justify;'>\n",
    "        وقتی که امبدینگ‌ها را محاسبه یا بازیابی کردیم، می‌توانیم با استفاده از متد make_index نمایه‌هایی را با استفاده از ابزار Faiss ایجاد کنیم. این ابزار در به دست آوردن موارد مشابه به درخواست‌ها به ما کمک خواهد کرد.\n",
    "    </p>\n",
    "    <p style='direction:rtl;text-align:justify;'>\n",
    "        در نهایت پس از اینکه تمام مراحل گفته شده را طی کردیم می‌توانیم با استفاده از متد predict یک درخواست را به ابزارمان بدهیم و این ابزار پس از به دست آوردن امبدینگ مربوط به آن درخواست، تعداد دلخواهی از موارد مربوط به آن را با توجه به مدل ترنسفرمر استفاده شده و نمایه‌ی Faiss تولید شده به ما خواهد داد.\n",
    "    </p>\n",
    "</div>"
   ],
   "metadata": {
    "collapsed": false,
    "pycharm": {
     "name": "#%% md\n"
    },
    "id": "E2acvRsgDSCX"
   }
  },
  {
   "cell_type": "code",
   "execution_count": 226,
   "outputs": [],
   "source": [
    "class Transformer:\n",
    "\n",
    "    def __init__(self, preprocessor=None):\n",
    "        self.model = SentenceTransformer('HooshvareLab/bert-fa-zwnj-base')\n",
    "        self.preprocessor = preprocessor\n",
    "        if torch.cuda.is_available():\n",
    "            self.model = self.model.to(torch.device('cuda'))\n",
    "        self.embeddings = None\n",
    "        self.index = None\n",
    "\n",
    "    def train_embeddings(self, train_dataset: list):\n",
    "        if type(train_dataset[0]) == list:\n",
    "            train_dataset = list(map(lambda doc: ' '.join(doc), train_dataset))\n",
    "        self.embeddings = self.model.encode(train_dataset, show_progress_bar=True)\n",
    "        self.embeddings = np.array(\n",
    "            [embedding for embedding in self.embeddings]).astype('float32')\n",
    "\n",
    "    def make_index(self, dataset: list):\n",
    "        self.index = faiss.IndexFlatL2(self.embeddings.shape[1])\n",
    "        self.index = faiss.IndexIDMap(self.index)\n",
    "        self.index.add_with_ids(self.embeddings, np.arange(len(dataset)).astype('int64'))\n",
    "\n",
    "    def save_embeddings(self, path='Transformer_model.pickle'):\n",
    "        with open(path, 'wb') as file:\n",
    "            pickle.dump(self.embeddings, file)\n",
    "\n",
    "    def load_embeddings(self, path='Transformer_model.pickle'):\n",
    "        with open(path, 'rb') as file:\n",
    "            self.embeddings = pickle.load(file)\n",
    "\n",
    "    def predict(self, query: str, dataset: pd.DataFrame, k=10):\n",
    "        if self.preprocessor:\n",
    "            query = ' '.join(self.preprocessor.preprocess(query))\n",
    "        vector = self.model.encode(list([query]))\n",
    "        D, I = self.index.search(np.array(vector).astype('float32'), k=k)\n",
    "        return dataset.iloc[I.flatten().tolist()]\n",
    "\n",
    "    def prepare(self, dataset, mode, save=False):\n",
    "        if mode == 'train':\n",
    "            self.train_embeddings(dataset)\n",
    "        if mode == 'load':\n",
    "            self.load_embeddings()\n",
    "        if save:\n",
    "            self.save_embeddings()\n",
    "        self.make_index(dataset)"
   ],
   "metadata": {
    "pycharm": {
     "name": "#%%\n"
    },
    "id": "v0xzHmOeDSCX"
   }
  },
  {
   "cell_type": "markdown",
   "source": [
    "<div dir=\"auto\" align=\"justify\">\n",
    "    <p style='direction:rtl;text-align:justify;'>\n",
    "        با اجرای قطعه کد زیر، یک instance از مدل Transformer ایجاد کرده و شروع به یادگیری داده‌ها و یا خواندن مدل ذخیره شده از روی فایل می‌کنیم.\n",
    "    </p>\n",
    "</div>"
   ],
   "metadata": {
    "collapsed": false
   }
  },
  {
   "cell_type": "code",
   "execution_count": 227,
   "outputs": [
    {
     "name": "stderr",
     "output_type": "stream",
     "text": [
      "WARNING:root:No sentence-transformers model found with name C:\\Users\\Mohammad/.cache\\torch\\sentence_transformers\\HooshvareLab_bert-fa-zwnj-base. Creating a new one with MEAN pooling.\n",
      "Some weights of the model checkpoint at C:\\Users\\Mohammad/.cache\\torch\\sentence_transformers\\HooshvareLab_bert-fa-zwnj-base were not used when initializing BertModel: ['cls.predictions.decoder.bias', 'cls.predictions.decoder.weight', 'cls.predictions.transform.dense.weight', 'cls.predictions.transform.LayerNorm.bias', 'cls.predictions.transform.dense.bias', 'cls.predictions.bias', 'cls.predictions.transform.LayerNorm.weight']\n",
      "- This IS expected if you are initializing BertModel from the checkpoint of a model trained on another task or with another architecture (e.g. initializing a BertForSequenceClassification model from a BertForPreTraining model).\n",
      "- This IS NOT expected if you are initializing BertModel from the checkpoint of a model that you expect to be exactly identical (initializing a BertForSequenceClassification model from a BertForSequenceClassification model).\n",
      "Some weights of BertModel were not initialized from the model checkpoint at C:\\Users\\Mohammad/.cache\\torch\\sentence_transformers\\HooshvareLab_bert-fa-zwnj-base and are newly initialized: ['bert.pooler.dense.weight', 'bert.pooler.dense.bias']\n",
      "You should probably TRAIN this model on a down-stream task to be able to use it for predictions and inference.\n"
     ]
    }
   ],
   "source": [
    "transformer_model = Transformer(preprocessor=preprocessor)\n",
    "transformer_model.prepare(preprocessed_texts, 'load')"
   ],
   "metadata": {
    "pycharm": {
     "name": "#%%\n"
    },
    "id": "s9PAXRyBDSCY",
    "outputId": "9ec00b6d-fe05-4f5e-c6ca-c195b1e2ee10"
   }
  },
  {
   "cell_type": "markdown",
   "source": [
    "<div dir=\"auto\" align=\"justify\">\n",
    "    <p style='direction:rtl;text-align:justify;'>\n",
    "        با اجرای قطعه کد زیر، نتیجه‌ی پردازش کوئری‌های مشخص شده را مشاهده می‌کنیم.\n",
    "    </p>\n",
    "</div>"
   ],
   "metadata": {
    "collapsed": false
   }
  },
  {
   "cell_type": "code",
   "execution_count": 230,
   "outputs": [
    {
     "name": "stdout",
     "output_type": "stream",
     "text": [
      "Query 1: نتیجه توافق برجام\n"
     ]
    },
    {
     "data": {
      "text/plain": "                                    date  \\\n13233         جمعه ۲۰ اسفند ۱۴۰۰ - ۱۷:۵۲   \n9649            جمعه ۲۶ آذر ۱۴۰۰ - ۱۹:۳۳   \n12693        پنجشنبه ۷ بهمن ۱۴۰۰ - ۱۲:۲۳   \n456         جمعه ۲۰ فروردین ۱۴۰۰ - ۱۲:۵۰   \n1030   چهارشنبه ۲۹ اردیبهشت ۱۴۰۰ - ۲۰:۱۵   \n1972     سه‌شنبه ۷ اردیبهشت ۱۴۰۰ - ۲۰:۵۷   \n13506      سه‌شنبه ۱۰ اسفند ۱۴۰۰ - ۰۱:۴۵   \n6816       یکشنبه ۱۴ شهریور ۱۴۰۰ - ۲۲:۲۴   \n10392         سه‌شنبه ۹ آذر ۱۴۰۰ - ۱۶:۴۶   \n2278        یکشنبه ۳۰ خرداد ۱۴۰۰ - ۱۴:۰۳   \n\n                                                   title  \\\n13233  احتمال دستیابی به توافق همزمان با عید نوروز | ...   \n9649   اظهارات مهم باقری درباره نتایج مذاکرات وین | گ...   \n12693  توییت انتقادی رئیس پیشین صدا و سیما | احتمال ت...   \n456    عکس | آغاز نشست کمیسیون برجام درباره لغو تحریم‌ها   \n1030   نماینده اتحادیه اروپا درباره توافق پیرامون برج...   \n1972   روایت چین و آلمان از مذاکرات وین درباره برجام|...   \n13506  طرفین برجام روشنایی پایان تونل را می‌بینند | م...   \n6816    یادداشت دیپلمات روس درباره برجام و اهداف مذاکرات   \n10392  منبع ایرانی: توافق موقت را نمی‌پذیریم/ اولویت ...   \n2278   برجام بازمی‌گردد؟ | عراقچی: تقریبا همه اسناد ت...   \n\n                                                   intro  \\\n13233  یک دیپلمات ارشد اروپایی درباره موقعیت مذاکرات ...   \n9649   مذاکره کننده ارشد ایران در مذاکرات وین پس از پ...   \n12693  محمدسرافراز در توییتی پیگیری ایران برای «توافق...   \n456    هیجدهمین نشست کمیسیون مشترک برجام نشست خود را ...   \n1030   دبیر سیاسی اتحادیه اروپا از رسیدن به توافقی نه...   \n1972   مقام‌های چین و آلمان درباره پیشرفت‌های حاصل‌شد...   \n13506  مذاکره کننده ارشد چین در مذاکرات وین پس از پای...   \n6816   یک دیپلمات روس گفت که هدف از مذاکرات احیای برج...   \n10392  یک منبع ایرانی به شبکه الجزیره گفت که توافق مو...   \n2278   رئیس تیم ایران در مذاکرات وین گفت: فکر می‌کنم ...   \n\n                                                    body  category  \n13233  به گزارش همشهری‌آنلاین، دیپلمات ارشد اروپایی د...  Politics  \n9649   به گزارش هشمهری آنلاین، علی باقری کنی مذاکره ک...  Politics  \n12693  به گزارش همشهری‌آنلاین، سرافراز در حساب کاربری...  Politics  \n456                                                       Politics  \n1030   به گزارش همشهری آنلاین به نقل از ایسنا، صفحه ت...  Politics  \n1972   به گزارش همشهری آنلاین به نقل از فارس، مقام‌ها...  Politics  \n13506  به گزارش همشهری آنلاین، ایسنا به نقل از العالم...  Politics  \n6816   به گزارش همشهری آنلاین به نق از فارس، مذاکره ک...  Politics  \n10392  به گزارش همشهری‌آنلاین به نقل از فارس، یک منبع...  Politics  \n2278   به گزارش همشهری آنلاین به نقل از ایسنا، سید عب...  Politics  ",
      "text/html": "<div>\n<style scoped>\n    .dataframe tbody tr th:only-of-type {\n        vertical-align: middle;\n    }\n\n    .dataframe tbody tr th {\n        vertical-align: top;\n    }\n\n    .dataframe thead th {\n        text-align: right;\n    }\n</style>\n<table border=\"1\" class=\"dataframe\">\n  <thead>\n    <tr style=\"text-align: right;\">\n      <th></th>\n      <th>date</th>\n      <th>title</th>\n      <th>intro</th>\n      <th>body</th>\n      <th>category</th>\n    </tr>\n  </thead>\n  <tbody>\n    <tr>\n      <th>13233</th>\n      <td>جمعه ۲۰ اسفند ۱۴۰۰ - ۱۷:۵۲</td>\n      <td>احتمال دستیابی به توافق همزمان با عید نوروز | ...</td>\n      <td>یک دیپلمات ارشد اروپایی درباره موقعیت مذاکرات ...</td>\n      <td>به گزارش همشهری‌آنلاین، دیپلمات ارشد اروپایی د...</td>\n      <td>Politics</td>\n    </tr>\n    <tr>\n      <th>9649</th>\n      <td>جمعه ۲۶ آذر ۱۴۰۰ - ۱۹:۳۳</td>\n      <td>اظهارات مهم باقری درباره نتایج مذاکرات وین | گ...</td>\n      <td>مذاکره کننده ارشد ایران در مذاکرات وین پس از پ...</td>\n      <td>به گزارش هشمهری آنلاین، علی باقری کنی مذاکره ک...</td>\n      <td>Politics</td>\n    </tr>\n    <tr>\n      <th>12693</th>\n      <td>پنجشنبه ۷ بهمن ۱۴۰۰ - ۱۲:۲۳</td>\n      <td>توییت انتقادی رئیس پیشین صدا و سیما | احتمال ت...</td>\n      <td>محمدسرافراز در توییتی پیگیری ایران برای «توافق...</td>\n      <td>به گزارش همشهری‌آنلاین، سرافراز در حساب کاربری...</td>\n      <td>Politics</td>\n    </tr>\n    <tr>\n      <th>456</th>\n      <td>جمعه ۲۰ فروردین ۱۴۰۰ - ۱۲:۵۰</td>\n      <td>عکس | آغاز نشست کمیسیون برجام درباره لغو تحریم‌ها</td>\n      <td>هیجدهمین نشست کمیسیون مشترک برجام نشست خود را ...</td>\n      <td></td>\n      <td>Politics</td>\n    </tr>\n    <tr>\n      <th>1030</th>\n      <td>چهارشنبه ۲۹ اردیبهشت ۱۴۰۰ - ۲۰:۱۵</td>\n      <td>نماینده اتحادیه اروپا درباره توافق پیرامون برج...</td>\n      <td>دبیر سیاسی اتحادیه اروپا از رسیدن به توافقی نه...</td>\n      <td>به گزارش همشهری آنلاین به نقل از ایسنا، صفحه ت...</td>\n      <td>Politics</td>\n    </tr>\n    <tr>\n      <th>1972</th>\n      <td>سه‌شنبه ۷ اردیبهشت ۱۴۰۰ - ۲۰:۵۷</td>\n      <td>روایت چین و آلمان از مذاکرات وین درباره برجام|...</td>\n      <td>مقام‌های چین و آلمان درباره پیشرفت‌های حاصل‌شد...</td>\n      <td>به گزارش همشهری آنلاین به نقل از فارس، مقام‌ها...</td>\n      <td>Politics</td>\n    </tr>\n    <tr>\n      <th>13506</th>\n      <td>سه‌شنبه ۱۰ اسفند ۱۴۰۰ - ۰۱:۴۵</td>\n      <td>طرفین برجام روشنایی پایان تونل را می‌بینند | م...</td>\n      <td>مذاکره کننده ارشد چین در مذاکرات وین پس از پای...</td>\n      <td>به گزارش همشهری آنلاین، ایسنا به نقل از العالم...</td>\n      <td>Politics</td>\n    </tr>\n    <tr>\n      <th>6816</th>\n      <td>یکشنبه ۱۴ شهریور ۱۴۰۰ - ۲۲:۲۴</td>\n      <td>یادداشت دیپلمات روس درباره برجام و اهداف مذاکرات</td>\n      <td>یک دیپلمات روس گفت که هدف از مذاکرات احیای برج...</td>\n      <td>به گزارش همشهری آنلاین به نق از فارس، مذاکره ک...</td>\n      <td>Politics</td>\n    </tr>\n    <tr>\n      <th>10392</th>\n      <td>سه‌شنبه ۹ آذر ۱۴۰۰ - ۱۶:۴۶</td>\n      <td>منبع ایرانی: توافق موقت را نمی‌پذیریم/ اولویت ...</td>\n      <td>یک منبع ایرانی به شبکه الجزیره گفت که توافق مو...</td>\n      <td>به گزارش همشهری‌آنلاین به نقل از فارس، یک منبع...</td>\n      <td>Politics</td>\n    </tr>\n    <tr>\n      <th>2278</th>\n      <td>یکشنبه ۳۰ خرداد ۱۴۰۰ - ۱۴:۰۳</td>\n      <td>برجام بازمی‌گردد؟ | عراقچی: تقریبا همه اسناد ت...</td>\n      <td>رئیس تیم ایران در مذاکرات وین گفت: فکر می‌کنم ...</td>\n      <td>به گزارش همشهری آنلاین به نقل از ایسنا، سید عب...</td>\n      <td>Politics</td>\n    </tr>\n  </tbody>\n</table>\n</div>"
     },
     "metadata": {},
     "output_type": "display_data"
    },
    {
     "name": "stdout",
     "output_type": "stream",
     "text": [
      "Query 2: حمله ارتش روسیه به اوکراین\n"
     ]
    },
    {
     "data": {
      "text/plain": "                                date  \\\n17768   پنجشنبه ۵ اسفند ۱۴۰۰ - ۲۳:۲۷   \n17787   پنجشنبه ۵ اسفند ۱۴۰۰ - ۱۷:۲۱   \n17670    یکشنبه ۸ اسفند ۱۴۰۰ - ۰۰:۳۳   \n17659    یکشنبه ۸ اسفند ۱۴۰۰ - ۱۳:۱۶   \n13628   پنجشنبه ۵ اسفند ۱۴۰۰ - ۱۲:۳۴   \n17786   پنجشنبه ۵ اسفند ۱۴۰۰ - ۱۷:۲۷   \n18155  یکشنبه ۷ فروردین ۱۴۰۱ - ۰۸:۵۹   \n17675      شنبه ۷ اسفند ۱۴۰۰ - ۲۲:۱۸   \n17750      جمعه ۶ اسفند ۱۴۰۰ - ۰۹:۵۷   \n17074    دوشنبه ۱۸ بهمن ۱۴۰۰ - ۰۲:۰۴   \n\n                                                   title  \\\n17768  تلخ‌ترین تصویر از فرار مردم اوکراین پس از حمله...   \n17787  تصاویر | نخستین اسرای جنگ اوکراین | دو سربازان...   \n17670  این نقشه نشان می‌دهد که کی‌یف اکنون در چه وضعی...   \n17659             نقشه مسیر پیشروی ارتش روسیه در اوکراین   \n13628  وحشت اسرائیلی‌ها از ایران پس از حمله روسیه به ...   \n17786   تصاویر | آتش سوزی مشکوک مقابل وزارت دفاع اوکراین   \n18155  ببینید | حمله موشک‌های «کالیبر» روسیه به انبار...   \n17675  رئیس‌جمهور چچن: پوتین برای حمله به اوکراین تصم...   \n17750  عکس | چهره خاص بایدن پس از آغاز حمله روسیه به ...   \n17074  ببینید | خط و نشان اتمی روسیه برای اوکراین با ...   \n\n                                                   intro  \\\n17768  از صبح امروز ارتش روسیه به اوکراین حمله کرده و...   \n17787  دو سرباز روسی اسیر شده توسط ارتش اوکراین در جب...   \n17670  نیروهای روسیه کنترل فرودگاه هوستومل در غرب کی‌...   \n17659  همانطور که این نقشه، پیشروی‌های روسیه در شمال ...   \n13628  نشریه صهیونیستی جروزالم پست در تحلیلی به تاثیر...   \n17786  رسانه‌ها با انتشار تصاویری از مقابل ساختمان وز...   \n18155  وزارت دفاع روسیه می‌گوید ارتش این کشور بامداد ...   \n17675  رئیس جمهوری چچن با بیان اینکه پوتین تصمیم درست...   \n17750  بایدن در سخنانی تحریم‌های جدید علیه روسیه را ا...   \n17074  روسیه ۲ بمب افکن خود را در نزدیکی اوکراین به پ...   \n\n                                                    body  category  \n17768                                                        World  \n17787  به گزارش همشهری آنلاین به نقل از مشرق، رسانه ه...     World  \n17670  به گزارش همشهری آنلاین، نیروهای روس روز جمعه ب...     World  \n17659  به گزارش همشهری آنلاین، این شهر که حدود ۱.۵ می...     World  \n13628  به گزارش همشهری آنلاین به نقل از ایرنا، در پی ...  Politics  \n17786  به گزارش همشهری آنلاین، حملات ارتش روسیه تا کن...     World  \n18155  به گزارش همشهری آنلاین، وزارت دفاع روسیه تصریح...     World  \n17675  به گزارش همشهری آنلاین به نقل از ایسنا، «رمضان...     World  \n17750  منبع: مشرق\\n\\n\\nلحظه به لحظه با آخرین گزارش‌ها...     World  \n17074  به گزارش همشهری آنلاین به قل از باشگاه خبرنگار...     World  ",
      "text/html": "<div>\n<style scoped>\n    .dataframe tbody tr th:only-of-type {\n        vertical-align: middle;\n    }\n\n    .dataframe tbody tr th {\n        vertical-align: top;\n    }\n\n    .dataframe thead th {\n        text-align: right;\n    }\n</style>\n<table border=\"1\" class=\"dataframe\">\n  <thead>\n    <tr style=\"text-align: right;\">\n      <th></th>\n      <th>date</th>\n      <th>title</th>\n      <th>intro</th>\n      <th>body</th>\n      <th>category</th>\n    </tr>\n  </thead>\n  <tbody>\n    <tr>\n      <th>17768</th>\n      <td>پنجشنبه ۵ اسفند ۱۴۰۰ - ۲۳:۲۷</td>\n      <td>تلخ‌ترین تصویر از فرار مردم اوکراین پس از حمله...</td>\n      <td>از صبح امروز ارتش روسیه به اوکراین حمله کرده و...</td>\n      <td></td>\n      <td>World</td>\n    </tr>\n    <tr>\n      <th>17787</th>\n      <td>پنجشنبه ۵ اسفند ۱۴۰۰ - ۱۷:۲۱</td>\n      <td>تصاویر | نخستین اسرای جنگ اوکراین | دو سربازان...</td>\n      <td>دو سرباز روسی اسیر شده توسط ارتش اوکراین در جب...</td>\n      <td>به گزارش همشهری آنلاین به نقل از مشرق، رسانه ه...</td>\n      <td>World</td>\n    </tr>\n    <tr>\n      <th>17670</th>\n      <td>یکشنبه ۸ اسفند ۱۴۰۰ - ۰۰:۳۳</td>\n      <td>این نقشه نشان می‌دهد که کی‌یف اکنون در چه وضعی...</td>\n      <td>نیروهای روسیه کنترل فرودگاه هوستومل در غرب کی‌...</td>\n      <td>به گزارش همشهری آنلاین، نیروهای روس روز جمعه ب...</td>\n      <td>World</td>\n    </tr>\n    <tr>\n      <th>17659</th>\n      <td>یکشنبه ۸ اسفند ۱۴۰۰ - ۱۳:۱۶</td>\n      <td>نقشه مسیر پیشروی ارتش روسیه در اوکراین</td>\n      <td>همانطور که این نقشه، پیشروی‌های روسیه در شمال ...</td>\n      <td>به گزارش همشهری آنلاین، این شهر که حدود ۱.۵ می...</td>\n      <td>World</td>\n    </tr>\n    <tr>\n      <th>13628</th>\n      <td>پنجشنبه ۵ اسفند ۱۴۰۰ - ۱۲:۳۴</td>\n      <td>وحشت اسرائیلی‌ها از ایران پس از حمله روسیه به ...</td>\n      <td>نشریه صهیونیستی جروزالم پست در تحلیلی به تاثیر...</td>\n      <td>به گزارش همشهری آنلاین به نقل از ایرنا، در پی ...</td>\n      <td>Politics</td>\n    </tr>\n    <tr>\n      <th>17786</th>\n      <td>پنجشنبه ۵ اسفند ۱۴۰۰ - ۱۷:۲۷</td>\n      <td>تصاویر | آتش سوزی مشکوک مقابل وزارت دفاع اوکراین</td>\n      <td>رسانه‌ها با انتشار تصاویری از مقابل ساختمان وز...</td>\n      <td>به گزارش همشهری آنلاین، حملات ارتش روسیه تا کن...</td>\n      <td>World</td>\n    </tr>\n    <tr>\n      <th>18155</th>\n      <td>یکشنبه ۷ فروردین ۱۴۰۱ - ۰۸:۵۹</td>\n      <td>ببینید | حمله موشک‌های «کالیبر» روسیه به انبار...</td>\n      <td>وزارت دفاع روسیه می‌گوید ارتش این کشور بامداد ...</td>\n      <td>به گزارش همشهری آنلاین، وزارت دفاع روسیه تصریح...</td>\n      <td>World</td>\n    </tr>\n    <tr>\n      <th>17675</th>\n      <td>شنبه ۷ اسفند ۱۴۰۰ - ۲۲:۱۸</td>\n      <td>رئیس‌جمهور چچن: پوتین برای حمله به اوکراین تصم...</td>\n      <td>رئیس جمهوری چچن با بیان اینکه پوتین تصمیم درست...</td>\n      <td>به گزارش همشهری آنلاین به نقل از ایسنا، «رمضان...</td>\n      <td>World</td>\n    </tr>\n    <tr>\n      <th>17750</th>\n      <td>جمعه ۶ اسفند ۱۴۰۰ - ۰۹:۵۷</td>\n      <td>عکس | چهره خاص بایدن پس از آغاز حمله روسیه به ...</td>\n      <td>بایدن در سخنانی تحریم‌های جدید علیه روسیه را ا...</td>\n      <td>منبع: مشرق\\n\\n\\nلحظه به لحظه با آخرین گزارش‌ها...</td>\n      <td>World</td>\n    </tr>\n    <tr>\n      <th>17074</th>\n      <td>دوشنبه ۱۸ بهمن ۱۴۰۰ - ۰۲:۰۴</td>\n      <td>ببینید | خط و نشان اتمی روسیه برای اوکراین با ...</td>\n      <td>روسیه ۲ بمب افکن خود را در نزدیکی اوکراین به پ...</td>\n      <td>به گزارش همشهری آنلاین به قل از باشگاه خبرنگار...</td>\n      <td>World</td>\n    </tr>\n  </tbody>\n</table>\n</div>"
     },
     "metadata": {},
     "output_type": "display_data"
    },
    {
     "name": "stdout",
     "output_type": "stream",
     "text": [
      "Query 3: افزایش نرخ تورم در کشور\n"
     ]
    },
    {
     "data": {
      "text/plain": "                                  date  \\\n37895          جمعه ۱۰ دی ۱۴۰۰ - ۱۶:۵۱   \n14218  سه‌شنبه ۱۶ فروردین ۱۴۰۱ - ۰۸:۲۳   \n24233       سه‌شنبه ۲ آذر ۱۴۰۰ - ۰۸:۴۴   \n23312      یکشنبه ۲۳ آبان ۱۴۰۰ - ۱۲:۵۷   \n21457       سه‌شنبه ۱ تیر ۱۴۰۰ - ۰۸:۲۸   \n66171         شنبه ۱ آبان ۱۴۰۰ - ۰۸:۴۱   \n12182     پنجشنبه ۲۱ بهمن ۱۴۰۰ - ۰۸:۴۷   \n25471      سه‌شنبه ۵ بهمن ۱۴۰۰ - ۱۱:۰۲   \n21967     سه‌شنبه ۵ مرداد ۱۴۰۰ - ۰۸:۱۶   \n22714    سه‌شنبه ۲ شهریور ۱۴۰۰ - ۰۸:۵۹   \n\n                                                   title  \\\n37895              ببینید | بارش باران سیل‌آسا در خرمشهر   \n14218  آمار تازه سخنگوی دولت از نرخ رشد نقدینگی و تور...   \n24233       جدول| نرخ رسمی ۲۹ ارز کاهش یافت | ۲ آذر ۱۴۰۰   \n23312  رکوردشکنی های بی‌سابقه قیمت دلار در افغانستان ...   \n21457  نرخ ۱۸ ارز افزایش یافت | جدیدترین قیمت رسمی ار...   \n66171  جدول |  نرخ رسمی ۲۰ ارز افزایش یافت؛ اول آبان ...   \n12182  توضیح سخنگوی دولت درباره افزایش قیمت برنج | از...   \n25471                 نرخ ۳۰ ارز کاهش یافت | ۵ بهمن ۱۴۰۰   \n21967  نرخ ۲۰ ارز افزایش یافت | جدیدترین قیمت رسمی ار...   \n22714  نرخ ۲۹ ارز افزایش یافت | جدیدترین قیمت رسمی ار...   \n\n                                                   intro  \\\n37895  با فعال شدن سامانه بارشی قوی در جنوب کشور، بار...   \n14218  سخنگوی دولت اعلام کرد: برای ۴ ماه متوالی نرخ ر...   \n24233  بانک مرکزی امروز، ‌سه‌شنبه (۲ آذر)، نرخ رسمی ۴...   \n23312  طبق اعلام سرای شهزاده، بزرگ‌ترین مرکز مبادله ا...   \n21457  بانک مرکزی امروز سه‌شنبه (اول تیر)، نرخ رسمی ۴...   \n66171  بانک مرکزی امروز، ‌شنبه (اول آبان)، نرخ رسمی ۴...   \n12182  سخنگوی دولت درباره علت افزایش قیمت برنج در توئ...   \n25471  بانک مرکزی امروز، ‌سه‌شنبه (۵ بهمن)، نرخ رسمی ...   \n21967  بانک مرکزی امروز، سه‌شنبه (۵مرداد)، نرخ رسمی ۴...   \n22714  بانک مرکزی امروز، سه‌شنبه (۲ شهریور)، نرخ رسمی...   \n\n                                                    body    category  \n37895  به گزارش همشهری آنلاین به نقل از خبرگزاری صدا ...     Society  \n14218  به گزارش همشهری آنلاین، علی بهادری جهرمی سخنگو...    Politics  \n24233  به گزارش همشهری‌آنلاین، بانک مرکزی امروز نرخ ه...     Economy  \n23312  به گزارش همشهری آنلاین به نقل از فارس، به دنبا...     Economy  \n21457  به گزارش همشهری‌آنلاین، بانک مرکزی امروز نرخ ه...     Economy  \n66171  به گزارش همشهری‌آنلاین، بانک مرکزی امروز نرخ ه...  LifeSkills  \n12182  به گزارش همشهری آنلاین به نقل از ایرنا، علی به...    Politics  \n25471  به گزارش همشهری‌آنلاین، بانک مرکزی امروز نرخ ه...     Economy  \n21967  به گزارش همشهری‌آنلاین، بانک مرکزی امروز نرخ ه...     Economy  \n22714  به گزارش همشهری‌آنلاین، بانک مرکزی امروز نرخ ه...     Economy  ",
      "text/html": "<div>\n<style scoped>\n    .dataframe tbody tr th:only-of-type {\n        vertical-align: middle;\n    }\n\n    .dataframe tbody tr th {\n        vertical-align: top;\n    }\n\n    .dataframe thead th {\n        text-align: right;\n    }\n</style>\n<table border=\"1\" class=\"dataframe\">\n  <thead>\n    <tr style=\"text-align: right;\">\n      <th></th>\n      <th>date</th>\n      <th>title</th>\n      <th>intro</th>\n      <th>body</th>\n      <th>category</th>\n    </tr>\n  </thead>\n  <tbody>\n    <tr>\n      <th>37895</th>\n      <td>جمعه ۱۰ دی ۱۴۰۰ - ۱۶:۵۱</td>\n      <td>ببینید | بارش باران سیل‌آسا در خرمشهر</td>\n      <td>با فعال شدن سامانه بارشی قوی در جنوب کشور، بار...</td>\n      <td>به گزارش همشهری آنلاین به نقل از خبرگزاری صدا ...</td>\n      <td>Society</td>\n    </tr>\n    <tr>\n      <th>14218</th>\n      <td>سه‌شنبه ۱۶ فروردین ۱۴۰۱ - ۰۸:۲۳</td>\n      <td>آمار تازه سخنگوی دولت از نرخ رشد نقدینگی و تور...</td>\n      <td>سخنگوی دولت اعلام کرد: برای ۴ ماه متوالی نرخ ر...</td>\n      <td>به گزارش همشهری آنلاین، علی بهادری جهرمی سخنگو...</td>\n      <td>Politics</td>\n    </tr>\n    <tr>\n      <th>24233</th>\n      <td>سه‌شنبه ۲ آذر ۱۴۰۰ - ۰۸:۴۴</td>\n      <td>جدول| نرخ رسمی ۲۹ ارز کاهش یافت | ۲ آذر ۱۴۰۰</td>\n      <td>بانک مرکزی امروز، ‌سه‌شنبه (۲ آذر)، نرخ رسمی ۴...</td>\n      <td>به گزارش همشهری‌آنلاین، بانک مرکزی امروز نرخ ه...</td>\n      <td>Economy</td>\n    </tr>\n    <tr>\n      <th>23312</th>\n      <td>یکشنبه ۲۳ آبان ۱۴۰۰ - ۱۲:۵۷</td>\n      <td>رکوردشکنی های بی‌سابقه قیمت دلار در افغانستان ...</td>\n      <td>طبق اعلام سرای شهزاده، بزرگ‌ترین مرکز مبادله ا...</td>\n      <td>به گزارش همشهری آنلاین به نقل از فارس، به دنبا...</td>\n      <td>Economy</td>\n    </tr>\n    <tr>\n      <th>21457</th>\n      <td>سه‌شنبه ۱ تیر ۱۴۰۰ - ۰۸:۲۸</td>\n      <td>نرخ ۱۸ ارز افزایش یافت | جدیدترین قیمت رسمی ار...</td>\n      <td>بانک مرکزی امروز سه‌شنبه (اول تیر)، نرخ رسمی ۴...</td>\n      <td>به گزارش همشهری‌آنلاین، بانک مرکزی امروز نرخ ه...</td>\n      <td>Economy</td>\n    </tr>\n    <tr>\n      <th>66171</th>\n      <td>شنبه ۱ آبان ۱۴۰۰ - ۰۸:۴۱</td>\n      <td>جدول |  نرخ رسمی ۲۰ ارز افزایش یافت؛ اول آبان ...</td>\n      <td>بانک مرکزی امروز، ‌شنبه (اول آبان)، نرخ رسمی ۴...</td>\n      <td>به گزارش همشهری‌آنلاین، بانک مرکزی امروز نرخ ه...</td>\n      <td>LifeSkills</td>\n    </tr>\n    <tr>\n      <th>12182</th>\n      <td>پنجشنبه ۲۱ بهمن ۱۴۰۰ - ۰۸:۴۷</td>\n      <td>توضیح سخنگوی دولت درباره افزایش قیمت برنج | از...</td>\n      <td>سخنگوی دولت درباره علت افزایش قیمت برنج در توئ...</td>\n      <td>به گزارش همشهری آنلاین به نقل از ایرنا، علی به...</td>\n      <td>Politics</td>\n    </tr>\n    <tr>\n      <th>25471</th>\n      <td>سه‌شنبه ۵ بهمن ۱۴۰۰ - ۱۱:۰۲</td>\n      <td>نرخ ۳۰ ارز کاهش یافت | ۵ بهمن ۱۴۰۰</td>\n      <td>بانک مرکزی امروز، ‌سه‌شنبه (۵ بهمن)، نرخ رسمی ...</td>\n      <td>به گزارش همشهری‌آنلاین، بانک مرکزی امروز نرخ ه...</td>\n      <td>Economy</td>\n    </tr>\n    <tr>\n      <th>21967</th>\n      <td>سه‌شنبه ۵ مرداد ۱۴۰۰ - ۰۸:۱۶</td>\n      <td>نرخ ۲۰ ارز افزایش یافت | جدیدترین قیمت رسمی ار...</td>\n      <td>بانک مرکزی امروز، سه‌شنبه (۵مرداد)، نرخ رسمی ۴...</td>\n      <td>به گزارش همشهری‌آنلاین، بانک مرکزی امروز نرخ ه...</td>\n      <td>Economy</td>\n    </tr>\n    <tr>\n      <th>22714</th>\n      <td>سه‌شنبه ۲ شهریور ۱۴۰۰ - ۰۸:۵۹</td>\n      <td>نرخ ۲۹ ارز افزایش یافت | جدیدترین قیمت رسمی ار...</td>\n      <td>بانک مرکزی امروز، سه‌شنبه (۲ شهریور)، نرخ رسمی...</td>\n      <td>به گزارش همشهری‌آنلاین، بانک مرکزی امروز نرخ ه...</td>\n      <td>Economy</td>\n    </tr>\n  </tbody>\n</table>\n</div>"
     },
     "metadata": {},
     "output_type": "display_data"
    },
    {
     "name": "stdout",
     "output_type": "stream",
     "text": [
      "Query 4: آمار فوتی‌های کرونا\n"
     ]
    },
    {
     "data": {
      "text/plain": "                                 date  \\\n35425       یکشنبه ۴ مهر ۱۴۰۰ - ۱۶:۲۹   \n37921       پنجشنبه ۹ دی ۱۴۰۰ - ۱۰:۳۷   \n36004     یکشنبه ۱۶ آبان ۱۴۰۰ - ۱۷:۴۷   \n36073       شنبه ۱۵ آبان ۱۴۰۰ - ۰۹:۲۷   \n36367     سه‌شنبه ۴ آبان ۱۴۰۰ - ۱۸:۴۹   \n33697   دوشنبه ۲۲ شهریور ۱۴۰۰ - ۱۰:۳۶   \n35855       جمعه ۲۱ آبان ۱۴۰۰ - ۰۹:۵۴   \n32176    یکشنبه ۲۴ مرداد ۱۴۰۰ - ۱۶:۳۰   \n35231        شنبه ۱۰ مهر ۱۴۰۰ - ۱۵:۱۳   \n29651  چهارشنبه ۲۶ خرداد ۱۴۰۰ - ۱۵:۳۳   \n\n                                                   title  \\\n35425  اینفوگرافیک | روند یک‌ماهه کرونا در ایران | اب...   \n37921  اینفوگرافیک | آمار مبتلایان به کرونا در ایران ...   \n36004  اینفوگرافیک | روند شیوع کرونا در ایران از ۱۶ م...   \n36073  اینفوگرافیک | آمار کرونا در ایران و جهان تا ۱۵...   \n36367  اینفوگرافیک | روند کرونا در ایران طی یک ماه گذ...   \n33697  اینفوگرافیک | آمار کرونا در ایران و جهان تا ۲۲...   \n35855  جدیدترین آمار جهانی کرونا | ۱۵ کشور اول جهان ا...   \n32176  اینفوگرافیک | روند یک‌ماهه کرونا در ایران | فو...   \n35231  اینفوگرافیک | روند کرونا در ایران از ۱۰ شهریور...   \n29651  اینفوگرافیک | روند یک‌ماهه کرونا در ایران | مر...   \n\n                                                   intro  \\\n35425  روند شیوع کرونا را در ایران طی یک ماه اخیر (از...   \n37921  تعداد مبتلایان به ویروس کرونا در جهان، تا صبح ...   \n36004  ویروس کرونا تا ظهر یکشنبه (۱۶ آبان ۱۴۰۰) پنج م...   \n36073  تعداد مبتلایان به ویروس کرونا در جهان، تا صبح ...   \n36367  روند شیوع کرونا را در ایران طی یک ماه اخیر (از...   \n33697  تعداد مبتلایان به ویروس کرونا در جهان، تا صبح ...   \n35855  آمار ۱۵ کشور اول جهان از نظر تعداد مبتلایان و ...   \n32176  روند شیوع کرونا در ایران طی یک ماه اخیر (از ۲۴...   \n35231  روند شیوع کرونا را در ایران طی یک ماه اخیر (از...   \n29651  روند شیوع کرونا را در ایران طی یک ماه اخیر (از...   \n\n                                                    body category  \n35425  به گزارش همشهری آنلاین به نقل از ایسنا، طبق اع...  Society  \n37921  به گزارش همشهری آنلاین به نقل از ایسنا، در حال...  Society  \n36004  به گزارش همشهری آنلاین به نقل از ایسنا، بررسی ...  Society  \n36073  به گزارش همشهری آنلاین به نقل از ایسنا، در حال...  Society  \n36367  به گزارش همشهری‌آنلاین به نقل از ایسنا، طبق اع...  Society  \n33697  به گزارش همشهری آنلاین به نقل از ایسنا، در حال...  Society  \n35855  به گزارش همشهری‌آنلاین به نقل از ایسنا، تعداد ...  Society  \n32176  به گزارش همشهری آنلاین به نقل از ایسنا، طبق اع...  Society  \n35231  به گزارش همشهری‌آنلاین به نقل از ایسنا، طبق اع...  Society  \n29651  به گزارش همشهری آنلاین به نقل از ایسنا، طبق اع...  Society  ",
      "text/html": "<div>\n<style scoped>\n    .dataframe tbody tr th:only-of-type {\n        vertical-align: middle;\n    }\n\n    .dataframe tbody tr th {\n        vertical-align: top;\n    }\n\n    .dataframe thead th {\n        text-align: right;\n    }\n</style>\n<table border=\"1\" class=\"dataframe\">\n  <thead>\n    <tr style=\"text-align: right;\">\n      <th></th>\n      <th>date</th>\n      <th>title</th>\n      <th>intro</th>\n      <th>body</th>\n      <th>category</th>\n    </tr>\n  </thead>\n  <tbody>\n    <tr>\n      <th>35425</th>\n      <td>یکشنبه ۴ مهر ۱۴۰۰ - ۱۶:۲۹</td>\n      <td>اینفوگرافیک | روند یک‌ماهه کرونا در ایران | اب...</td>\n      <td>روند شیوع کرونا را در ایران طی یک ماه اخیر (از...</td>\n      <td>به گزارش همشهری آنلاین به نقل از ایسنا، طبق اع...</td>\n      <td>Society</td>\n    </tr>\n    <tr>\n      <th>37921</th>\n      <td>پنجشنبه ۹ دی ۱۴۰۰ - ۱۰:۳۷</td>\n      <td>اینفوگرافیک | آمار مبتلایان به کرونا در ایران ...</td>\n      <td>تعداد مبتلایان به ویروس کرونا در جهان، تا صبح ...</td>\n      <td>به گزارش همشهری آنلاین به نقل از ایسنا، در حال...</td>\n      <td>Society</td>\n    </tr>\n    <tr>\n      <th>36004</th>\n      <td>یکشنبه ۱۶ آبان ۱۴۰۰ - ۱۷:۴۷</td>\n      <td>اینفوگرافیک | روند شیوع کرونا در ایران از ۱۶ م...</td>\n      <td>ویروس کرونا تا ظهر یکشنبه (۱۶ آبان ۱۴۰۰) پنج م...</td>\n      <td>به گزارش همشهری آنلاین به نقل از ایسنا، بررسی ...</td>\n      <td>Society</td>\n    </tr>\n    <tr>\n      <th>36073</th>\n      <td>شنبه ۱۵ آبان ۱۴۰۰ - ۰۹:۲۷</td>\n      <td>اینفوگرافیک | آمار کرونا در ایران و جهان تا ۱۵...</td>\n      <td>تعداد مبتلایان به ویروس کرونا در جهان، تا صبح ...</td>\n      <td>به گزارش همشهری آنلاین به نقل از ایسنا، در حال...</td>\n      <td>Society</td>\n    </tr>\n    <tr>\n      <th>36367</th>\n      <td>سه‌شنبه ۴ آبان ۱۴۰۰ - ۱۸:۴۹</td>\n      <td>اینفوگرافیک | روند کرونا در ایران طی یک ماه گذ...</td>\n      <td>روند شیوع کرونا را در ایران طی یک ماه اخیر (از...</td>\n      <td>به گزارش همشهری‌آنلاین به نقل از ایسنا، طبق اع...</td>\n      <td>Society</td>\n    </tr>\n    <tr>\n      <th>33697</th>\n      <td>دوشنبه ۲۲ شهریور ۱۴۰۰ - ۱۰:۳۶</td>\n      <td>اینفوگرافیک | آمار کرونا در ایران و جهان تا ۲۲...</td>\n      <td>تعداد مبتلایان به ویروس کرونا در جهان، تا صبح ...</td>\n      <td>به گزارش همشهری آنلاین به نقل از ایسنا، در حال...</td>\n      <td>Society</td>\n    </tr>\n    <tr>\n      <th>35855</th>\n      <td>جمعه ۲۱ آبان ۱۴۰۰ - ۰۹:۵۴</td>\n      <td>جدیدترین آمار جهانی کرونا | ۱۵ کشور اول جهان ا...</td>\n      <td>آمار ۱۵ کشور اول جهان از نظر تعداد مبتلایان و ...</td>\n      <td>به گزارش همشهری‌آنلاین به نقل از ایسنا، تعداد ...</td>\n      <td>Society</td>\n    </tr>\n    <tr>\n      <th>32176</th>\n      <td>یکشنبه ۲۴ مرداد ۱۴۰۰ - ۱۶:۳۰</td>\n      <td>اینفوگرافیک | روند یک‌ماهه کرونا در ایران | فو...</td>\n      <td>روند شیوع کرونا در ایران طی یک ماه اخیر (از ۲۴...</td>\n      <td>به گزارش همشهری آنلاین به نقل از ایسنا، طبق اع...</td>\n      <td>Society</td>\n    </tr>\n    <tr>\n      <th>35231</th>\n      <td>شنبه ۱۰ مهر ۱۴۰۰ - ۱۵:۱۳</td>\n      <td>اینفوگرافیک | روند کرونا در ایران از ۱۰ شهریور...</td>\n      <td>روند شیوع کرونا را در ایران طی یک ماه اخیر (از...</td>\n      <td>به گزارش همشهری‌آنلاین به نقل از ایسنا، طبق اع...</td>\n      <td>Society</td>\n    </tr>\n    <tr>\n      <th>29651</th>\n      <td>چهارشنبه ۲۶ خرداد ۱۴۰۰ - ۱۵:۳۳</td>\n      <td>اینفوگرافیک | روند یک‌ماهه کرونا در ایران | مر...</td>\n      <td>روند شیوع کرونا را در ایران طی یک ماه اخیر (از...</td>\n      <td>به گزارش همشهری آنلاین به نقل از ایسنا، طبق اع...</td>\n      <td>Society</td>\n    </tr>\n  </tbody>\n</table>\n</div>"
     },
     "metadata": {},
     "output_type": "display_data"
    },
    {
     "name": "stdout",
     "output_type": "stream",
     "text": [
      "Query 5: اقدامات شهرداری تهران\n"
     ]
    },
    {
     "data": {
      "text/plain": "                                   date  \\\n42972       دوشنبه ۲۴ آبان ۱۴۰۰ - ۱۳:۴۵   \n43517        سه‌شنبه ۲۸ دی ۱۴۰۰ - ۱۲:۴۰   \n42252       سه‌شنبه ۱۵ تیر ۱۴۰۰ - ۱۴:۱۶   \n44597     شنبه ۲۴ اردیبهشت ۱۴۰۱ - ۱۵:۵۷   \n41273   سه‌شنبه ۲۴ فروردین ۱۴۰۰ - ۱۸:۱۲   \n44561  سه‌شنبه ۲۷ اردیبهشت ۱۴۰۱ - ۱۱:۰۴   \n41418   پنجشنبه ۱۲ فروردین ۱۴۰۰ - ۱۵:۰۵   \n43491         دوشنبه ۱ آذر ۱۴۰۰ - ۱۰:۴۸   \n43738          یکشنبه ۵ دی ۱۴۰۰ - ۱۵:۳۹   \n43135       سه‌شنبه ۴ آبان ۱۴۰۰ - ۲۰:۱۹   \n\n                                                   title  \\\n42972  ویدئو | گرمخانه‌های شهرداری آماده استقبال از ه...   \n43517    ویدئو | جزئیات عرضه املاک شهرداری تهران در بورس   \n42252                کتاب «پویش نامه به شهردار» منتشر شد   \n44597  ببینید | پاسخگویی مستقیم شهردار تهران به تماس ...   \n41273       ساعات کار میادین میوه و تره‌بار در ماه رمضان   \n44561      میادین میوه و تره‌بار شهرداری تهران باز هستند   \n41418                   مردم 13 به در به بهشت زهرا نروند   \n43491            فرمانده یگان حفاظت شهرداری تهران درگذشت   \n43738  ببینید | تصاویر جدید لحظه برخورد ۲ قطار مترو ت...   \n43135  به دستور زاکانی مترو تهران تا ۹ صبح فردا رایگا...   \n\n                                                   intro  \\\n42972  توکلی‌زاده معاون اجتماعی فرهنگی شهرداری تهران ...   \n43517  شهردار تهران جزئیات عرضه املاک شهرداری تهران ر...   \n42252  کتاب پویش نامه به شهردار به همت شهرداری منطقه ...   \n44597  علیرضا زاکانی شهردار تهران امروز در آئین رونما...   \n41273  میادین میوه و تره‌بار شهرداری تهران در ماه مبا...   \n44561  با وجود اعلام تعطیلی مدارس و ادارات دولتی به د...   \n41418  بهشت زهرا(س) در روز ۱۳ فروردین فقط برای تدفین ...   \n43491  فرمانده یگان حفاظت شهرداری تهران در پی ابتلا ب...   \n43738  لحظه برخورد ۲ قطار مترو تهران در خط ۵ (کرج) را...   \n43135  به دستور زاکانی جهت رفاه حال شهروندان و مشکل ا...   \n\n                                                    body category  \n42972                                                        City  \n43517  به گزارش همشهری آنلاین، علیرضا زاکانی شهردار ت...     City  \n42252  به گزارش همشهری آنلاین، این کتاب که توسط انتشا...     City  \n44597                                                        City  \n41273  به گزارش همشهری‌آنلاین، روابط عمومی سازمان مدی...     City  \n44561  به گزارش همشهری آنلاین، روابط عمومی سازمان مدی...     City  \n41418  به گزارش همشهری آنلاین، سعید خال، مدیر عامل سا...     City  \n43491  به گزارش همشهری آنلاین به نقل از ایسنا، سردار ...     City  \n43738  به گزارش همشهری آنلاین، امروز در شورای اسلامی ...     City  \n43135  به گزارش همشهری آنلاین به نقل از فارس، با دستو...     City  ",
      "text/html": "<div>\n<style scoped>\n    .dataframe tbody tr th:only-of-type {\n        vertical-align: middle;\n    }\n\n    .dataframe tbody tr th {\n        vertical-align: top;\n    }\n\n    .dataframe thead th {\n        text-align: right;\n    }\n</style>\n<table border=\"1\" class=\"dataframe\">\n  <thead>\n    <tr style=\"text-align: right;\">\n      <th></th>\n      <th>date</th>\n      <th>title</th>\n      <th>intro</th>\n      <th>body</th>\n      <th>category</th>\n    </tr>\n  </thead>\n  <tbody>\n    <tr>\n      <th>42972</th>\n      <td>دوشنبه ۲۴ آبان ۱۴۰۰ - ۱۳:۴۵</td>\n      <td>ویدئو | گرمخانه‌های شهرداری آماده استقبال از ه...</td>\n      <td>توکلی‌زاده معاون اجتماعی فرهنگی شهرداری تهران ...</td>\n      <td></td>\n      <td>City</td>\n    </tr>\n    <tr>\n      <th>43517</th>\n      <td>سه‌شنبه ۲۸ دی ۱۴۰۰ - ۱۲:۴۰</td>\n      <td>ویدئو | جزئیات عرضه املاک شهرداری تهران در بورس</td>\n      <td>شهردار تهران جزئیات عرضه املاک شهرداری تهران ر...</td>\n      <td>به گزارش همشهری آنلاین، علیرضا زاکانی شهردار ت...</td>\n      <td>City</td>\n    </tr>\n    <tr>\n      <th>42252</th>\n      <td>سه‌شنبه ۱۵ تیر ۱۴۰۰ - ۱۴:۱۶</td>\n      <td>کتاب «پویش نامه به شهردار» منتشر شد</td>\n      <td>کتاب پویش نامه به شهردار به همت شهرداری منطقه ...</td>\n      <td>به گزارش همشهری آنلاین، این کتاب که توسط انتشا...</td>\n      <td>City</td>\n    </tr>\n    <tr>\n      <th>44597</th>\n      <td>شنبه ۲۴ اردیبهشت ۱۴۰۱ - ۱۵:۵۷</td>\n      <td>ببینید | پاسخگویی مستقیم شهردار تهران به تماس ...</td>\n      <td>علیرضا زاکانی شهردار تهران امروز در آئین رونما...</td>\n      <td></td>\n      <td>City</td>\n    </tr>\n    <tr>\n      <th>41273</th>\n      <td>سه‌شنبه ۲۴ فروردین ۱۴۰۰ - ۱۸:۱۲</td>\n      <td>ساعات کار میادین میوه و تره‌بار در ماه رمضان</td>\n      <td>میادین میوه و تره‌بار شهرداری تهران در ماه مبا...</td>\n      <td>به گزارش همشهری‌آنلاین، روابط عمومی سازمان مدی...</td>\n      <td>City</td>\n    </tr>\n    <tr>\n      <th>44561</th>\n      <td>سه‌شنبه ۲۷ اردیبهشت ۱۴۰۱ - ۱۱:۰۴</td>\n      <td>میادین میوه و تره‌بار شهرداری تهران باز هستند</td>\n      <td>با وجود اعلام تعطیلی مدارس و ادارات دولتی به د...</td>\n      <td>به گزارش همشهری آنلاین، روابط عمومی سازمان مدی...</td>\n      <td>City</td>\n    </tr>\n    <tr>\n      <th>41418</th>\n      <td>پنجشنبه ۱۲ فروردین ۱۴۰۰ - ۱۵:۰۵</td>\n      <td>مردم 13 به در به بهشت زهرا نروند</td>\n      <td>بهشت زهرا(س) در روز ۱۳ فروردین فقط برای تدفین ...</td>\n      <td>به گزارش همشهری آنلاین، سعید خال، مدیر عامل سا...</td>\n      <td>City</td>\n    </tr>\n    <tr>\n      <th>43491</th>\n      <td>دوشنبه ۱ آذر ۱۴۰۰ - ۱۰:۴۸</td>\n      <td>فرمانده یگان حفاظت شهرداری تهران درگذشت</td>\n      <td>فرمانده یگان حفاظت شهرداری تهران در پی ابتلا ب...</td>\n      <td>به گزارش همشهری آنلاین به نقل از ایسنا، سردار ...</td>\n      <td>City</td>\n    </tr>\n    <tr>\n      <th>43738</th>\n      <td>یکشنبه ۵ دی ۱۴۰۰ - ۱۵:۳۹</td>\n      <td>ببینید | تصاویر جدید لحظه برخورد ۲ قطار مترو ت...</td>\n      <td>لحظه برخورد ۲ قطار مترو تهران در خط ۵ (کرج) را...</td>\n      <td>به گزارش همشهری آنلاین، امروز در شورای اسلامی ...</td>\n      <td>City</td>\n    </tr>\n    <tr>\n      <th>43135</th>\n      <td>سه‌شنبه ۴ آبان ۱۴۰۰ - ۲۰:۱۹</td>\n      <td>به دستور زاکانی مترو تهران تا ۹ صبح فردا رایگا...</td>\n      <td>به دستور زاکانی جهت رفاه حال شهروندان و مشکل ا...</td>\n      <td>به گزارش همشهری آنلاین به نقل از فارس، با دستو...</td>\n      <td>City</td>\n    </tr>\n  </tbody>\n</table>\n</div>"
     },
     "metadata": {},
     "output_type": "display_data"
    },
    {
     "name": "stdout",
     "output_type": "stream",
     "text": [
      "Query 6: صعود ایران به جام جهانی\n"
     ]
    },
    {
     "data": {
      "text/plain": "                                date  \\\n51395    پنجشنبه ۷ بهمن ۱۴۰۰ - ۲۰:۵۳   \n49139   سه‌شنبه ۲۵ آبان ۱۴۰۰ - ۲۱:۵۵   \n47744      شنبه ۹ مرداد ۱۴۰۰ - ۲۱:۲۳   \n46142   دوشنبه ۳۱ خرداد ۱۴۰۰ - ۱۳:۳۲   \n29991  سه‌شنبه ۱۸ خرداد ۱۴۰۰ - ۰۰:۱۶   \n12647       جمعه ۸ بهمن ۱۴۰۰ - ۲۰:۱۲   \n46610  چهارشنبه ۵ خرداد ۱۴۰۰ - ۱۲:۱۸   \n49105   پنجشنبه ۲۷ آبان ۱۴۰۰ - ۱۲:۲۳   \n51893  پنجشنبه ۱۲ اسفند ۱۴۰۰ - ۲۱:۱۲   \n51394    پنجشنبه ۷ بهمن ۱۴۰۰ - ۲۰:۵۴   \n\n                                                   title  \\\n51395    تصاویر اختصاصی از جشن صعود تیم ملی به جام جهانی   \n49139     جایگاه ایران در جدول گروه A مقدماتی جام‌ جهانی   \n47744       جدول | المپیک از فردا برای ایران شروع می‌شود   \n46142     عکس | واکنش فیفا به گل خاطره‌انگیز حمید استیلی   \n29991   تصاویر | ۶ قاب از برد شیرین ایران در برابر بحرین   \n12647  واکنش آمریکا به صعود تیم ملی ایران به جام جهان...   \n46610  عکس | ایران - استرالیا جزو ۵ بازی خاطره‌انگیز ...   \n49105  ویدیو | گل ملی پوش ایران در میان برترین گل های...   \n51893  فیفا اعلام کرد؛ ورزشگاه دیدار ایران و لبنان مش...   \n51394  عکس | واکنش جالب فیفا به صعود ایران به جام جها...   \n\n                                                   intro  \\\n51395  تیم ملی فوتبال کشورمان با غلبه بر عراق به جام ...   \n49139  ایران با برد  ۳ بر صفر مقابل سوریه با ۱۶ امتیا...   \n47744  با آغاز رقابت‌های کشتی در المپیک امید ایران از...   \n46142  فیفا در صفحه توییتر «جام جهانی» به اولین پیروز...   \n29991  تیم ملی فوتبال امشب در دومین بازی دور برگشت مر...   \n12647  نماینده ویژه آمریکا در امور ایران صعود ایران ب...   \n46610  کنفدراسیون فوتبال آسیا دیدار برگشت ایران با اس...   \n49105  کنفدراسیون فوتبال آسیا گل های برتر هفته ششم  م...   \n51893  سایت کنفدراسیون جهانی فوتبال فیفا ورزشگاه محل ...   \n51394  تیم ملی ایران به عنوان اولین تیم آسیایی موفق ب...   \n\n                                                    body  category  \n51395                                                        Sport  \n49139                                                        Sport  \n47744                                                        Sport  \n46142  به گزارش همشهری‌آنلاین، ۲۳ سال پیش در چنین روز...     Sport  \n29991                                                      Society  \n12647  به گزارش همشهری آنلاین، رابرت مالی در توئیتر ن...  Politics  \n46610  به گزارش همشهری‌آنلاین، سایت کنفدراسیون فوتبال...     Sport  \n49105  به گزارش همشهری آنلاین، در این انتخاب گل سوم ا...     Sport  \n51893  به گزارش همشهری آنلاین، دیدار ایران و لبنان در...     Sport  \n51394  به گزارش تیم ملی فوتبال کشورمان موفق شد در دید...     Sport  ",
      "text/html": "<div>\n<style scoped>\n    .dataframe tbody tr th:only-of-type {\n        vertical-align: middle;\n    }\n\n    .dataframe tbody tr th {\n        vertical-align: top;\n    }\n\n    .dataframe thead th {\n        text-align: right;\n    }\n</style>\n<table border=\"1\" class=\"dataframe\">\n  <thead>\n    <tr style=\"text-align: right;\">\n      <th></th>\n      <th>date</th>\n      <th>title</th>\n      <th>intro</th>\n      <th>body</th>\n      <th>category</th>\n    </tr>\n  </thead>\n  <tbody>\n    <tr>\n      <th>51395</th>\n      <td>پنجشنبه ۷ بهمن ۱۴۰۰ - ۲۰:۵۳</td>\n      <td>تصاویر اختصاصی از جشن صعود تیم ملی به جام جهانی</td>\n      <td>تیم ملی فوتبال کشورمان با غلبه بر عراق به جام ...</td>\n      <td></td>\n      <td>Sport</td>\n    </tr>\n    <tr>\n      <th>49139</th>\n      <td>سه‌شنبه ۲۵ آبان ۱۴۰۰ - ۲۱:۵۵</td>\n      <td>جایگاه ایران در جدول گروه A مقدماتی جام‌ جهانی</td>\n      <td>ایران با برد  ۳ بر صفر مقابل سوریه با ۱۶ امتیا...</td>\n      <td></td>\n      <td>Sport</td>\n    </tr>\n    <tr>\n      <th>47744</th>\n      <td>شنبه ۹ مرداد ۱۴۰۰ - ۲۱:۲۳</td>\n      <td>جدول | المپیک از فردا برای ایران شروع می‌شود</td>\n      <td>با آغاز رقابت‌های کشتی در المپیک امید ایران از...</td>\n      <td></td>\n      <td>Sport</td>\n    </tr>\n    <tr>\n      <th>46142</th>\n      <td>دوشنبه ۳۱ خرداد ۱۴۰۰ - ۱۳:۳۲</td>\n      <td>عکس | واکنش فیفا به گل خاطره‌انگیز حمید استیلی</td>\n      <td>فیفا در صفحه توییتر «جام جهانی» به اولین پیروز...</td>\n      <td>به گزارش همشهری‌آنلاین، ۲۳ سال پیش در چنین روز...</td>\n      <td>Sport</td>\n    </tr>\n    <tr>\n      <th>29991</th>\n      <td>سه‌شنبه ۱۸ خرداد ۱۴۰۰ - ۰۰:۱۶</td>\n      <td>تصاویر | ۶ قاب از برد شیرین ایران در برابر بحرین</td>\n      <td>تیم ملی فوتبال امشب در دومین بازی دور برگشت مر...</td>\n      <td></td>\n      <td>Society</td>\n    </tr>\n    <tr>\n      <th>12647</th>\n      <td>جمعه ۸ بهمن ۱۴۰۰ - ۲۰:۱۲</td>\n      <td>واکنش آمریکا به صعود تیم ملی ایران به جام جهان...</td>\n      <td>نماینده ویژه آمریکا در امور ایران صعود ایران ب...</td>\n      <td>به گزارش همشهری آنلاین، رابرت مالی در توئیتر ن...</td>\n      <td>Politics</td>\n    </tr>\n    <tr>\n      <th>46610</th>\n      <td>چهارشنبه ۵ خرداد ۱۴۰۰ - ۱۲:۱۸</td>\n      <td>عکس | ایران - استرالیا جزو ۵ بازی خاطره‌انگیز ...</td>\n      <td>کنفدراسیون فوتبال آسیا دیدار برگشت ایران با اس...</td>\n      <td>به گزارش همشهری‌آنلاین، سایت کنفدراسیون فوتبال...</td>\n      <td>Sport</td>\n    </tr>\n    <tr>\n      <th>49105</th>\n      <td>پنجشنبه ۲۷ آبان ۱۴۰۰ - ۱۲:۲۳</td>\n      <td>ویدیو | گل ملی پوش ایران در میان برترین گل های...</td>\n      <td>کنفدراسیون فوتبال آسیا گل های برتر هفته ششم  م...</td>\n      <td>به گزارش همشهری آنلاین، در این انتخاب گل سوم ا...</td>\n      <td>Sport</td>\n    </tr>\n    <tr>\n      <th>51893</th>\n      <td>پنجشنبه ۱۲ اسفند ۱۴۰۰ - ۲۱:۱۲</td>\n      <td>فیفا اعلام کرد؛ ورزشگاه دیدار ایران و لبنان مش...</td>\n      <td>سایت کنفدراسیون جهانی فوتبال فیفا ورزشگاه محل ...</td>\n      <td>به گزارش همشهری آنلاین، دیدار ایران و لبنان در...</td>\n      <td>Sport</td>\n    </tr>\n    <tr>\n      <th>51394</th>\n      <td>پنجشنبه ۷ بهمن ۱۴۰۰ - ۲۰:۵۴</td>\n      <td>عکس | واکنش جالب فیفا به صعود ایران به جام جها...</td>\n      <td>تیم ملی ایران به عنوان اولین تیم آسیایی موفق ب...</td>\n      <td>به گزارش تیم ملی فوتبال کشورمان موفق شد در دید...</td>\n      <td>Sport</td>\n    </tr>\n  </tbody>\n</table>\n</div>"
     },
     "metadata": {},
     "output_type": "display_data"
    },
    {
     "name": "stdout",
     "output_type": "stream",
     "text": [
      "Query 7: بیماری آبله میمونی\n"
     ]
    },
    {
     "data": {
      "text/plain": "                                 date  \\\n56489  چهارشنبه ۱۱ خرداد ۱۴۰۱ - ۱۰:۱۳   \n56319   جمعه ۳۰ اردیبهشت ۱۴۰۱ - ۱۸:۱۹   \n56491   سه‌شنبه ۱۰ خرداد ۱۴۰۱ - ۲۰:۵۶   \n56315   جمعه ۳۰ اردیبهشت ۱۴۰۱ - ۲۱:۵۰   \n56501     دوشنبه ۹ خرداد ۱۴۰۱ - ۱۸:۱۳   \n63663  دوشنبه ۱۶ فروردین ۱۴۰۰ - ۲۲:۵۱   \n41162     یکشنبه ۱ خرداد ۱۴۰۱ - ۱۷:۵۸   \n56486  چهارشنبه ۱۱ خرداد ۱۴۰۱ - ۱۳:۰۰   \n56310   شنبه ۳۱ اردیبهشت ۱۴۰۱ - ۱۸:۵۸   \n56542   چهارشنبه ۴ خرداد ۱۴۰۱ - ۰۳:۰۶   \n\n                                                   title  \\\n56489      آبله میمونی چیست و چگونه  به ما منتقل می شود؟   \n56319  موارد ابتلا به آبله میمونی از کشورهای بیشتری گ...   \n56491  آبله میمونی هشت نفر را در کنگو کشت| گزارش نخست...   \n56315  آشنایی با آبله میمونی، خویشاوند کمتر مرگبار آب...   \n56501  آبله میمونی به ۲۳ کشور جهان رسیده است | میزان ...   \n63663                    عکس روز | آواز برای بیمار کرونا   \n41162  آبله میمونی در ایران مشاهده شد؟ | واکنش مهم وز...   \n56486  بیماری آبله میمون | راه های مقابله با آن سال 2022   \n56310  شیوع آبله میمونی؛ وحشت زده شویم؟ | راه‌های انت...   \n56542  انگلستان ۳۶ مورد جدید آبله میمونی شناسایی می‌ک...   \n\n                                                   intro  \\\n56489  به احتمال زیاد همه شما تاکنون در اخبار و یا شب...   \n56319  مواد ابتلای انسانی  به آبله میمونی از کشورهای ...   \n56491  آبله میمونی در سال ۲۰۲۲ باعث مرگ ۹ نفر در کنگو...   \n56315  آبله میمونی یک بیماری عفونی نادر ناشی از ویروس...   \n56501  سازمان جهانی بهداشت (WHO) می‌گوید گزارش‌هایی ا...   \n63663  یکی از کارکنان پزشکی در یک بیمارستان خیریه در ...   \n41162  سرپرست مرکز روابط عمومی و اطلاع رسانی وزارت به...   \n56486  آبله میمون یک بیماری عفونی ناشی از ویروس آبله ...   \n56310  این روزها شماری از موارد ابتلا یا مشکوک به ابت...   \n56542  مقامات بهداشتی بریتانیا روز دوشنبه اعلام کردند...   \n\n                                                    body    category  \n56489  آبله میمونی چیست ؟\\nآبله میمون یک بیماری نادر ...     Science  \n56319  به گزارش همشهری آنلاین به نقل از یواس‌تودی یک ...     Science  \n56491  به گزارش همشهری آنلاین به نقل از آسوشیتدپرس اع...     Science  \n56315  این بیماری مشترک میان انسان و حیوان یا «زونوز»...     Science  \n56501  به گزارش همشهری آنلاین به نقل از رویترز WHO در...     Science  \n63663                      Tarso Sarraf/AFP/Getty Images  LifeSkills  \n41162  به گزارش همشهری آنلاین، پدرام پاک آیبن افزود: ...     Society  \n56486  بیماری آبله میمون\\n علائم با تب، سردرد، دردهای...     Science  \n56310  همشهری آنلاین، یکتا فراهانی: شیوع یک ویروس دیگ...     Science  \n56542  به گزارش همشهری آنلاین به نقل از رویترز «سازما...     Science  ",
      "text/html": "<div>\n<style scoped>\n    .dataframe tbody tr th:only-of-type {\n        vertical-align: middle;\n    }\n\n    .dataframe tbody tr th {\n        vertical-align: top;\n    }\n\n    .dataframe thead th {\n        text-align: right;\n    }\n</style>\n<table border=\"1\" class=\"dataframe\">\n  <thead>\n    <tr style=\"text-align: right;\">\n      <th></th>\n      <th>date</th>\n      <th>title</th>\n      <th>intro</th>\n      <th>body</th>\n      <th>category</th>\n    </tr>\n  </thead>\n  <tbody>\n    <tr>\n      <th>56489</th>\n      <td>چهارشنبه ۱۱ خرداد ۱۴۰۱ - ۱۰:۱۳</td>\n      <td>آبله میمونی چیست و چگونه  به ما منتقل می شود؟</td>\n      <td>به احتمال زیاد همه شما تاکنون در اخبار و یا شب...</td>\n      <td>آبله میمونی چیست ؟\\nآبله میمون یک بیماری نادر ...</td>\n      <td>Science</td>\n    </tr>\n    <tr>\n      <th>56319</th>\n      <td>جمعه ۳۰ اردیبهشت ۱۴۰۱ - ۱۸:۱۹</td>\n      <td>موارد ابتلا به آبله میمونی از کشورهای بیشتری گ...</td>\n      <td>مواد ابتلای انسانی  به آبله میمونی از کشورهای ...</td>\n      <td>به گزارش همشهری آنلاین به نقل از یواس‌تودی یک ...</td>\n      <td>Science</td>\n    </tr>\n    <tr>\n      <th>56491</th>\n      <td>سه‌شنبه ۱۰ خرداد ۱۴۰۱ - ۲۰:۵۶</td>\n      <td>آبله میمونی هشت نفر را در کنگو کشت| گزارش نخست...</td>\n      <td>آبله میمونی در سال ۲۰۲۲ باعث مرگ ۹ نفر در کنگو...</td>\n      <td>به گزارش همشهری آنلاین به نقل از آسوشیتدپرس اع...</td>\n      <td>Science</td>\n    </tr>\n    <tr>\n      <th>56315</th>\n      <td>جمعه ۳۰ اردیبهشت ۱۴۰۱ - ۲۱:۵۰</td>\n      <td>آشنایی با آبله میمونی، خویشاوند کمتر مرگبار آب...</td>\n      <td>آبله میمونی یک بیماری عفونی نادر ناشی از ویروس...</td>\n      <td>این بیماری مشترک میان انسان و حیوان یا «زونوز»...</td>\n      <td>Science</td>\n    </tr>\n    <tr>\n      <th>56501</th>\n      <td>دوشنبه ۹ خرداد ۱۴۰۱ - ۱۸:۱۳</td>\n      <td>آبله میمونی به ۲۳ کشور جهان رسیده است | میزان ...</td>\n      <td>سازمان جهانی بهداشت (WHO) می‌گوید گزارش‌هایی ا...</td>\n      <td>به گزارش همشهری آنلاین به نقل از رویترز WHO در...</td>\n      <td>Science</td>\n    </tr>\n    <tr>\n      <th>63663</th>\n      <td>دوشنبه ۱۶ فروردین ۱۴۰۰ - ۲۲:۵۱</td>\n      <td>عکس روز | آواز برای بیمار کرونا</td>\n      <td>یکی از کارکنان پزشکی در یک بیمارستان خیریه در ...</td>\n      <td>Tarso Sarraf/AFP/Getty Images</td>\n      <td>LifeSkills</td>\n    </tr>\n    <tr>\n      <th>41162</th>\n      <td>یکشنبه ۱ خرداد ۱۴۰۱ - ۱۷:۵۸</td>\n      <td>آبله میمونی در ایران مشاهده شد؟ | واکنش مهم وز...</td>\n      <td>سرپرست مرکز روابط عمومی و اطلاع رسانی وزارت به...</td>\n      <td>به گزارش همشهری آنلاین، پدرام پاک آیبن افزود: ...</td>\n      <td>Society</td>\n    </tr>\n    <tr>\n      <th>56486</th>\n      <td>چهارشنبه ۱۱ خرداد ۱۴۰۱ - ۱۳:۰۰</td>\n      <td>بیماری آبله میمون | راه های مقابله با آن سال 2022</td>\n      <td>آبله میمون یک بیماری عفونی ناشی از ویروس آبله ...</td>\n      <td>بیماری آبله میمون\\n علائم با تب، سردرد، دردهای...</td>\n      <td>Science</td>\n    </tr>\n    <tr>\n      <th>56310</th>\n      <td>شنبه ۳۱ اردیبهشت ۱۴۰۱ - ۱۸:۵۸</td>\n      <td>شیوع آبله میمونی؛ وحشت زده شویم؟ | راه‌های انت...</td>\n      <td>این روزها شماری از موارد ابتلا یا مشکوک به ابت...</td>\n      <td>همشهری آنلاین، یکتا فراهانی: شیوع یک ویروس دیگ...</td>\n      <td>Science</td>\n    </tr>\n    <tr>\n      <th>56542</th>\n      <td>چهارشنبه ۴ خرداد ۱۴۰۱ - ۰۳:۰۶</td>\n      <td>انگلستان ۳۶ مورد جدید آبله میمونی شناسایی می‌ک...</td>\n      <td>مقامات بهداشتی بریتانیا روز دوشنبه اعلام کردند...</td>\n      <td>به گزارش همشهری آنلاین به نقل از رویترز «سازما...</td>\n      <td>Science</td>\n    </tr>\n  </tbody>\n</table>\n</div>"
     },
     "metadata": {},
     "output_type": "display_data"
    },
    {
     "name": "stdout",
     "output_type": "stream",
     "text": [
      "Query 8: جشنواره فیلم فجر\n"
     ]
    },
    {
     "data": {
      "text/plain": "                               date  \\\n59933    سه‌شنبه ۲۸ دی ۱۴۰۰ - ۱۲:۳۵   \n64420    یکشنبه ۲۷ تیر ۱۴۰۰ - ۰۱:۰۷   \n67260  پنجشنبه ۱۴ بهمن ۱۴۰۰ - ۲۲:۲۸   \n59598   سه‌شنبه ۳۰ آذر ۱۴۰۰ - ۱۲:۰۷   \n60580  پنجشنبه ۱۴ بهمن ۱۴۰۰ - ۲۰:۵۸   \n60416     جمعه ۲۲ بهمن ۱۴۰۰ - ۱۹:۵۳   \n67237     شنبه ۱۶ بهمن ۱۴۰۰ - ۱۸:۲۰   \n60415     جمعه ۲۲ بهمن ۱۴۰۰ - ۲۰:۲۴   \n60426     جمعه ۲۲ بهمن ۱۴۰۰ - ۱۳:۰۰   \n60408     جمعه ۲۲ بهمن ۱۴۰۰ - ۲۳:۲۴   \n\n                                                   title  \\\n59933           فیلم‌های جشنواره فجر چهلم را کجا ببینیم؟   \n64420         عکس روز | اسپایک لی در اختتامیه جشنواره کن   \n67260  عکس | لباسی که فرشته حسینی با آن به جشنواره فج...   \n59598  آخرین مهلت ثبت‌نام مستندسازان در جشنواره فیلم فجر   \n60580  عکس | بازیگر بزرگ سینمای ایران در جشنواره فیلم...   \n60416  تصاویر | چهره‌های سینمایی در اختتامیه چهلمین ج...   \n67237  متفاوت‌ترین عکس مشترک از فرشته حسینی و نوید مح...   \n60415  تصویر شهید حاج قاسم سلیمانی روی سیمرغ‌های جشنو...   \n60426         مجری اختتامیه جشنواره فیلم فجر ۱۴۰۰  کیست؟   \n60408  پیشنهاد روز: مجله برندگان ادوار جشنواره فیلم ف...   \n\n                                                   intro  \\\n59933  جداول نمایش سینماهای مردمی چهلمین جشنواره فیلم...   \n64420  اسپایک لی، کارگردان آمریکایی و رئیس هیات داورا...   \n67260  تصویری از فرشته حسینی و حسین سلیمانی را در چهل...   \n59598  دبیرخانه چهلمین جشنواره فیلم فجر امروز سه‌شنبه...   \n60580  در چهارمین روز از برگزاری جشنواره فیلم فجر علی...   \n60416  اختتامیه چهلمین جشنواره فیلم فجر با پخش سرود و...   \n67237  تصویری از فرشته حسینی و نوید محمدزاده در جشنوا...   \n60415  اختتامیه چهلمین جشنواره فیلم فجر با پخش سرود و...   \n60426  مراسم اختتامیه چهلمین جشنواره فیلم فجر به صورت...   \n60408  جایزه اصلی جشنواره فیلم فجر سیمرغ بلورین است. ...   \n\n                                                    body    category  \n59933  به گزارش همشهری آنلاین به نقل از روابط عمومی ج...     Culture  \n64420                      Valéry Hache/AFP/Getty Images  LifeSkills  \n67260  تصویری جدید از مهدی پاکدل و همسرش در جشنواره ف...  LifeSkills  \n59598  به گزارش همشهری آنلاین به نقل از روابط‌عمومی ج...     Culture  \n60580  به گزارش همشهری‌آنلاین، علی نصیریان از مهمانان...     Culture  \n60416  به گزارش همشهری آنلاین، برخی چهره های سینمایی ...     Culture  \n67237                                                     LifeSkills  \n60415  به گزارش همشهری آنلاین، سیمرغ های جشنواره چهلم...     Culture  \n60426  به گزارش همشهری آنلاین، چهلمین دوره جشنواره فی...     Culture  \n60408  به گزارش همشهری آنلاین، مجله برندگان ادوار جشن...     Culture  ",
      "text/html": "<div>\n<style scoped>\n    .dataframe tbody tr th:only-of-type {\n        vertical-align: middle;\n    }\n\n    .dataframe tbody tr th {\n        vertical-align: top;\n    }\n\n    .dataframe thead th {\n        text-align: right;\n    }\n</style>\n<table border=\"1\" class=\"dataframe\">\n  <thead>\n    <tr style=\"text-align: right;\">\n      <th></th>\n      <th>date</th>\n      <th>title</th>\n      <th>intro</th>\n      <th>body</th>\n      <th>category</th>\n    </tr>\n  </thead>\n  <tbody>\n    <tr>\n      <th>59933</th>\n      <td>سه‌شنبه ۲۸ دی ۱۴۰۰ - ۱۲:۳۵</td>\n      <td>فیلم‌های جشنواره فجر چهلم را کجا ببینیم؟</td>\n      <td>جداول نمایش سینماهای مردمی چهلمین جشنواره فیلم...</td>\n      <td>به گزارش همشهری آنلاین به نقل از روابط عمومی ج...</td>\n      <td>Culture</td>\n    </tr>\n    <tr>\n      <th>64420</th>\n      <td>یکشنبه ۲۷ تیر ۱۴۰۰ - ۰۱:۰۷</td>\n      <td>عکس روز | اسپایک لی در اختتامیه جشنواره کن</td>\n      <td>اسپایک لی، کارگردان آمریکایی و رئیس هیات داورا...</td>\n      <td>Valéry Hache/AFP/Getty Images</td>\n      <td>LifeSkills</td>\n    </tr>\n    <tr>\n      <th>67260</th>\n      <td>پنجشنبه ۱۴ بهمن ۱۴۰۰ - ۲۲:۲۸</td>\n      <td>عکس | لباسی که فرشته حسینی با آن به جشنواره فج...</td>\n      <td>تصویری از فرشته حسینی و حسین سلیمانی را در چهل...</td>\n      <td>تصویری جدید از مهدی پاکدل و همسرش در جشنواره ف...</td>\n      <td>LifeSkills</td>\n    </tr>\n    <tr>\n      <th>59598</th>\n      <td>سه‌شنبه ۳۰ آذر ۱۴۰۰ - ۱۲:۰۷</td>\n      <td>آخرین مهلت ثبت‌نام مستندسازان در جشنواره فیلم فجر</td>\n      <td>دبیرخانه چهلمین جشنواره فیلم فجر امروز سه‌شنبه...</td>\n      <td>به گزارش همشهری آنلاین به نقل از روابط‌عمومی ج...</td>\n      <td>Culture</td>\n    </tr>\n    <tr>\n      <th>60580</th>\n      <td>پنجشنبه ۱۴ بهمن ۱۴۰۰ - ۲۰:۵۸</td>\n      <td>عکس | بازیگر بزرگ سینمای ایران در جشنواره فیلم...</td>\n      <td>در چهارمین روز از برگزاری جشنواره فیلم فجر علی...</td>\n      <td>به گزارش همشهری‌آنلاین، علی نصیریان از مهمانان...</td>\n      <td>Culture</td>\n    </tr>\n    <tr>\n      <th>60416</th>\n      <td>جمعه ۲۲ بهمن ۱۴۰۰ - ۱۹:۵۳</td>\n      <td>تصاویر | چهره‌های سینمایی در اختتامیه چهلمین ج...</td>\n      <td>اختتامیه چهلمین جشنواره فیلم فجر با پخش سرود و...</td>\n      <td>به گزارش همشهری آنلاین، برخی چهره های سینمایی ...</td>\n      <td>Culture</td>\n    </tr>\n    <tr>\n      <th>67237</th>\n      <td>شنبه ۱۶ بهمن ۱۴۰۰ - ۱۸:۲۰</td>\n      <td>متفاوت‌ترین عکس مشترک از فرشته حسینی و نوید مح...</td>\n      <td>تصویری از فرشته حسینی و نوید محمدزاده در جشنوا...</td>\n      <td></td>\n      <td>LifeSkills</td>\n    </tr>\n    <tr>\n      <th>60415</th>\n      <td>جمعه ۲۲ بهمن ۱۴۰۰ - ۲۰:۲۴</td>\n      <td>تصویر شهید حاج قاسم سلیمانی روی سیمرغ‌های جشنو...</td>\n      <td>اختتامیه چهلمین جشنواره فیلم فجر با پخش سرود و...</td>\n      <td>به گزارش همشهری آنلاین، سیمرغ های جشنواره چهلم...</td>\n      <td>Culture</td>\n    </tr>\n    <tr>\n      <th>60426</th>\n      <td>جمعه ۲۲ بهمن ۱۴۰۰ - ۱۳:۰۰</td>\n      <td>مجری اختتامیه جشنواره فیلم فجر ۱۴۰۰  کیست؟</td>\n      <td>مراسم اختتامیه چهلمین جشنواره فیلم فجر به صورت...</td>\n      <td>به گزارش همشهری آنلاین، چهلمین دوره جشنواره فی...</td>\n      <td>Culture</td>\n    </tr>\n    <tr>\n      <th>60408</th>\n      <td>جمعه ۲۲ بهمن ۱۴۰۰ - ۲۳:۲۴</td>\n      <td>پیشنهاد روز: مجله برندگان ادوار جشنواره فیلم ف...</td>\n      <td>جایزه اصلی جشنواره فیلم فجر سیمرغ بلورین است. ...</td>\n      <td>به گزارش همشهری آنلاین، مجله برندگان ادوار جشن...</td>\n      <td>Culture</td>\n    </tr>\n  </tbody>\n</table>\n</div>"
     },
     "metadata": {},
     "output_type": "display_data"
    },
    {
     "name": "stdout",
     "output_type": "stream",
     "text": [
      "Query 9: رشد رمزارزها\n"
     ]
    },
    {
     "data": {
      "text/plain": "                                    date  \\\n19906     چهارشنبه ۲۶ خرداد ۱۴۰۰ - ۰۶:۴۰   \n63438   سه‌شنبه ۲۷ اردیبهشت ۱۴۰۱ - ۰۸:۱۰   \n67292      چهارشنبه ۱۳ بهمن ۱۴۰۰ - ۰۶:۵۰   \n23669         دوشنبه ۳ آبان ۱۴۰۰ - ۰۸:۲۸   \n63208          شنبه ۱۶ بهمن ۱۴۰۰ - ۱۲:۴۳   \n53939      پنجشنبه ۲۰ خرداد ۱۴۰۰ - ۰۹:۲۲   \n18781       جمعه ۲۷ فروردین ۱۴۰۰ - ۰۷:۰۰   \n54013      سه‌شنبه ۱۱ خرداد ۱۴۰۰ - ۱۲:۴۵   \n19440  چهارشنبه ۱۵ اردیبهشت ۱۴۰۰ - ۱۸:۳۷   \n63172          شنبه ۲۳ بهمن ۱۴۰۰ - ۱۸:۴۴   \n\n                                                   title  \\\n19906  معروفترین رمزارزهای جهان چگونه به وجود آمدند؟ ...   \n63438  تلاش رمزارزها برای فرار از بحران | صندوق پشتیب...   \n67292  اینفوگرافیک | خودروهای مورد علاقه مردم در سراس...   \n23669      خطر در کمین دارایی‌های رمزارز کاربران ایرانی‌   \n63208  هشدار در مورد پیامک‌های فیشینگ | بر روی آنها ک...   \n53939  دستگیری ۱۱۰۰ نفر در چین به اتهام پولشویی با ار...   \n18781  اینفوگرافیک ا کدام رمزارزها در حال رشد شدید هس...   \n54013                            دبی‌کوین، رمزارز خطرناک   \n19440       هشدار مهم بانک مرکزی به مردم درباره رمزارزها   \n63172    چطور با آیفون در ارز دیجیتال سرمایه‌گذاری کنیم؟   \n\n                                                   intro  \\\n19906  معروف‌ترین رمزارزهای جهان، از بیت‌کوین گرفته ت...   \n63438  صندوق پشتیبان رمزارز UST اعلام کرد تقریباً تما...   \n67292  خودروهای مورد علاقه مردم در سراسر جهان را در ا...   \n23669  شواهد حاکی از آن است که هر لحظه امکان مسدود شد...   \n63208  «چانگ‌پنگ ژائو» مدیرعامل صرافی دیجیتال بایننس ...   \n53939  وزارت امنیت عمومی چین اعلام کرد پلیس بیش از ۱۱...   \n18781  درصد تغییرات ارزش رمزارزها، سال ۲۰۲۱ را به سال...   \n54013  این روزها در محافل خبری رمزارزها، نام ارز جدید...   \n19440  بانک مرکزی در اطلاعیه‌ای اعلام کرد: طبق مصوبه ...   \n63172  با رشدی که بازار ارزهای دیجیتال در سال ۲۰۲۱ تج...   \n\n                                                    body    category  \n19906  همشهری- هدا عربشاهی: سال ۲۰۰۸ شخص یا اشخاصی با...     Economy  \n63438  به‌گزارش همشهری آنلاین به نقل از سی‌ان‌بی‌سی‌،...          IT  \n67292                                        منبع: تسنیم  LifeSkills  \n23669  همشهری- عمادالدین قاسمی‌پناه: چندی پیش وزارت خ...     Economy  \n63208  به گزارش همشهری آنلاین و به نقل از وب‌سایت کوی...          IT  \n53939  به گزارش همشهری آنلاین و به نقل از خبرگزاری رو...     Science  \n18781  به گزارش همشهری آنلاین به نقل از سایت تحلیلی ا...     Economy  \n54013  یکی از جدیدترین ارزهای دیجیتال که این روزها در...     Science  \n19440  به گزارش همشهری‌آنلاین، روابط عمومی بانک مرکزی...     Economy  \n63172  ارز دیجیتال چیست؟\\nارز دیجیتال در اصل یک نوع پ...          IT  ",
      "text/html": "<div>\n<style scoped>\n    .dataframe tbody tr th:only-of-type {\n        vertical-align: middle;\n    }\n\n    .dataframe tbody tr th {\n        vertical-align: top;\n    }\n\n    .dataframe thead th {\n        text-align: right;\n    }\n</style>\n<table border=\"1\" class=\"dataframe\">\n  <thead>\n    <tr style=\"text-align: right;\">\n      <th></th>\n      <th>date</th>\n      <th>title</th>\n      <th>intro</th>\n      <th>body</th>\n      <th>category</th>\n    </tr>\n  </thead>\n  <tbody>\n    <tr>\n      <th>19906</th>\n      <td>چهارشنبه ۲۶ خرداد ۱۴۰۰ - ۰۶:۴۰</td>\n      <td>معروفترین رمزارزهای جهان چگونه به وجود آمدند؟ ...</td>\n      <td>معروف‌ترین رمزارزهای جهان، از بیت‌کوین گرفته ت...</td>\n      <td>همشهری- هدا عربشاهی: سال ۲۰۰۸ شخص یا اشخاصی با...</td>\n      <td>Economy</td>\n    </tr>\n    <tr>\n      <th>63438</th>\n      <td>سه‌شنبه ۲۷ اردیبهشت ۱۴۰۱ - ۰۸:۱۰</td>\n      <td>تلاش رمزارزها برای فرار از بحران | صندوق پشتیب...</td>\n      <td>صندوق پشتیبان رمزارز UST اعلام کرد تقریباً تما...</td>\n      <td>به‌گزارش همشهری آنلاین به نقل از سی‌ان‌بی‌سی‌،...</td>\n      <td>IT</td>\n    </tr>\n    <tr>\n      <th>67292</th>\n      <td>چهارشنبه ۱۳ بهمن ۱۴۰۰ - ۰۶:۵۰</td>\n      <td>اینفوگرافیک | خودروهای مورد علاقه مردم در سراس...</td>\n      <td>خودروهای مورد علاقه مردم در سراسر جهان را در ا...</td>\n      <td>منبع: تسنیم</td>\n      <td>LifeSkills</td>\n    </tr>\n    <tr>\n      <th>23669</th>\n      <td>دوشنبه ۳ آبان ۱۴۰۰ - ۰۸:۲۸</td>\n      <td>خطر در کمین دارایی‌های رمزارز کاربران ایرانی‌</td>\n      <td>شواهد حاکی از آن است که هر لحظه امکان مسدود شد...</td>\n      <td>همشهری- عمادالدین قاسمی‌پناه: چندی پیش وزارت خ...</td>\n      <td>Economy</td>\n    </tr>\n    <tr>\n      <th>63208</th>\n      <td>شنبه ۱۶ بهمن ۱۴۰۰ - ۱۲:۴۳</td>\n      <td>هشدار در مورد پیامک‌های فیشینگ | بر روی آنها ک...</td>\n      <td>«چانگ‌پنگ ژائو» مدیرعامل صرافی دیجیتال بایننس ...</td>\n      <td>به گزارش همشهری آنلاین و به نقل از وب‌سایت کوی...</td>\n      <td>IT</td>\n    </tr>\n    <tr>\n      <th>53939</th>\n      <td>پنجشنبه ۲۰ خرداد ۱۴۰۰ - ۰۹:۲۲</td>\n      <td>دستگیری ۱۱۰۰ نفر در چین به اتهام پولشویی با ار...</td>\n      <td>وزارت امنیت عمومی چین اعلام کرد پلیس بیش از ۱۱...</td>\n      <td>به گزارش همشهری آنلاین و به نقل از خبرگزاری رو...</td>\n      <td>Science</td>\n    </tr>\n    <tr>\n      <th>18781</th>\n      <td>جمعه ۲۷ فروردین ۱۴۰۰ - ۰۷:۰۰</td>\n      <td>اینفوگرافیک ا کدام رمزارزها در حال رشد شدید هس...</td>\n      <td>درصد تغییرات ارزش رمزارزها، سال ۲۰۲۱ را به سال...</td>\n      <td>به گزارش همشهری آنلاین به نقل از سایت تحلیلی ا...</td>\n      <td>Economy</td>\n    </tr>\n    <tr>\n      <th>54013</th>\n      <td>سه‌شنبه ۱۱ خرداد ۱۴۰۰ - ۱۲:۴۵</td>\n      <td>دبی‌کوین، رمزارز خطرناک</td>\n      <td>این روزها در محافل خبری رمزارزها، نام ارز جدید...</td>\n      <td>یکی از جدیدترین ارزهای دیجیتال که این روزها در...</td>\n      <td>Science</td>\n    </tr>\n    <tr>\n      <th>19440</th>\n      <td>چهارشنبه ۱۵ اردیبهشت ۱۴۰۰ - ۱۸:۳۷</td>\n      <td>هشدار مهم بانک مرکزی به مردم درباره رمزارزها</td>\n      <td>بانک مرکزی در اطلاعیه‌ای اعلام کرد: طبق مصوبه ...</td>\n      <td>به گزارش همشهری‌آنلاین، روابط عمومی بانک مرکزی...</td>\n      <td>Economy</td>\n    </tr>\n    <tr>\n      <th>63172</th>\n      <td>شنبه ۲۳ بهمن ۱۴۰۰ - ۱۸:۴۴</td>\n      <td>چطور با آیفون در ارز دیجیتال سرمایه‌گذاری کنیم؟</td>\n      <td>با رشدی که بازار ارزهای دیجیتال در سال ۲۰۲۱ تج...</td>\n      <td>ارز دیجیتال چیست؟\\nارز دیجیتال در اصل یک نوع پ...</td>\n      <td>IT</td>\n    </tr>\n  </tbody>\n</table>\n</div>"
     },
     "metadata": {},
     "output_type": "display_data"
    },
    {
     "name": "stdout",
     "output_type": "stream",
     "text": [
      "Query 10: روش پخت غذا\n"
     ]
    },
    {
     "data": {
      "text/plain": "                                 date  \\\n65959    سه‌شنبه ۱۸ آبان ۱۴۰۰ - ۰۹:۵۸   \n67728   چهارشنبه ۴ اسفند ۱۴۰۰ - ۱۴:۴۴   \n67608    یکشنبه ۱۵ اسفند ۱۴۰۰ - ۰۹:۵۶   \n65868   چهارشنبه ۲۶ آبان ۱۴۰۰ - ۰۷:۳۹   \n66414      دوشنبه ۱۵ آذر ۱۴۰۰ - ۲۰:۰۸   \n67685     یکشنبه ۸ اسفند ۱۴۰۰ - ۱۹:۱۸   \n65308     شنبه ۱۳ شهریور ۱۴۰۰ - ۱۰:۲۲   \n64859  چهارشنبه ۲۰ مرداد ۱۴۰۰ - ۱۸:۴۵   \n66837       دوشنبه ۱۳ دی ۱۴۰۰ - ۲۳:۰۱   \n64836      جمعه ۲۲ مرداد ۱۴۰۰ - ۱۷:۱۶   \n\n                                                   title  \\\n65959             طرز تهیه لوبیا و گوشت؛ غذای محلی کاشان   \n67728       چی بپزم؟ | طرز تهیه ۶ غذای خوشمزه با بادمجان   \n67608  چی بپزیم؟ | طرز تهیه ۶ غذای بدون برنج و آبکی ب...   \n65868        چی بپزیم؟ | طرز تهیه ۷ غذای ساده برای ناهار   \n66414  چی بپزم؟ | طرز تهیه ۵ غذای ساده و راحت برای شا...   \n67685  چی بپزم؟ | طرز تهیه ۵ غذای راحت بدون برنج | غذ...   \n65308  طرز تهیه خمیر جادویی؛ مناسب برای پخت انواع پیر...   \n64859  طرز تهیه نخودآب | این خوراک مقوی و خوشمزه را ف...   \n66837  یک اشتباه رایج هنگام پخت ماکارونی از زبان ایتا...   \n64836  طرز تهیه دمپختک | غذایی خوشمزه که در سریع‌ترین...   \n\n                                                   intro  \\\n65959  برخی غذاهای کاشان بسیار خوشمزه است و افرادی که...   \n67728  طرز تهیه انواع غذا با بادمجان در تمام فصول سال...   \n67608  ناهار چی بپزم؟ این سوالی است که تمام خانم‌ها ه...   \n65868  اگر شما هم یک خانم خانه‌دار هستید و از همان صب...   \n66414  معمولا از همان صبح به محض اینکه از خواب بیدار ...   \n67685  ناهار چی بپزم؟ این سوالی است که تمام خانم‌ها ه...   \n65308  طرز تهیه خمیر جادویی را بخوانید تا با آن غذاها...   \n64859  نخودآب، نخوداب یا نخود آب یک غذای بسیار مقوی و...   \n66837  آب‌پز کردن ماکارونی ساده‌ترین تکنیک‌ آشپزی است...   \n64836  دمپختک از آن غذاهایی است که با گذشت زمان و تفا...   \n\n                                                    body    category  \n65959  به گزارش همشهری آنلاین به نقل از ایرنا، اگر شم...  LifeSkills  \n67728  به گزارش همشهری آنلاین، بادمجان یکی از صیفی‌جا...  LifeSkills  \n67608  به گزارش همشهری آنلاین، ناهار چی بپزم؟ این سوا...  LifeSkills  \n65868  به گزارش همشهری آنلاین، اگر شما هم خانه‌دار هس...  LifeSkills  \n66414  به گزارش همشهری آنلاین، چه خانه‌دار باشید چه ش...  LifeSkills  \n67685  به گزارش همشهری آنلاین، برای تمام کدبانوها این...  LifeSkills  \n65308  به گزارش همشهری آنلاین به نقل از ایرنا، مطمئنا...  LifeSkills  \n64859  به گزارش همشهری آنلاین به نقل از ایرنا، نخودآب...  LifeSkills  \n66837  به گزارش همشهری آنلاین، ماکارونی ساده‌ترین و ر...  LifeSkills  \n64836  به گزارش همشهری آنلاین به نقل از ایرنا، دمپختک...  LifeSkills  ",
      "text/html": "<div>\n<style scoped>\n    .dataframe tbody tr th:only-of-type {\n        vertical-align: middle;\n    }\n\n    .dataframe tbody tr th {\n        vertical-align: top;\n    }\n\n    .dataframe thead th {\n        text-align: right;\n    }\n</style>\n<table border=\"1\" class=\"dataframe\">\n  <thead>\n    <tr style=\"text-align: right;\">\n      <th></th>\n      <th>date</th>\n      <th>title</th>\n      <th>intro</th>\n      <th>body</th>\n      <th>category</th>\n    </tr>\n  </thead>\n  <tbody>\n    <tr>\n      <th>65959</th>\n      <td>سه‌شنبه ۱۸ آبان ۱۴۰۰ - ۰۹:۵۸</td>\n      <td>طرز تهیه لوبیا و گوشت؛ غذای محلی کاشان</td>\n      <td>برخی غذاهای کاشان بسیار خوشمزه است و افرادی که...</td>\n      <td>به گزارش همشهری آنلاین به نقل از ایرنا، اگر شم...</td>\n      <td>LifeSkills</td>\n    </tr>\n    <tr>\n      <th>67728</th>\n      <td>چهارشنبه ۴ اسفند ۱۴۰۰ - ۱۴:۴۴</td>\n      <td>چی بپزم؟ | طرز تهیه ۶ غذای خوشمزه با بادمجان</td>\n      <td>طرز تهیه انواع غذا با بادمجان در تمام فصول سال...</td>\n      <td>به گزارش همشهری آنلاین، بادمجان یکی از صیفی‌جا...</td>\n      <td>LifeSkills</td>\n    </tr>\n    <tr>\n      <th>67608</th>\n      <td>یکشنبه ۱۵ اسفند ۱۴۰۰ - ۰۹:۵۶</td>\n      <td>چی بپزیم؟ | طرز تهیه ۶ غذای بدون برنج و آبکی ب...</td>\n      <td>ناهار چی بپزم؟ این سوالی است که تمام خانم‌ها ه...</td>\n      <td>به گزارش همشهری آنلاین، ناهار چی بپزم؟ این سوا...</td>\n      <td>LifeSkills</td>\n    </tr>\n    <tr>\n      <th>65868</th>\n      <td>چهارشنبه ۲۶ آبان ۱۴۰۰ - ۰۷:۳۹</td>\n      <td>چی بپزیم؟ | طرز تهیه ۷ غذای ساده برای ناهار</td>\n      <td>اگر شما هم یک خانم خانه‌دار هستید و از همان صب...</td>\n      <td>به گزارش همشهری آنلاین، اگر شما هم خانه‌دار هس...</td>\n      <td>LifeSkills</td>\n    </tr>\n    <tr>\n      <th>66414</th>\n      <td>دوشنبه ۱۵ آذر ۱۴۰۰ - ۲۰:۰۸</td>\n      <td>چی بپزم؟ | طرز تهیه ۵ غذای ساده و راحت برای شا...</td>\n      <td>معمولا از همان صبح به محض اینکه از خواب بیدار ...</td>\n      <td>به گزارش همشهری آنلاین، چه خانه‌دار باشید چه ش...</td>\n      <td>LifeSkills</td>\n    </tr>\n    <tr>\n      <th>67685</th>\n      <td>یکشنبه ۸ اسفند ۱۴۰۰ - ۱۹:۱۸</td>\n      <td>چی بپزم؟ | طرز تهیه ۵ غذای راحت بدون برنج | غذ...</td>\n      <td>ناهار چی بپزم؟ این سوالی است که تمام خانم‌ها ه...</td>\n      <td>به گزارش همشهری آنلاین، برای تمام کدبانوها این...</td>\n      <td>LifeSkills</td>\n    </tr>\n    <tr>\n      <th>65308</th>\n      <td>شنبه ۱۳ شهریور ۱۴۰۰ - ۱۰:۲۲</td>\n      <td>طرز تهیه خمیر جادویی؛ مناسب برای پخت انواع پیر...</td>\n      <td>طرز تهیه خمیر جادویی را بخوانید تا با آن غذاها...</td>\n      <td>به گزارش همشهری آنلاین به نقل از ایرنا، مطمئنا...</td>\n      <td>LifeSkills</td>\n    </tr>\n    <tr>\n      <th>64859</th>\n      <td>چهارشنبه ۲۰ مرداد ۱۴۰۰ - ۱۸:۴۵</td>\n      <td>طرز تهیه نخودآب | این خوراک مقوی و خوشمزه را ف...</td>\n      <td>نخودآب، نخوداب یا نخود آب یک غذای بسیار مقوی و...</td>\n      <td>به گزارش همشهری آنلاین به نقل از ایرنا، نخودآب...</td>\n      <td>LifeSkills</td>\n    </tr>\n    <tr>\n      <th>66837</th>\n      <td>دوشنبه ۱۳ دی ۱۴۰۰ - ۲۳:۰۱</td>\n      <td>یک اشتباه رایج هنگام پخت ماکارونی از زبان ایتا...</td>\n      <td>آب‌پز کردن ماکارونی ساده‌ترین تکنیک‌ آشپزی است...</td>\n      <td>به گزارش همشهری آنلاین، ماکارونی ساده‌ترین و ر...</td>\n      <td>LifeSkills</td>\n    </tr>\n    <tr>\n      <th>64836</th>\n      <td>جمعه ۲۲ مرداد ۱۴۰۰ - ۱۷:۱۶</td>\n      <td>طرز تهیه دمپختک | غذایی خوشمزه که در سریع‌ترین...</td>\n      <td>دمپختک از آن غذاهایی است که با گذشت زمان و تفا...</td>\n      <td>به گزارش همشهری آنلاین به نقل از ایرنا، دمپختک...</td>\n      <td>LifeSkills</td>\n    </tr>\n  </tbody>\n</table>\n</div>"
     },
     "metadata": {},
     "output_type": "display_data"
    }
   ],
   "source": [
    "for i, query in enumerate(QUERIES):\n",
    "    print(f\"Query {i + 1}: {query}\")\n",
    "    display(transformer_model.predict(query, dataset, k=10))"
   ],
   "metadata": {
    "pycharm": {
     "name": "#%%\n"
    },
    "id": "iZomGDa9DSCY",
    "outputId": "833b1b3b-d8cf-4282-9819-264443f48677"
   }
  },
  {
   "cell_type": "markdown",
   "source": [
    "<div dir=\"auto\" align=\"justify\">\n",
    "    <p style='direction:rtl;text-align:justify;'>\n",
    "        با اجرای قطعه کد زیر، نتیجه‌ی پردازش کوئری‌های پیچیده‌تری را مشاهده می‌کنیم.\n",
    "    </p>\n",
    "</div>"
   ],
   "metadata": {
    "collapsed": false
   }
  },
  {
   "cell_type": "code",
   "execution_count": 245,
   "outputs": [
    {
     "name": "stdout",
     "output_type": "stream",
     "text": [
      "Complex Query: چه رژیمی برای لاغری مناسب است؟\n"
     ]
    },
    {
     "data": {
      "text/plain": "                               date  \\\n66533     یکشنبه ۷ آذر ۱۴۰۰ - ۰۶:۵۶   \n66210    یکشنبه ۲۸ آذر ۱۴۰۰ - ۲۳:۳۵   \n67070  پنجشنبه ۲۸ بهمن ۱۴۰۰ - ۰۰:۱۱   \n7731    سه‌شنبه ۲۰ مهر ۱۴۰۰ - ۲۲:۵۹   \n66602    پنجشنبه ۳۰ دی ۱۴۰۰ - ۲۲:۴۱   \n\n                                                   title  \\\n66533                          خواص لوبیا سبز برای لاغری   \n66210              بهترین رژیم غذایی برای کاهش وزن چیست؟   \n67070             بهترین نوشیدنی برای پیشگیری از کبد چرب   \n7731   انتشار لحظاتی دیدنی از پیروزی‌ قهرمانان کشتی ر...   \n66602  این ساعت هر چه خواستید غذا بخورید تا دو برابر ...   \n\n                                                   intro  \\\n66533  با گنجاندن لوبیا سبز در رژیم غذایی روزانه خود ...   \n66210  بسیاری از فرهنگ‌ها و کشورها در سراسر جهان رژیم...   \n67070  یک فوق تخصص گوارش و کبد بزرگسالان درباره بهتری...   \n7731   پایگاه اطلاع‌رسانی KHAMENEI.IR به مناسبت موفقی...   \n66602  جدیدترین تحقیقات نشان می‌دهد که خوردن و نخوردن...   \n\n                                                    body    category  \n66533  به گزارش همشهری آنلاین به نقل از خبرگزاری صداو...  LifeSkills  \n66210  به گزارش همشهری آنلاین به نقل از خبر آنلاین، ب...  LifeSkills  \n67070  به گزارش همشهری آنلاین به نقل از ایرنا، دکتر ش...  LifeSkills  \n7731   به گزارش همشهری آنلاین در این نماهنگ بخشی از ب...    Politics  \n66602  به گزارش همشهری آنلاین به نقل از عصر ایران، به...  LifeSkills  ",
      "text/html": "<div>\n<style scoped>\n    .dataframe tbody tr th:only-of-type {\n        vertical-align: middle;\n    }\n\n    .dataframe tbody tr th {\n        vertical-align: top;\n    }\n\n    .dataframe thead th {\n        text-align: right;\n    }\n</style>\n<table border=\"1\" class=\"dataframe\">\n  <thead>\n    <tr style=\"text-align: right;\">\n      <th></th>\n      <th>date</th>\n      <th>title</th>\n      <th>intro</th>\n      <th>body</th>\n      <th>category</th>\n    </tr>\n  </thead>\n  <tbody>\n    <tr>\n      <th>66533</th>\n      <td>یکشنبه ۷ آذر ۱۴۰۰ - ۰۶:۵۶</td>\n      <td>خواص لوبیا سبز برای لاغری</td>\n      <td>با گنجاندن لوبیا سبز در رژیم غذایی روزانه خود ...</td>\n      <td>به گزارش همشهری آنلاین به نقل از خبرگزاری صداو...</td>\n      <td>LifeSkills</td>\n    </tr>\n    <tr>\n      <th>66210</th>\n      <td>یکشنبه ۲۸ آذر ۱۴۰۰ - ۲۳:۳۵</td>\n      <td>بهترین رژیم غذایی برای کاهش وزن چیست؟</td>\n      <td>بسیاری از فرهنگ‌ها و کشورها در سراسر جهان رژیم...</td>\n      <td>به گزارش همشهری آنلاین به نقل از خبر آنلاین، ب...</td>\n      <td>LifeSkills</td>\n    </tr>\n    <tr>\n      <th>67070</th>\n      <td>پنجشنبه ۲۸ بهمن ۱۴۰۰ - ۰۰:۱۱</td>\n      <td>بهترین نوشیدنی برای پیشگیری از کبد چرب</td>\n      <td>یک فوق تخصص گوارش و کبد بزرگسالان درباره بهتری...</td>\n      <td>به گزارش همشهری آنلاین به نقل از ایرنا، دکتر ش...</td>\n      <td>LifeSkills</td>\n    </tr>\n    <tr>\n      <th>7731</th>\n      <td>سه‌شنبه ۲۰ مهر ۱۴۰۰ - ۲۲:۵۹</td>\n      <td>انتشار لحظاتی دیدنی از پیروزی‌ قهرمانان کشتی ر...</td>\n      <td>پایگاه اطلاع‌رسانی KHAMENEI.IR به مناسبت موفقی...</td>\n      <td>به گزارش همشهری آنلاین در این نماهنگ بخشی از ب...</td>\n      <td>Politics</td>\n    </tr>\n    <tr>\n      <th>66602</th>\n      <td>پنجشنبه ۳۰ دی ۱۴۰۰ - ۲۲:۴۱</td>\n      <td>این ساعت هر چه خواستید غذا بخورید تا دو برابر ...</td>\n      <td>جدیدترین تحقیقات نشان می‌دهد که خوردن و نخوردن...</td>\n      <td>به گزارش همشهری آنلاین به نقل از عصر ایران، به...</td>\n      <td>LifeSkills</td>\n    </tr>\n  </tbody>\n</table>\n</div>"
     },
     "metadata": {},
     "output_type": "display_data"
    }
   ],
   "source": [
    "for query in COMPLEX_QUERIES:\n",
    "    print(f\"Complex Query: {query}\")\n",
    "    display(transformer_model.predict(query, dataset, k=3))"
   ],
   "metadata": {
    "collapsed": false,
    "pycharm": {
     "name": "#%%\n"
    }
   }
  },
  {
   "cell_type": "markdown",
   "metadata": {
    "id": "emhsgEWHDSCY"
   },
   "source": [
    "<div>\n",
    "    <h4 style='direction:rtl;text-align:justify;'>\n",
    "        ٤. مدل مبتنی بر میانگین وزن‌دار بردارهای تعبیه، مانند FastText\n",
    "    </h4>\n",
    "</div>\n",
    "\n",
    "<div dir=\"auto\" align=\"justify\">\n",
    "    <p style='direction:rtl;text-align:justify;'>\n",
    "        در این بخش، از کتاب‌خانه‌ی fasttext استفاده می‌کنیم و با استفاده از روش skipgram و یک فایل شامل داده‌های موجود اخبار، مدل را به صورت unsupervised به یادگیری وامی‌داریم. پارامترهای استفاده شده‌ی دیگر هم در کد مشخصند؛ به طور مثال، کمینه و بیشینه n را برابر ۲ و ۵ در نظر گرفته‌ایم. پس از انجام یادگیری، میانگین امبدینگ‌ها را در یک آرایه‌ی نامپای ذخیره می‌کنیم. تمام این کارها با صدا زدن متد prepare با حالت train\n",
    "        رخ می‌دهند. همچنین می‌توانیم این متد را با حالت load صدا بزنیم تا یک مدل ذخیره شده را از فایل بازیابی کنیم.\n",
    "    </p>\n",
    "    <p style='direction:rtl;text-align:justify;'>\n",
    "        علاوه بر این، می‌توانیم با استفاده از متدهای save_FastText_model و load_FastText_model این مدل و جزئیاتش را ذخیره یا بازیابی کنیم. البته اگر بخواهیم عمل ذخیره را بلافاصله پس از پایان یادگیری انجام دهیم هم می‌توانیم مقدار True را به آرگومان save در متد prepare بدهیم.\n",
    "    </p>\n",
    "    <p style='direction:rtl;text-align:justify;'>\n",
    "        پس از پایان یادگیری یا بازیابی مدل یادگرفته شده از فایل ذخیره شده، می‌توانیم با استفاده از متد predict به تعداد دلخواه خبر مرتبط به درخواستمان را به دست بیاوریم. برای این کار، مدلمان بردارهای مربوط به درخواست را به دست می‌آورد و با محاسبه‌ی کسینوس‌ها و به دست آوردن میزان شباهت بین درخواست و خبرهای موجود، شبیه‌ترین خبرها را خروجی می‌دهد.\n",
    "    </p>\n",
    "</div>"
   ]
  },
  {
   "cell_type": "code",
   "execution_count": null,
   "metadata": {
    "id": "6coHV2SJDSCZ"
   },
   "outputs": [],
   "source": [
    "class FastText:\n",
    "\n",
    "    def __init__(self, preprocessor=None, method='skipgram'):\n",
    "        self.method = method\n",
    "        self.mean_embed = []\n",
    "        self.model = None\n",
    "        self.preprocessor = preprocessor\n",
    "\n",
    "    def train(self, texts):\n",
    "        with open('FastText_train.txt', 'w', encoding='utf-8') as file:\n",
    "            file.write('\\n'.join(list(map(lambda doc: ' '.join(doc), texts))))\n",
    "        self.model = fasttext.train_unsupervised('FastText_train.txt', self.method, minn=2, maxn=5, wordNgrams=10)\n",
    "        os.remove('FastText_train.txt')\n",
    "        self.mean_embed = list(map(lambda doc:\n",
    "                                   np.mean(list(map(lambda word:\n",
    "                                                    self.model.get_word_vector(word), doc)), axis=0), texts))\n",
    "        self.mean_embed = np.array(self.mean_embed)\n",
    "\n",
    "    def predict(self, query, dataset, k):\n",
    "        if self.preprocessor:\n",
    "            query = self.preprocessor.preprocess(query)\n",
    "        if type(query) == str:\n",
    "            query = query.split()\n",
    "        query_embed = np.mean(list(map(lambda word: self.model.get_word_vector(word), query)), axis=0)\n",
    "        dataset_sim = np.array(list(map(lambda doc: self.cosine_sim(query_embed, doc), self.mean_embed)))\n",
    "        idx = np.argsort(-dataset_sim)\n",
    "        return dataset.iloc[list(idx[:k])]\n",
    "\n",
    "    def cosine_sim(self, query, doc):\n",
    "        return np.dot(query, doc) / (np.linalg.norm(query) * np.linalg.norm(doc))\n",
    "\n",
    "    def save_FastText_model(self, path='FastText_model.bin'):\n",
    "        self.model.save_model(path)\n",
    "        np.save('FastText_mean_embed.npy', self.mean_embed)\n",
    "\n",
    "    def load_FastText_model(self, path=\"FastText_model.bin\"):\n",
    "        self.model = fasttext.load_model(path)\n",
    "        self.mean_embed = np.load('FastText_mean_embed.npy')\n",
    "\n",
    "    def prepare(self, dataset, mode, save=False):\n",
    "        if mode == 'train':\n",
    "            self.train(dataset)\n",
    "        if mode == 'load':\n",
    "            self.load_FastText_model()\n",
    "        if save:\n",
    "            self.save_FastText_model()"
   ]
  },
  {
   "cell_type": "markdown",
   "source": [
    "<div dir=\"auto\" align=\"justify\">\n",
    "    <p style='direction:rtl;text-align:justify;'>\n",
    "        با اجرای قطعه کد زیر، یک instance از مدل FastText ایجاد کرده و شروع به یادگیری داده‌ها و یا خواندن مدل ذخیره شده از روی فایل می‌کنیم.\n",
    "    </p>\n",
    "</div>"
   ],
   "metadata": {
    "collapsed": false
   }
  },
  {
   "cell_type": "code",
   "execution_count": null,
   "metadata": {
    "id": "rLxjzX57DSCa"
   },
   "outputs": [],
   "source": [
    "FastText_model = FastText()\n",
    "FastText_model.prepare(mini_preprocessed_texts, mode='load', save=False)"
   ]
  },
  {
   "cell_type": "markdown",
   "source": [
    "<div dir=\"auto\" align=\"justify\">\n",
    "    <p style='direction:rtl;text-align:justify;'>\n",
    "        با اجرای قطعه کد زیر، نتیجه‌ی پردازش کوئری‌های مشخص شده را مشاهده می‌کنیم.\n",
    "    </p>\n",
    "</div>"
   ],
   "metadata": {
    "collapsed": false
   }
  },
  {
   "cell_type": "code",
   "execution_count": null,
   "outputs": [],
   "source": [
    "for i, query in enumerate(QUERIES):\n",
    "    print(f\"Query {i + 1}: {query}\")\n",
    "    display(FastText_model.predict(query, mini_dataset, k=10))"
   ],
   "metadata": {
    "collapsed": false,
    "pycharm": {
     "name": "#%%\n"
    }
   }
  },
  {
   "cell_type": "markdown",
   "source": [
    "<div dir=\"auto\" align=\"justify\">\n",
    "    <p style='direction:rtl;text-align:justify;'>\n",
    "        با اجرای قطعه کد زیر، نتیجه‌ی پردازش کوئری‌های پیچیده‌تری را مشاهده می‌کنیم.\n",
    "    </p>\n",
    "</div>"
   ],
   "metadata": {
    "collapsed": false
   }
  },
  {
   "cell_type": "code",
   "execution_count": null,
   "outputs": [],
   "source": [
    "for query in COMPLEX_QUERIES:\n",
    "    print(f\"Complex Query: {query}\")\n",
    "    display(FastText_model.predict(query, mini_dataset, k=3))"
   ],
   "metadata": {
    "collapsed": false,
    "pycharm": {
     "name": "#%%\n"
    }
   }
  },
  {
   "cell_type": "markdown",
   "source": [
    "<div dir=\"auto\" align=\"justify\">\n",
    "    <p style='direction:rtl;text-align:justify;'>\n",
    "        از این که وقت ارزشمند خود را برای بررسی این نوتبوک صرف کرده‌اید، صمیمانه سپاسگزاریم. (:\n",
    "    </p>\n",
    "</div>"
   ],
   "metadata": {
    "collapsed": false
   }
  }
 ],
 "metadata": {
  "interpreter": {
   "hash": "aee8b7b246df8f9039afb4144a1f6fd8d2ca17a180786b69acc140d282b71a49"
  },
  "kernelspec": {
   "display_name": "Python 3 (ipykernel)",
   "language": "python",
   "name": "python3"
  },
  "language_info": {
   "codemirror_mode": {
    "name": "ipython",
    "version": 3
   },
   "file_extension": ".py",
   "mimetype": "text/x-python",
   "name": "python",
   "nbconvert_exporter": "python",
   "pygments_lexer": "ipython3",
   "version": "3.8.1"
  },
  "colab": {
   "name": "News-Search-Engine.ipynb",
   "provenance": [],
   "collapsed_sections": []
  }
 },
 "nbformat": 4,
 "nbformat_minor": 0
}